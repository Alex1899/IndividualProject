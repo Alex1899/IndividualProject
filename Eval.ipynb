{
 "cells": [
  {
   "cell_type": "code",
   "execution_count": 1,
   "metadata": {},
   "outputs": [],
   "source": [
    "from Evaluation import evaluate_form\n",
    "from Parser import parse_frames\n",
    "import os\n",
    "import glob"
   ]
  },
  {
   "cell_type": "code",
   "execution_count": 2,
   "metadata": {
    "scrolled": false
   },
   "outputs": [
    {
     "name": "stdout",
     "output_type": "stream",
     "text": [
      "Starting Bicep Curl Analysis...\n",
      "Detected side: front\n",
      "\n",
      "Analysing each repetition below: \n",
      "\n",
      "\n",
      "----------------------------------------------------------------------------------------------------\n",
      "Repetition 1\n",
      "----------------------------------------------------------------------------------------------------\n",
      "Good Form: Your forearms are almost perpendicular to your upper arms.\n",
      "\n",
      "Bad Form: Your left elbow is moved down significantly compared to your right.\n",
      "Fix: Focus on having your elbows at equal angles to your torso in order to avoid muscular imbalances.\n",
      "\n",
      "Good Form: The weight was brought up high enough.\n",
      "\n",
      "\n",
      "Repetition form could be improved.\n",
      "\n",
      "\n",
      "----------------------------------------------------------------------------------------------------\n",
      "Repetition 2\n",
      "----------------------------------------------------------------------------------------------------\n",
      "Good Form: Your forearms are almost perpendicular to your upper arms.\n",
      "\n",
      "Bad Form: Your left elbow is moved down significantly compared to your right.\n",
      "Fix: Focus on having your elbows at equal angles to your torso in order to avoid muscular imbalances.\n",
      "\n",
      "Good Form: The weight was brought up high enough.\n",
      "\n",
      "\n",
      "Repetition form could be improved.\n",
      "\n",
      "\n",
      "----------------------------------------------------------------------------------------------------\n",
      "Decision: Incorrect Form! Your technique can be improved. Take a look at the feedback above to see \n",
      "----------------------------------------------------------------------------------------------------\n",
      "None\n"
     ]
    }
   ],
   "source": [
    "#test_video = \"C:\\\\Users\\\\altaok\\\\Documents\\\\GitHub\\\\IndividualProject\\\\keypoints_for_all\\\\triceps pushdown\\\\triceps_pushdown_correct_20\"\n",
    "#test_video = \"C:\\\\Users\\\\ak5u16\\\\Desktop\\\\IndividualProject\\\\keypoints_for_all\\\\triceps pushdown\\\\triceps_pushdown_incorrect_9\"\n",
    "#test_video = \"C:\\\\Users\\\\ak5u16\\\\Desktop\\\\IndividualProject\\\\keypoints_for_all\\\\shoulder press\\\\shoulder_press_incorrect_16\"\n",
    "input_folder = \"C:\\\\Users\\\\altaok\\\\Documents\\\\GitHub\\\\IndividualProject\\\\keypoints_for_all\\\\shoulder press\"\n",
    "folder_paths = glob.glob(os.path.join(input_folder, 'output*'))  \n",
    "\n",
    "\n",
    "for test_video in folder_paths:\n",
    "    video_name = os.path.basename(test_video)\n",
    "    points_folder_name = video_name.split('.', 1)[0]\n",
    "    folder = video_name.split('_', 2)[0] + ' ' + video_name.split('_', 2)[1]\n",
    "\n",
    "    frame_pose = parse_frames(test_video)\n",
    "\n",
    "    print(evaluate_form(frame_pose, os.path.basename(input_folder), True))"
   ]
  },
  {
   "cell_type": "code",
   "execution_count": null,
   "metadata": {},
   "outputs": [],
   "source": []
  }
 ],
 "metadata": {
  "kernelspec": {
   "display_name": "Python 3",
   "language": "python",
   "name": "python3"
  },
  "language_info": {
   "codemirror_mode": {
    "name": "ipython",
    "version": 3
   },
   "file_extension": ".py",
   "mimetype": "text/x-python",
   "name": "python",
   "nbconvert_exporter": "python",
   "pygments_lexer": "ipython3",
   "version": "3.7.4"
  }
 },
 "nbformat": 4,
 "nbformat_minor": 2
}
