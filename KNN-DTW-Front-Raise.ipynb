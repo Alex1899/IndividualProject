{
 "cells": [
  {
   "cell_type": "code",
   "execution_count": 1,
   "metadata": {},
   "outputs": [],
   "source": [
    "from tslearn.neighbors import KNeighborsTimeSeriesClassifier\n",
    "from Parser import parse_frames\n",
    "from scipy.signal import medfilt\n",
    "from Functions import analyse_each_rep, find_extremas\n",
    "from JointAngles import JointAngles\n",
    "import numpy as np\n",
    "import glob\n",
    "import os\n",
    "import pickle\n",
    "import pandas as pd\n",
    "from functools import reduce\n"
   ]
  },
  {
   "cell_type": "code",
   "execution_count": 2,
   "metadata": {},
   "outputs": [],
   "source": [
    "# input_folder = \"C:\\\\Users\\\\altaok\\\\Documents\\\\GitHub\\\\IndividualProject\\\\keypoints_for_all\\\\shoulder press\"\n",
    "input_folder = 'C:\\\\Users\\\\ak5u16\\\\Desktop\\\\IndividualProject\\\\keypoints_for_all\\\\front raise'\n",
    "folder_paths = glob.glob(os.path.join(input_folder, 'front_raise*'))\n",
    "points_folder_name = os.path.basename(input_folder)\n",
    "\n",
    "\n",
    "def get_data_for_dataset(folder_paths, points_folder_name):\n",
    "    angle_arrays = []\n",
    "    for folder in folder_paths:\n",
    "        video_name = os.path.basename(folder)\n",
    "        label = 0 if 'correct' in folder else 1\n",
    "        frame_poses = parse_frames(folder)\n",
    "        joint_angles = JointAngles(points_folder_name, frame_poses)\n",
    "        \n",
    "        if points_folder_name == 'front raise':  \n",
    "            upArm_forearm_angles = np.array(joint_angles.upArm_forearm_angles, dtype=np.float)\n",
    "            upArm_forearm_angles = np.nan_to_num(upArm_forearm_angles)\n",
    "            upArm_forearm_angles_filtered = medfilt(medfilt(upArm_forearm_angles, 5), 5)\n",
    "            labeled_arrays[label][0] = labeled_arrays[label][0] + (upArm_forearm_angles_filtered)\n",
    "        \n",
    "            upArm_trunk_angles = np.array(joint_angles.upArm_trunk_angles, dtype=np.float)\n",
    "            upArm_trunk_angles = np.nan_to_num(upArm_trunk_angles)\n",
    "            upArm_trunk_angles_filtered = medfilt(medfilt(upArm_trunk_angles, 5), 5)\n",
    "            labeled_arrays[label][0] = labeled_arrays[label][0] + (upArm_trunk_angles_filtered)\n",
    "        \n",
    "            trunk_knee_angles = np.array(joint_angles.trunk_knee_angles)\n",
    "            trunk_knee_angles = np.nan_to_num(trunk_knee_angles)\n",
    "            trunk_knee_angles_filtered = medfilt(medfilt(trunk_knee_angles, 5), 5)\n",
    "            labeled_arrays[label][0] = labeled_arrays[label][0] + (trunk_knee_angles_filtered)\n",
    "                       \n",
    "            #number of reps \n",
    "            extremas = find_extremas(upArm_trunk_angles_filtered, maxima=False)\n",
    "            angle_arrays.append((label, extremas, [upArm_forearm_angles_filtered, upArm_forearm_angles_filtered, trunk_knee_angles_filtered]))\n",
    "\n",
    "        else:\n",
    "            print('Error: Wrong folder path! Has to be: front raise')\n",
    "        return angle_arrays\n",
    "                                             \n",
    "                                    \n",
    "\n",
    "def fill_dataframe(angle_arrays, exercise_folder_name):\n",
    "    df_list = []\n",
    "\n",
    "    print('Filling dataset with ' + str(exercise_folder_name) + ' data...')\n",
    "   \n",
    "    for tup in angle_arrays:\n",
    "        label = tup[0]\n",
    "        extremas = tup[1]\n",
    "        uf_angles, ut_angles, tk_angles = tup[2]\n",
    "        # Extract rep angles\n",
    "        each_rep_angles = analyse_each_rep('front raise', 'dataset', extremas, uf_angles, ut_angles, tk_angles)\n",
    "        s1 = pd.Series(each_rep_angles, name='Angle_array')\n",
    "        s2 = pd.Series([label for n in range(len(each_rep_angles))], name='Label')\n",
    "        df = pd.concat([s1,s2], axis=1)\n",
    "        df_list.append(df)\n",
    "\n",
    "    return pd.concat(df_list).reset_index(drop=True)\n",
    "\n",
    "        "
   ]
  },
  {
   "cell_type": "code",
   "execution_count": null,
   "metadata": {},
   "outputs": [],
   "source": []
  }
 ],
 "metadata": {
  "kernelspec": {
   "display_name": "Python 3",
   "language": "python",
   "name": "python3"
  },
  "language_info": {
   "codemirror_mode": {
    "name": "ipython",
    "version": 3
   },
   "file_extension": ".py",
   "mimetype": "text/x-python",
   "name": "python",
   "nbconvert_exporter": "python",
   "pygments_lexer": "ipython3",
   "version": "3.6.9"
  }
 },
 "nbformat": 4,
 "nbformat_minor": 2
}
