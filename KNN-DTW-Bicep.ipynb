{
 "cells": [
  {
   "cell_type": "code",
   "execution_count": 2,
   "metadata": {},
   "outputs": [],
   "source": [
    "from tslearn.neighbors import KNeighborsTimeSeriesClassifier\n",
    "import numpy as np"
   ]
  },
  {
   "cell_type": "code",
   "execution_count": null,
   "metadata": {},
   "outputs": [],
   "source": [
    "input_folder = \"C:\\\\Users\\\\altaok\\\\Documents\\\\GitHub\\\\IndividualProject\\\\keypoints_for_all\"\n",
    "output_points_paths = glob.glob(os.path.join(input_folder, 'output_points_bicep*'))\n",
    "\n",
    "\n",
    "def get_labels(keypoints_paths):\n",
    "    labels = np.array([0 if 'correct' in folder else 1 for folder in keypoints_paths])\n",
    "    return labels\n",
    "\n",
    "def fill_dataframe(keypoints_paths):\n",
    "    for points_folder in keypoints_paths:\n",
    "        label = [0 if 'correct' in points_folder else 1]\n",
    "        \n",
    "    labels = get_labels(keypoints_paths)\n",
    "    \n",
    "    \n"
   ]
  },
  {
   "cell_type": "code",
   "execution_count": 4,
   "metadata": {},
   "outputs": [
    {
     "name": "stdout",
     "output_type": "stream",
     "text": [
      "[1 2 1]\n"
     ]
    }
   ],
   "source": [
    "n = np.append([[1,2]], 1)\n",
    "print(n)"
   ]
  }
 ],
 "metadata": {
  "kernelspec": {
   "display_name": "Python 3",
   "language": "python",
   "name": "python3"
  },
  "language_info": {
   "codemirror_mode": {
    "name": "ipython",
    "version": 3
   },
   "file_extension": ".py",
   "mimetype": "text/x-python",
   "name": "python",
   "nbconvert_exporter": "python",
   "pygments_lexer": "ipython3",
   "version": "3.7.4"
  }
 },
 "nbformat": 4,
 "nbformat_minor": 2
}
