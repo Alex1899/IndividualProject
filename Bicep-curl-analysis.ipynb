{
 "cells": [
  {
   "cell_type": "code",
   "execution_count": 1,
   "metadata": {},
   "outputs": [],
   "source": [
    "from Parser import parse_frames\n",
    "from scipy.signal import medfilt\n",
    "from Functions import find_extremas, detect_side, analyse_each_rep\n",
    "from JointAngles import JointAngles\n",
    "import numpy as np\n",
    "import math\n",
    "import glob\n",
    "import os\n",
    "import itertools\n",
    "import pickle\n",
    "import matplotlib.pyplot as plt\n",
    "\n"
   ]
  },
  {
   "cell_type": "code",
   "execution_count": 2,
   "metadata": {
    "scrolled": false
   },
   "outputs": [
    {
     "name": "stdout",
     "output_type": "stream",
     "text": [
      "Starting...\n",
      "Keypoints from folder: output_points_bicep_incorrect_1\n",
      "Right side: 221\n",
      "Left  side: 100\n"
     ]
    },
    {
     "ename": "TypeError",
     "evalue": "'bool' object is not iterable",
     "output_type": "error",
     "traceback": [
      "\u001b[1;31m---------------------------------------------------------------------------\u001b[0m",
      "\u001b[1;31mTypeError\u001b[0m                                 Traceback (most recent call last)",
      "\u001b[1;32m<ipython-input-2-16ce9ebf8929>\u001b[0m in \u001b[0;36m<module>\u001b[1;34m\u001b[0m\n\u001b[0;32m     10\u001b[0m     \u001b[0mframe_poses\u001b[0m \u001b[1;33m=\u001b[0m \u001b[0mparse_frames\u001b[0m\u001b[1;33m(\u001b[0m\u001b[0mfolder\u001b[0m\u001b[1;33m)\u001b[0m\u001b[1;33m\u001b[0m\u001b[1;33m\u001b[0m\u001b[0m\n\u001b[0;32m     11\u001b[0m \u001b[1;33m\u001b[0m\u001b[0m\n\u001b[1;32m---> 12\u001b[1;33m     \u001b[0mjoint_angles\u001b[0m \u001b[1;33m=\u001b[0m \u001b[0mJointAngles\u001b[0m\u001b[1;33m(\u001b[0m\u001b[1;34m'bicep curl'\u001b[0m\u001b[1;33m,\u001b[0m \u001b[0mframe_poses\u001b[0m\u001b[1;33m)\u001b[0m\u001b[1;33m\u001b[0m\u001b[1;33m\u001b[0m\u001b[0m\n\u001b[0m\u001b[0;32m     13\u001b[0m     \u001b[0mprint\u001b[0m\u001b[1;33m(\u001b[0m\u001b[1;34m'Detected arm: '\u001b[0m \u001b[1;33m+\u001b[0m \u001b[0mjoint_angles\u001b[0m\u001b[1;33m.\u001b[0m\u001b[0mside\u001b[0m\u001b[1;33m)\u001b[0m\u001b[1;33m\u001b[0m\u001b[1;33m\u001b[0m\u001b[0m\n\u001b[0;32m     14\u001b[0m \u001b[1;33m\u001b[0m\u001b[0m\n",
      "\u001b[1;32m~\\Desktop\\IndividualProject\\JointAngles.py\u001b[0m in \u001b[0;36m__init__\u001b[1;34m(self, string, frame_poses)\u001b[0m\n\u001b[0;32m     27\u001b[0m \u001b[1;33m\u001b[0m\u001b[0m\n\u001b[0;32m     28\u001b[0m \u001b[1;33m\u001b[0m\u001b[0m\n\u001b[1;32m---> 29\u001b[1;33m                 \u001b[0mparts\u001b[0m \u001b[1;33m=\u001b[0m \u001b[1;33m[\u001b[0m\u001b[0mpart\u001b[0m \u001b[1;32mfor\u001b[0m \u001b[0mpart\u001b[0m \u001b[1;32min\u001b[0m \u001b[0mparts\u001b[0m \u001b[1;32mif\u001b[0m \u001b[0mall\u001b[0m\u001b[1;33m(\u001b[0m\u001b[0mpart\u001b[0m\u001b[1;33m[\u001b[0m\u001b[1;36m2\u001b[0m\u001b[1;33m]\u001b[0m\u001b[1;33m!=\u001b[0m\u001b[1;36m0\u001b[0m\u001b[1;33m)\u001b[0m\u001b[1;33m]\u001b[0m\u001b[1;33m\u001b[0m\u001b[1;33m\u001b[0m\u001b[0m\n\u001b[0m\u001b[0;32m     30\u001b[0m \u001b[1;33m\u001b[0m\u001b[0m\n\u001b[0;32m     31\u001b[0m                 \u001b[0mforearm_vect\u001b[0m \u001b[1;33m=\u001b[0m \u001b[0mget_forearm_vectors\u001b[0m\u001b[1;33m(\u001b[0m\u001b[0mparts\u001b[0m\u001b[1;33m)\u001b[0m\u001b[1;33m\u001b[0m\u001b[1;33m\u001b[0m\u001b[0m\n",
      "\u001b[1;32m~\\Desktop\\IndividualProject\\JointAngles.py\u001b[0m in \u001b[0;36m<listcomp>\u001b[1;34m(.0)\u001b[0m\n\u001b[0;32m     27\u001b[0m \u001b[1;33m\u001b[0m\u001b[0m\n\u001b[0;32m     28\u001b[0m \u001b[1;33m\u001b[0m\u001b[0m\n\u001b[1;32m---> 29\u001b[1;33m                 \u001b[0mparts\u001b[0m \u001b[1;33m=\u001b[0m \u001b[1;33m[\u001b[0m\u001b[0mpart\u001b[0m \u001b[1;32mfor\u001b[0m \u001b[0mpart\u001b[0m \u001b[1;32min\u001b[0m \u001b[0mparts\u001b[0m \u001b[1;32mif\u001b[0m \u001b[0mall\u001b[0m\u001b[1;33m(\u001b[0m\u001b[0mpart\u001b[0m\u001b[1;33m[\u001b[0m\u001b[1;36m2\u001b[0m\u001b[1;33m]\u001b[0m\u001b[1;33m!=\u001b[0m\u001b[1;36m0\u001b[0m\u001b[1;33m)\u001b[0m\u001b[1;33m]\u001b[0m\u001b[1;33m\u001b[0m\u001b[1;33m\u001b[0m\u001b[0m\n\u001b[0m\u001b[0;32m     30\u001b[0m \u001b[1;33m\u001b[0m\u001b[0m\n\u001b[0;32m     31\u001b[0m                 \u001b[0mforearm_vect\u001b[0m \u001b[1;33m=\u001b[0m \u001b[0mget_forearm_vectors\u001b[0m\u001b[1;33m(\u001b[0m\u001b[0mparts\u001b[0m\u001b[1;33m)\u001b[0m\u001b[1;33m\u001b[0m\u001b[1;33m\u001b[0m\u001b[0m\n",
      "\u001b[1;31mTypeError\u001b[0m: 'bool' object is not iterable"
     ]
    }
   ],
   "source": [
    "# modify this path for other videos \n",
    "# input_folder = \"/home/aleko/Documents/Projects/IndividualProject/bicepvid\"\n",
    "# input_folder = \"C:\\\\Users\\\\altaok\\\\Documents\\\\GitHub\\\\IndividualProject\\\\keypoints_for_all\"\n",
    "input_folder = 'C:\\\\Users\\\\ak5u16\\\\Desktop\\\\openpose'\n",
    "folder_paths = glob.glob(os.path.join(input_folder, 'output_points_bicep_incorrect*'))     \n",
    "\n",
    "for folder in folder_paths:\n",
    "    print(\"Starting...\" + \"\\nKeypoints from folder: \" + os.path.basename(folder))\n",
    "    video_name = os.path.basename(folder).replace('output_points_', '')\n",
    "    frame_poses = parse_frames(folder)\n",
    "    \n",
    "    joint_angles = JointAngles('bicep curl', frame_poses)\n",
    "    print('Detected arm: ' + joint_angles.side)\n",
    "\n",
    "    upArm_trunk_angles = np.array(joint_angles.upArm_trunk_angles)\n",
    "    upArm_trunk_angles_filtered = medfilt(medfilt(upArm_trunk_angles, 5), 5)\n",
    "    \n",
    "   \n",
    "    upArm_forearm_angles = np.array(joint_angles.upArm_forearm_angles)\n",
    "    upArm_forearm_angles_filtered = medfilt(medfilt(upArm_forearm_angles, 5), 5)\n",
    "    \n",
    "    trunk_knee_angles = np.array(joint_angles.trunk_knee_angles)\n",
    "    trunk_knee_angles_filtered = medfilt(medfilt(trunk_knee_angles, 5), 5)\n",
    "    \n",
    "    # Find upper arm and trunk maximum angles to detect wrong form \n",
    "    upArm_trunk_maximas, indexesmax1 = find_extremas(upArm_trunk_angles_filtered)\n",
    "    # print(\"Largest angles between upper arm and trunk: \" + str(upArm_trunk_maximas))\n",
    "\n",
    "    # Find trunk and knee maximum angles to detect wrong form \n",
    "    trunk_knee_maximas, indexesmax2 = find_extremas(trunk_knee_angles_filtered)\n",
    "    # print(\"Largest angles between trunk and knee: \" + str(trunk_knee_maximas))\n",
    "\n",
    "    # Count repetitions\n",
    "    upArm_forearm_maximas, indexesmax3 = find_extremas(upArm_forearm_angles_filtered)    \n",
    "    # print(\"Number of maxima points between Upper Arm and Forearm: \" + str(upArm_forearm_maximas.size))\n",
    "    # print(upArm_forearm_maximas)\n",
    "    \n",
    "    \n",
    "\n",
    "    # Find upper arm and forearm minimum points to count reps \n",
    "    upArm_forearm_minimas, indexesmin = find_extremas(upArm_forearm_angles_filtered, maxima=False)\n",
    "    print(\"Number of reps performed: \" + str(upArm_forearm_minimas.size))\n",
    "    print(upArm_forearm_minimas)\n",
    "\n",
    "   \n",
    "    # Plot 1\n",
    "    plt.figure(figsize=(10,4))\n",
    "    plt.scatter(np.arange(upArm_trunk_angles.shape[0]), upArm_trunk_angles, alpha=0.5)\n",
    "    plt.scatter(np.arange(upArm_trunk_angles_filtered.shape[0]), upArm_trunk_angles_filtered, c='r', alpha=0.5)\n",
    "    plt.title(video_name)\n",
    "    plt.xlabel('Frames')\n",
    "    plt.ylabel('Angle between Upper Arm and Trunk')\n",
    "    # Set range on y-axis so the plots are consistent\n",
    "    plt.ylim(0,90)\n",
    "    \n",
    "    # Annontate maxima points\n",
    "    plt.plot(indexesmax1, upArm_trunk_angles_filtered[indexesmax1], 'ks')\n",
    "    plt.show()\n",
    "    \n",
    "    # Plot 2\n",
    "    plt.figure(figsize=(10,4))\n",
    "    plt.scatter(np.arange(trunk_knee_angles.shape[0]), trunk_knee_angles, alpha=0.5)\n",
    "    plt.scatter(np.arange(trunk_knee_angles_filtered.shape[0]), trunk_knee_angles_filtered, c='r', alpha=0.5)\n",
    "    plt.title(video_name)\n",
    "    plt.xlabel('Frames')\n",
    "    plt.ylabel('Angle between Trunk and Knee')\n",
    "    # Set range on y-axis so the plots are consistent\n",
    "    plt.ylim(0,360)\n",
    "    \n",
    "    # Annontate maxima points\n",
    "    plt.plot(indexesmax2, trunk_knee_angles_filtered[indexesmax2], 'ks')\n",
    "    plt.show()\n",
    "\n",
    "    # Plot 3\n",
    "    plt.figure(figsize=(10,4))\n",
    "    plt.scatter(np.arange(upArm_forearm_angles.shape[0]), upArm_forearm_angles, alpha=0.5)\n",
    "    plt.scatter(np.arange(upArm_forearm_angles_filtered.shape[0]), upArm_forearm_angles_filtered, c='r', alpha=0.5)\n",
    "    plt.title(video_name)\n",
    "    plt.xlabel('Frames')\n",
    "    plt.ylabel('Angle between Upper Arm and Forearm')\n",
    "    # Set range on y-axis so the plots are consistent\n",
    "    plt.ylim(0,220) \n",
    "    \n",
    "    # Annotate minima apoints on the graph   \n",
    "    max_points = upArm_forearm_angles_filtered[indexesmax3]\n",
    "    min_points = upArm_forearm_angles_filtered[indexesmin]\n",
    "    plt.plot(indexesmin, min_points, 'bo')\n",
    "    plt.plot(indexesmax3, max_points, 'ks')\n",
    "\n",
    "    \"\"\"\n",
    "        # Annotate local maximas\n",
    "        for maxp, indx in zip(max_points, indexesmax3):\n",
    "            plt.annotate('local max', xy=(indx, maxp), xytext=(indx, maxp+25),\n",
    "                    arrowprops=dict(facecolor='black', shrink=0.05))\n",
    "\n",
    "        # Annotate local minimas\n",
    "        for minp, indx in zip(min_points, indexesmin):\n",
    "            plt.annotate('local min', xy=(indx, minp), xytext=(indx, minp-35),\n",
    "                    arrowprops=dict(facecolor='black', shrink=0.05))     \n",
    "    \"\"\"\n",
    "    plt.show()\n",
    "\n",
    "    # Plot 4\n",
    "    plt.figure(figsize=(10,4))\n",
    "    plt.scatter(np.arange(upArm_forearm_angles_filtered.shape[0]), upArm_forearm_angles_filtered, c='r', alpha=0.5)\n",
    "    plt.scatter(np.arange(upArm_trunk_angles_filtered.shape[0]), upArm_trunk_angles_filtered, c='r', alpha=0.5)\n",
    "    plt.scatter(np.arange(trunk_knee_angles_filtered.shape[0]), trunk_knee_angles_filtered, c='r', alpha=0.5)\n",
    "    plt.title(video_name)\n",
    "    plt.xlabel('Frames')\n",
    "    plt.ylabel('Whole body movement')\n",
    "    # Set range on y-axis so the plots are consistent\n",
    "    plt.ylim(0,250) \n",
    "    # Annotate minima apoints      \n",
    "    plt.plot(indexesmin, upArm_forearm_angles_filtered[indexesmin], 'bo')\n",
    "    plt.plot(indexesmax1, upArm_trunk_angles_filtered[indexesmax1], 'ks')\n",
    "    plt.plot(indexesmax2, trunk_knee_angles_filtered[indexesmax2], 'ks')\n",
    "    plt.plot(indexesmax3, upArm_forearm_angles_filtered[indexesmax3], 'ks')\n",
    "    \n",
    "    plt.show()\n",
    "   \n",
    "    \n",
    "    # Each rep analysis\n",
    "    # local minimums for upper arm and forearm are min angles in each rep\n",
    "    analyse_each_rep(trunk_knee_angles_filtered, upArm_forearm_angles_filtered, upArm_trunk_angles_filtered, upArm_forearm_maximas)\n",
    "\n",
    "    print('\\n' + '='*120 + '\\n')"
   ]
  },
  {
   "cell_type": "code",
   "execution_count": 4,
   "metadata": {},
   "outputs": [
    {
     "data": {
      "text/plain": [
       "numpy.float64"
      ]
     },
     "execution_count": 4,
     "metadata": {},
     "output_type": "execute_result"
    }
   ],
   "source": [
    "type(np.mean(np.array([1,2,3,4,5,6])))"
   ]
  },
  {
   "cell_type": "code",
   "execution_count": 6,
   "metadata": {},
   "outputs": [
    {
     "data": {
      "text/plain": [
       "3.5"
      ]
     },
     "execution_count": 6,
     "metadata": {},
     "output_type": "execute_result"
    }
   ],
   "source": [
    "np.mean(np.array([1,2,3,4,5,6])).item()"
   ]
  },
  {
   "cell_type": "code",
   "execution_count": null,
   "metadata": {},
   "outputs": [],
   "source": []
  }
 ],
 "metadata": {
  "kernelspec": {
   "display_name": "Python 3",
   "language": "python",
   "name": "python3"
  },
  "language_info": {
   "codemirror_mode": {
    "name": "ipython",
    "version": 3
   },
   "file_extension": ".py",
   "mimetype": "text/x-python",
   "name": "python",
   "nbconvert_exporter": "python",
   "pygments_lexer": "ipython3",
   "version": "3.6.9"
  }
 },
 "nbformat": 4,
 "nbformat_minor": 2
}
