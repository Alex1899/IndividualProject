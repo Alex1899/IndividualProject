{
 "cells": [
  {
   "cell_type": "code",
   "execution_count": 1,
   "metadata": {},
   "outputs": [],
   "source": [
    "from Evaluation import evaluate_form\n",
    "from JointAngles import JointAngles\n",
    "from Parser import parse_frames\n",
    "import os\n",
    "import glob\n",
    "from sklearn.metrics import classification_report, accuracy_score, f1_score"
   ]
  },
  {
   "cell_type": "code",
   "execution_count": null,
   "metadata": {
    "scrolled": false
   },
   "outputs": [
    {
     "name": "stdout",
     "output_type": "stream",
     "text": [
      "bicep_curl\n",
      "Predicting...\n",
      "Done!\n",
      "\n",
      "Correct classification rate: 1.0\n",
      "              precision    recall  f1-score   support\n",
      "\n",
      "           0       1.00      1.00      1.00        12\n",
      "           1       1.00      1.00      1.00        55\n",
      "\n",
      "    accuracy                           1.00        67\n",
      "   macro avg       1.00      1.00      1.00        67\n",
      "weighted avg       1.00      1.00      1.00        67\n",
      "\n",
      "F1 Score: 1.0\n",
      "front_raise\n",
      "Predicting...\n",
      "Done!\n",
      "\n",
      "Correct classification rate: 1.0\n",
      "              precision    recall  f1-score   support\n",
      "\n",
      "           0       1.00      1.00      1.00        36\n",
      "           1       1.00      1.00      1.00        33\n",
      "\n",
      "    accuracy                           1.00        69\n",
      "   macro avg       1.00      1.00      1.00        69\n",
      "weighted avg       1.00      1.00      1.00        69\n",
      "\n",
      "F1 Score: 1.0\n",
      "shoulder_press\n",
      "Predicting...\n",
      "Done!\n",
      "\n",
      "Correct classification rate: 1.0\n",
      "              precision    recall  f1-score   support\n",
      "\n",
      "           0       1.00      1.00      1.00        31\n",
      "           1       1.00      1.00      1.00        35\n",
      "\n",
      "    accuracy                           1.00        66\n",
      "   macro avg       1.00      1.00      1.00        66\n",
      "weighted avg       1.00      1.00      1.00        66\n",
      "\n",
      "F1 Score: 1.0\n",
      "triceps_pushdown\n",
      "Predicting...\n"
     ]
    }
   ],
   "source": [
    "#input_folder = 'C:\\\\Users\\\\ak5u16\\\\Desktop\\\\IndividualProject\\\\keypoints_for_all'\n",
    "input_folder = \"C:\\\\Users\\\\kvash\\\\Documents\\\\GitHub\\\\IndividualProject\\\\keypoints_for_all\"\n",
    "folder_paths = glob.glob(os.path.join(input_folder, '*'))  \n",
    "\n",
    "y_predictions = []\n",
    "y_correct_labels = []\n",
    "class_reports = []\n",
    "\n",
    "for folder in folder_paths:\n",
    "    name = os.path.basename(folder)\n",
    "    print(name)\n",
    "    keypoints_folders = glob.glob(os.path.join(folder, name + '*'))  \n",
    "    #print(keypoints_folders)\n",
    "    for kf in keypoints_folders:\n",
    "        if '_correct' in os.path.basename(kf):\n",
    "            y_correct_labels.append(0)\n",
    "        else:\n",
    "            y_correct_labels.append(1)\n",
    "    \n",
    "    print('Predicting...')\n",
    "    for kf2 in keypoints_folders:\n",
    "        frame_pose = parse_frames(kf2)\n",
    "        y_predictions.append(evaluate_form(frame_pose, name, False))\n",
    "\n",
    "    print('Done!\\n')        \n",
    "    if len(y_predictions) == len(y_correct_labels):\n",
    "        print('Correct classification rate: ' + str(accuracy_score(y_correct_labels, y_predictions)))\n",
    "        print(classification_report(y_correct_labels, y_predictions))\n",
    "        print('F1 Score:', f1_score(y_correct_labels, y_predictions, average='macro'))\n",
    "        y_predictions = []\n",
    "        y_correct_labels = []\n",
    "    else:\n",
    "        print('Error')\n",
    "        \n",
    "        \n",
    "        \n",
    "        \n",
    "        \n",
    "    \n",
    "    "
   ]
  },
  {
   "cell_type": "code",
   "execution_count": null,
   "metadata": {},
   "outputs": [],
   "source": []
  }
 ],
 "metadata": {
  "kernelspec": {
   "display_name": "Python 3",
   "language": "python",
   "name": "python3"
  },
  "language_info": {
   "codemirror_mode": {
    "name": "ipython",
    "version": 3
   },
   "file_extension": ".py",
   "mimetype": "text/x-python",
   "name": "python",
   "nbconvert_exporter": "python",
   "pygments_lexer": "ipython3",
   "version": "3.7.6"
  }
 },
 "nbformat": 4,
 "nbformat_minor": 2
}
