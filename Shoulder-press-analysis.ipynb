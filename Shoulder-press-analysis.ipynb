{
 "cells": [
  {
   "cell_type": "code",
   "execution_count": 1,
   "metadata": {},
   "outputs": [],
   "source": [
    "from Parser import parse_frames\n",
    "from scipy.signal import medfilt\n",
    "from Functions import find_extremas, filter_extremas, detect_side, analyse_each_rep\n",
    "from JointAngles import JointAngles\n",
    "import numpy as np\n",
    "import math\n",
    "import glob\n",
    "import os\n",
    "import itertools\n",
    "import itertools\n",
    "import pickle\n",
    "import matplotlib.pyplot as plt\n"
   ]
  },
  {
   "cell_type": "code",
   "execution_count": 14,
   "metadata": {},
   "outputs": [
    {
     "ename": "IndexError",
     "evalue": "list index out of range",
     "output_type": "error",
     "traceback": [
      "\u001b[1;31m---------------------------------------------------------------------------\u001b[0m",
      "\u001b[1;31mIndexError\u001b[0m                                Traceback (most recent call last)",
      "\u001b[1;32m<ipython-input-14-2128f018f2f0>\u001b[0m in \u001b[0;36m<module>\u001b[1;34m\u001b[0m\n\u001b[0;32m      1\u001b[0m \u001b[0ma\u001b[0m \u001b[1;33m=\u001b[0m \u001b[1;33m[\u001b[0m\u001b[1;33m]\u001b[0m\u001b[1;33m\u001b[0m\u001b[1;33m\u001b[0m\u001b[0m\n\u001b[1;32m----> 2\u001b[1;33m \u001b[1;32mif\u001b[0m \u001b[0ma\u001b[0m\u001b[1;33m[\u001b[0m\u001b[1;36m0\u001b[0m\u001b[1;33m]\u001b[0m\u001b[1;33m:\u001b[0m\u001b[1;33m\u001b[0m\u001b[1;33m\u001b[0m\u001b[0m\n\u001b[0m\u001b[0;32m      3\u001b[0m      \u001b[0mprint\u001b[0m\u001b[1;33m(\u001b[0m\u001b[1;34m\"empy\"\u001b[0m\u001b[1;33m)\u001b[0m\u001b[1;33m\u001b[0m\u001b[1;33m\u001b[0m\u001b[0m\n\u001b[0;32m      4\u001b[0m \u001b[1;32melse\u001b[0m\u001b[1;33m:\u001b[0m\u001b[1;33m\u001b[0m\u001b[1;33m\u001b[0m\u001b[0m\n\u001b[0;32m      5\u001b[0m     \u001b[0mprint\u001b[0m\u001b[1;33m(\u001b[0m\u001b[1;34m'na'\u001b[0m\u001b[1;33m)\u001b[0m\u001b[1;33m\u001b[0m\u001b[1;33m\u001b[0m\u001b[0m\n",
      "\u001b[1;31mIndexError\u001b[0m: list index out of range"
     ]
    }
   ],
   "source": [
    "a = []\n",
    "i:\n",
    "     print(\"empy\")\n",
    "else: \n",
    "    print('na')"
   ]
  },
  {
   "cell_type": "code",
   "execution_count": 16,
   "metadata": {},
   "outputs": [
    {
     "name": "stdout",
     "output_type": "stream",
     "text": [
      "1 2\n"
     ]
    },
    {
     "ename": "TypeError",
     "evalue": "'int' object is not subscriptable",
     "output_type": "error",
     "traceback": [
      "\u001b[1;31m---------------------------------------------------------------------------\u001b[0m",
      "\u001b[1;31mTypeError\u001b[0m                                 Traceback (most recent call last)",
      "\u001b[1;32m<ipython-input-16-51451d71b165>\u001b[0m in \u001b[0;36m<module>\u001b[1;34m\u001b[0m\n\u001b[0;32m      3\u001b[0m \u001b[1;33m\u001b[0m\u001b[0m\n\u001b[0;32m      4\u001b[0m \u001b[1;32mfor\u001b[0m \u001b[0mi\u001b[0m \u001b[1;32min\u001b[0m \u001b[0mrange\u001b[0m\u001b[1;33m(\u001b[0m\u001b[1;36m3\u001b[0m\u001b[1;33m)\u001b[0m\u001b[1;33m:\u001b[0m\u001b[1;33m\u001b[0m\u001b[1;33m\u001b[0m\u001b[0m\n\u001b[1;32m----> 5\u001b[1;33m     \u001b[0mb\u001b[0m \u001b[1;33m=\u001b[0m \u001b[0ma\u001b[0m\u001b[1;33m[\u001b[0m\u001b[0mi\u001b[0m\u001b[1;33m]\u001b[0m\u001b[1;33m\u001b[0m\u001b[1;33m\u001b[0m\u001b[0m\n\u001b[0m\u001b[0;32m      6\u001b[0m     \u001b[0mn\u001b[0m \u001b[1;33m=\u001b[0m \u001b[0mi\u001b[0m \u001b[1;33m+\u001b[0m \u001b[1;36m1\u001b[0m\u001b[1;33m\u001b[0m\u001b[1;33m\u001b[0m\u001b[0m\n\u001b[0;32m      7\u001b[0m     \u001b[0mc\u001b[0m \u001b[1;33m=\u001b[0m \u001b[0ma\u001b[0m\u001b[1;33m[\u001b[0m\u001b[0mn\u001b[0m\u001b[1;33m]\u001b[0m\u001b[1;33m\u001b[0m\u001b[1;33m\u001b[0m\u001b[0m\n",
      "\u001b[1;31mTypeError\u001b[0m: 'int' object is not subscriptable"
     ]
    }
   ],
   "source": [
    "a = [1,2,3]\n",
    "s = len(a)\n",
    "\n",
    "for i in range(3):\n",
    "    b = a[i]\n",
    "    n = i + 1\n",
    "    c = a[n]\n",
    "        \n",
    "    a = a.pop(1)\n",
    "    print(b, c)\n",
    "        \n",
    "  \n",
    "    \n",
    "\n"
   ]
  },
  {
   "cell_type": "code",
   "execution_count": 75,
   "metadata": {},
   "outputs": [
    {
     "data": {
      "text/plain": [
       "array([44, 45, 46, 47, 48, 49, 50, 51, 52, 53, 54, 55, 56, 57, 58])"
      ]
     },
     "execution_count": 75,
     "metadata": {},
     "output_type": "execute_result"
    }
   ],
   "source": [
    "np.arange(44, 59)"
   ]
  },
  {
   "cell_type": "code",
   "execution_count": 2,
   "metadata": {
    "scrolled": false
   },
   "outputs": [
    {
     "name": "stdout",
     "output_type": "stream",
     "text": [
      "Starting...\n",
      "Keypoints from folder: shoulder_press_correct_1\n",
      "Detected side: front\n",
      "first extrema index: 23\n",
      "Extrema array size: 6\n",
      "Count list:[62, 63, 66, 61, 65]\n",
      "length count list: 5\n",
      "threshold is: 60\n",
      "ls size: 0\n",
      "ls list: []\n",
      "[160.58505749 162.06068233 162.16206023 166.37169458 165.49575091\n",
      " 164.81145611]\n",
      "first extrema index: 20\n",
      "Extrema array size: 7\n",
      "Count list:[65, 64, 65, 63, 5, 59]\n",
      "length count list: 6\n",
      "threshold is: 58\n",
      "ls size: 1\n",
      "ls list: [5]\n",
      "[165.41132078 165.92473964 165.9385373  169.95215549 165.19529662\n",
      " 165.92021394 163.27243854]\n",
      "indexes to delete: [4]\n",
      "size: 1\n",
      "remove point 5\n",
      "index 4\n",
      "261 327\n",
      "length new array: 6\n",
      "new array: [165.41132078 165.92473964 165.9385373  169.95215549 165.19529662\n",
      " 163.27243854]\n",
      "first extrema index: 14\n",
      "Extrema array size: 7\n",
      "Count list:[68, 66, 63, 62, 9, 55]\n",
      "length count list: 6\n",
      "threshold is: 61\n",
      "ls size: 2\n",
      "ls list: [9, 55]\n",
      "[153.43459555 156.51221531 154.47758614 163.70367515 156.59105208\n",
      " 154.87133686 160.03534691]\n",
      "indexes to delete: [4, 5]\n",
      "size: 2\n",
      "remove point 4\n",
      "index 4\n",
      "273 329\n",
      "remove point 5\n",
      "index 4\n"
     ]
    },
    {
     "ename": "IndexError",
     "evalue": "index 5 is out of bounds for axis 0 with size 5",
     "output_type": "error",
     "traceback": [
      "\u001b[1;31m---------------------------------------------------------------------------\u001b[0m",
      "\u001b[1;31mIndexError\u001b[0m                                Traceback (most recent call last)",
      "\u001b[1;32m<ipython-input-2-a218f2cdd088>\u001b[0m in \u001b[0;36m<module>\u001b[1;34m\u001b[0m\n\u001b[0;32m     40\u001b[0m     \u001b[1;31m# Count repetitions\u001b[0m\u001b[1;33m\u001b[0m\u001b[1;33m\u001b[0m\u001b[1;33m\u001b[0m\u001b[0m\n\u001b[0;32m     41\u001b[0m     \u001b[0mleft_upArm_forearm_maximas\u001b[0m\u001b[1;33m,\u001b[0m \u001b[0mindexesmax2a\u001b[0m \u001b[1;33m=\u001b[0m \u001b[0mfind_extremas\u001b[0m\u001b[1;33m(\u001b[0m\u001b[0mleft_upArm_forearm_angles_filtered\u001b[0m\u001b[1;33m)\u001b[0m\u001b[1;33m\u001b[0m\u001b[1;33m\u001b[0m\u001b[0m\n\u001b[1;32m---> 42\u001b[1;33m     \u001b[0mleft_upArm_forearm_maximas\u001b[0m \u001b[1;33m=\u001b[0m \u001b[0mfilter_extremas\u001b[0m\u001b[1;33m(\u001b[0m\u001b[0mleft_upArm_forearm_angles_filtered\u001b[0m\u001b[1;33m,\u001b[0m \u001b[0mleft_upArm_forearm_maximas\u001b[0m\u001b[1;33m)\u001b[0m\u001b[1;33m\u001b[0m\u001b[1;33m\u001b[0m\u001b[0m\n\u001b[0m\u001b[0;32m     43\u001b[0m     \u001b[1;31m# print(\"Number of maxima points between Upper Arm and Forearm: \" + str(upArm_forearm_maximas.size))\u001b[0m\u001b[1;33m\u001b[0m\u001b[1;33m\u001b[0m\u001b[1;33m\u001b[0m\u001b[0m\n\u001b[0;32m     44\u001b[0m     \u001b[1;31m# print(upArm_forearm_maximas)\u001b[0m\u001b[1;33m\u001b[0m\u001b[1;33m\u001b[0m\u001b[1;33m\u001b[0m\u001b[0m\n",
      "\u001b[1;32m~\\Documents\\GitHub\\IndividualProject\\Functions.py\u001b[0m in \u001b[0;36mfilter_extremas\u001b[1;34m(angles_array, extremas_array)\u001b[0m\n\u001b[0;32m    138\u001b[0m                 \u001b[0mindx\u001b[0m \u001b[1;33m=\u001b[0m \u001b[0mnp\u001b[0m\u001b[1;33m.\u001b[0m\u001b[0margwhere\u001b[0m\u001b[1;33m(\u001b[0m\u001b[0mextremas_array\u001b[0m \u001b[1;33m==\u001b[0m \u001b[0mstart_point\u001b[0m\u001b[1;33m)\u001b[0m\u001b[1;33m[\u001b[0m\u001b[1;36m0\u001b[0m\u001b[1;33m]\u001b[0m\u001b[1;33m[\u001b[0m\u001b[1;36m0\u001b[0m\u001b[1;33m]\u001b[0m\u001b[1;33m\u001b[0m\u001b[1;33m\u001b[0m\u001b[0m\n\u001b[0;32m    139\u001b[0m                 \u001b[0mprint\u001b[0m\u001b[1;33m(\u001b[0m\u001b[1;34m'index '\u001b[0m \u001b[1;33m+\u001b[0m \u001b[0mstr\u001b[0m\u001b[1;33m(\u001b[0m\u001b[0mindx\u001b[0m\u001b[1;33m)\u001b[0m\u001b[1;33m)\u001b[0m\u001b[1;33m\u001b[0m\u001b[1;33m\u001b[0m\u001b[0m\n\u001b[1;32m--> 140\u001b[1;33m                 \u001b[0mcount\u001b[0m \u001b[1;33m=\u001b[0m \u001b[0mfind_frames_between_extremas\u001b[0m\u001b[1;33m(\u001b[0m\u001b[0mstart_point\u001b[0m\u001b[1;33m,\u001b[0m \u001b[0mextremas_array\u001b[0m\u001b[1;33m[\u001b[0m\u001b[0mindx\u001b[0m\u001b[1;33m+\u001b[0m\u001b[1;36m1\u001b[0m\u001b[1;33m]\u001b[0m\u001b[1;33m,\u001b[0m \u001b[0mangles_array\u001b[0m\u001b[1;33m)\u001b[0m\u001b[1;33m\u001b[0m\u001b[1;33m\u001b[0m\u001b[0m\n\u001b[0m\u001b[0;32m    141\u001b[0m                 \u001b[0mcount_list\u001b[0m\u001b[1;33m.\u001b[0m\u001b[0minsert\u001b[0m\u001b[1;33m(\u001b[0m\u001b[0midx\u001b[0m\u001b[1;33m,\u001b[0m \u001b[0mcount\u001b[0m\u001b[1;33m)\u001b[0m\u001b[1;33m\u001b[0m\u001b[1;33m\u001b[0m\u001b[0m\n\u001b[0;32m    142\u001b[0m \u001b[1;33m\u001b[0m\u001b[0m\n",
      "\u001b[1;31mIndexError\u001b[0m: index 5 is out of bounds for axis 0 with size 5"
     ]
    }
   ],
   "source": [
    "# modify this path for other videos \n",
    "# input_folder = \"/home/aleko/Documents/Projects/IndividualProject/bicepvid\"\n",
    "input_folder = \"C:\\\\Users\\\\altaok\\\\Documents\\\\GitHub\\\\IndividualProject\\\\keypoints_for_all\\\\shoulder press\"\n",
    "#input_folder = 'C:\\\\Users\\\\ak5u16\\\\Desktop\\\\openpose\\\\keypoints_for_all\\\\shoulder press'\n",
    "folder_paths = glob.glob(os.path.join(input_folder, 'shoulder_press_correct*'))     \n",
    "\n",
    "        \n",
    "\n",
    "for folder in folder_paths:\n",
    "    print(\"Starting...\" + \"\\nKeypoints from folder: \" + os.path.basename(folder))\n",
    "    video_name = os.path.basename(folder).replace('output_points_', '')\n",
    "    frame_poses = parse_frames(folder)\n",
    "       \n",
    "    joint_angles = JointAngles('shoulder press', frame_poses)\n",
    "    print('Detected side: ' + joint_angles.side)\n",
    "   \n",
    "\n",
    "    left_upArm_trunk_angles = np.array(joint_angles.left_upArm_trunk_angles)\n",
    "    left_upArm_trunk_angles_filtered = medfilt(medfilt(left_upArm_trunk_angles, 5), 5)\n",
    "    \n",
    "    right_upArm_trunk_angles = np.array(joint_angles.right_upArm_trunk_angles)\n",
    "    right_upArm_trunk_angles_filtered = medfilt(medfilt(right_upArm_trunk_angles, 5), 5)\n",
    "    \n",
    "    left_upArm_forearm_angles = np.array(joint_angles.left_upArm_forearm_angles)\n",
    "    left_upArm_forearm_angles_filtered = medfilt(medfilt(left_upArm_forearm_angles, 5), 5)\n",
    "    \n",
    "    right_upArm_forearm_angles = np.array(joint_angles.right_upArm_forearm_angles)\n",
    "    right_upArm_forearm_angles_filtered = medfilt(medfilt(right_upArm_forearm_angles, 5), 5)\n",
    "    \n",
    "        \n",
    "    # Find left upper arm and trunk maximum angles to detect wrong form \n",
    "    left_upArm_trunk_maximas, indexesmax1a = find_extremas(left_upArm_trunk_angles_filtered)\n",
    "    left_upArm_trunk_maximas = filter_extremas(left_upArm_trunk_angles_filtered, left_upArm_trunk_maximas)\n",
    "    \n",
    "    # print(\"Largest angles between upper arm and trunk: \" + str(upArm_trunk_maximas))\n",
    "    # Find right upper arm and trunk maximum angles to detect wrong form \n",
    "    right_upArm_trunk_maximas, indexesmax1b = find_extremas(right_upArm_trunk_angles_filtered)\n",
    "    right_upArm_trunk_maximas = filter_extremas(right_upArm_trunk_angles_filtered, right_upArm_trunk_maximas)\n",
    "    \n",
    "    # Count repetitions\n",
    "    left_upArm_forearm_maximas, indexesmax2a = find_extremas(left_upArm_forearm_angles_filtered)    \n",
    "    left_upArm_forearm_maximas = filter_extremas(left_upArm_forearm_angles_filtered, left_upArm_forearm_maximas)\n",
    "    # print(\"Number of maxima points between Upper Arm and Forearm: \" + str(upArm_forearm_maximas.size))\n",
    "    # print(upArm_forearm_maximas)\n",
    "    \n",
    "    right_upArm_forearm_maximas, indexesmax2b = find_extremas(right_upArm_forearm_angles_filtered) \n",
    "    right_upArm_forearm_maximas = filter_extremas(right_upArm_forearm_angles_filtered, right_upArm_forearm_maximas)\n",
    "   \n",
    "\n",
    "    # Find upper arm and forearm minimum points to count reps     \n",
    "    left_upArm_forearm_minimas, indexesmin1a = find_extremas(left_upArm_forearm_angles_filtered, maxima=False)\n",
    "    print('----------------------\\nFiltering minimas')\n",
    "    print(left_upArm_forearm_minimas)\n",
    "    left_upArm_forearm_minimas = filter_extremas(left_upArm_forearm_angles_filtered, left_upArm_forearm_minimas)\n",
    "  \n",
    "    print(\"Number of reps performed LEFT: \" + str(left_upArm_forearm_minimas.size))\n",
    "    # print(left_upArm_forearm_minimas)\n",
    "    \n",
    "    right_upArm_forearm_minimas, indexesmin1b = find_extremas(right_upArm_forearm_angles_filtered, maxima=False)\n",
    "    print('----------------------\\nFiltering minimas')\n",
    "    print(right_upArm_forearm_minimas)\n",
    "    right_upArm_forearm_minimas = filter_extremas(right_upArm_forearm_angles_filtered, right_upArm_forearm_minimas)\n",
    "    print(\"Number of reps performed RIGHT: \" + str(right_upArm_forearm_minimas.size))\n",
    "    \n",
    "    left_upArm_trunk_minimas, indexesmin2a = find_extremas(left_upArm_trunk_angles_filtered, maxima=False)\n",
    "    right_upArm_trunk_minimas, indexesmin2b = find_extremas(right_upArm_trunk_angles_filtered, maxima=False)\n",
    "\n",
    "    print('\\n'+ '-'*120 + '\\nLEFT ARM'.center(100) + '\\n' + '-'*120 )\n",
    "    # Plot 1 - Left\n",
    "    plt.figure(figsize=(10,4))\n",
    "    plt.scatter(np.arange(left_upArm_trunk_angles.shape[0]), left_upArm_trunk_angles, alpha=0.5)\n",
    "    plt.scatter(np.arange(left_upArm_trunk_angles_filtered.shape[0]), left_upArm_trunk_angles_filtered, c='r', alpha=0.5)\n",
    "    plt.title(video_name)\n",
    "    plt.xlabel('Frames')\n",
    "    plt.ylabel('Angle between LEFT Upper Arm and Trunk')\n",
    "    # Set range on y-axis so the plots are consistent\n",
    "    plt.ylim(0,200)\n",
    "    \n",
    "    # Annontate minima points\n",
    "    plt.plot(indexesmin2a, left_upArm_trunk_angles_filtered[indexesmin2a], 'bo')\n",
    "    # print(indexesmax1a)\n",
    "    plt.show()\n",
    "    \n",
    "    # Plot 2 - Left\n",
    "    plt.figure(figsize=(10,4))\n",
    "    plt.scatter(np.arange(left_upArm_forearm_angles.shape[0]), left_upArm_forearm_angles, alpha=0.5)\n",
    "    plt.scatter(np.arange(left_upArm_forearm_angles_filtered.shape[0]), left_upArm_forearm_angles_filtered, c='r', alpha=0.5)\n",
    "    plt.title(video_name)\n",
    "    plt.xlabel('Frames')\n",
    "    plt.ylabel('Angle between LEFT Upper Arm and Forearm')\n",
    "    # Set range on y-axis so the plots are consistent\n",
    "    plt.ylim(0,200) \n",
    "    \n",
    "    # Annotate minima apoints on the graph   \n",
    "    max_points1a = left_upArm_forearm_angles_filtered[indexesmax2a]\n",
    "    min_points1a = left_upArm_forearm_angles_filtered[indexesmin1a]\n",
    "    plt.plot(indexesmin1a, min_points1a, 'bo')\n",
    "    plt.plot(indexesmax2a, max_points1a, 'ks')\n",
    "\n",
    "    \"\"\"\n",
    "        # Annotate local maximas\n",
    "        for maxp, indx in zip(max_points, indexesmax2):\n",
    "            plt.annotate('local max', xy=(indx, maxp), xytext=(indx, maxp+25),\n",
    "                    arrowprops=dict(facecolor='black', shrink=0.05))\n",
    "\n",
    "        # Annotate local minimas\n",
    "        for minp, indx in zip(min_points, indexesmin):\n",
    "            plt.annotate('local min', xy=(indx, minp), xytext=(indx, minp-35),\n",
    "                    arrowprops=dict(facecolor='black', shrink=0.05))     \n",
    "    \"\"\"\n",
    "    \n",
    "    plt.show()\n",
    "    \n",
    "    # Plot 3 - All angles LEFT\n",
    "    plt.figure(figsize=(10,4))\n",
    "    plt.scatter(np.arange(left_upArm_forearm_angles_filtered.shape[0]), left_upArm_forearm_angles_filtered, c='r', alpha=0.5)\n",
    "    plt.scatter(np.arange(left_upArm_trunk_angles_filtered.shape[0]), left_upArm_trunk_angles_filtered, c='r', alpha=0.5)\n",
    "    \n",
    "    plt.title(video_name)\n",
    "    plt.xlabel('Frames')\n",
    "    plt.ylabel('Whole body movement LEFT')\n",
    "    # Set range on y-axis so the plots are consistent\n",
    "    plt.ylim(0,200) \n",
    "    # Annotate minima apoints   \n",
    "    plt.plot(indexesmin1a, left_upArm_forearm_angles_filtered[indexesmin1a], 'bo')\n",
    "    plt.plot(indexesmax1a, left_upArm_trunk_angles_filtered[indexesmax1a], 'ks')\n",
    "    plt.plot(indexesmax2a, left_upArm_forearm_angles_filtered[indexesmax2a], 'ks')  \n",
    "    plt.show()\n",
    "   \n",
    "    \n",
    "    #---------------------------------------------------------------------------------------------------------------------\n",
    "    # Same for right side\n",
    "    \n",
    "    print('\\n'+ '-'*120 + '\\nRIGHT ARM'.center(200) + '\\n' + '-'*120 )\n",
    "    \n",
    "    # Plot 3 - Right\n",
    "    plt.figure(figsize=(10,4))\n",
    "    plt.scatter(np.arange(right_upArm_trunk_angles.shape[0]), right_upArm_trunk_angles, alpha=0.5)\n",
    "    plt.scatter(np.arange(right_upArm_trunk_angles_filtered.shape[0]), right_upArm_trunk_angles_filtered, c='r', alpha=0.5)\n",
    "    plt.title(video_name)\n",
    "    plt.xlabel('Frames')\n",
    "    plt.ylabel('Angle between RIGHT Upper Arm and Trunk')\n",
    "    # Set range on y-axis so the plots are consistent\n",
    "    plt.ylim(0,200)\n",
    "    \n",
    "    # Annontate minima points\n",
    "    plt.plot(indexesmin2b, right_upArm_trunk_angles_filtered[indexesmin2b], 'bo')\n",
    "    plt.show()\n",
    "\n",
    "    # Plot 3 - Right\n",
    "    plt.figure(figsize=(10,4))\n",
    "    plt.scatter(np.arange(right_upArm_forearm_angles.shape[0]), right_upArm_forearm_angles, alpha=0.5)\n",
    "    plt.scatter(np.arange(right_upArm_forearm_angles_filtered.shape[0]), right_upArm_forearm_angles_filtered, c='r', alpha=0.5)\n",
    "    plt.title(video_name)\n",
    "    plt.xlabel('Frames')\n",
    "    plt.ylabel('Angle between RIGHT Upper Arm and Forearm')\n",
    "    # Set range on y-axis so the plots are consistent\n",
    "    plt.ylim(0,200) \n",
    "    \n",
    "    # Annotate minima apoints on the graph   \n",
    "    max_points1b = right_upArm_forearm_angles_filtered[indexesmax2b]\n",
    "    min_points1b = right_upArm_forearm_angles_filtered[indexesmin1b]\n",
    "    plt.plot(indexesmin1b, min_points1b, 'bo')\n",
    "    plt.plot(indexesmax2b, max_points1b, 'ks')\n",
    "    \n",
    "    \"\"\"\n",
    "        # Annotate local maximas\n",
    "        for maxp, indx in zip(max_points1b, indexesmax2b):\n",
    "            plt.annotate('local max', xy=(indx, maxp), xytext=(indx, maxp+25),\n",
    "                    arrowprops=dict(facecolor='black', shrink=0.05))\n",
    "\n",
    "        # Annotate local minimas\n",
    "        for minp, indx in zip(min_points, indexesmin):\n",
    "            plt.annotate('local min', xy=(indx, minp), xytext=(indx, minp-35),\n",
    "                    arrowprops=dict(facecolor='black', shrink=0.05))     \n",
    "    \"\"\"\n",
    "    plt.show()\n",
    "\n",
    "\n",
    "    # Plot 4 - All angles RIGHT\n",
    "    plt.figure(figsize=(10,4))\n",
    "    plt.scatter(np.arange(right_upArm_forearm_angles_filtered.shape[0]), right_upArm_forearm_angles_filtered, c='r', alpha=0.5)\n",
    "    plt.scatter(np.arange(right_upArm_trunk_angles_filtered.shape[0]), right_upArm_trunk_angles_filtered, c='r', alpha=0.5)\n",
    "    plt.title(video_name)\n",
    "    plt.xlabel('Frames')\n",
    "    plt.ylabel('Whole body movement RIGHT')\n",
    "    # Set range on y-axis so the plots are consistent\n",
    "    plt.ylim(0,200) \n",
    "    # Annotate minima apoints     \n",
    "    plt.plot(indexesmin1b, right_upArm_forearm_angles_filtered[indexesmin1b], 'bo')\n",
    "    plt.plot(indexesmax1b, right_upArm_trunk_angles_filtered[indexesmax1b], 'ks')\n",
    "    plt.plot(indexesmax2b, right_upArm_forearm_angles_filtered[indexesmax2b], 'ks')\n",
    "    plt.show()\n",
    "   \n",
    "    \n",
    "    # Each rep analysis\n",
    "    # local minimums for upper arm and forearm are min angles in each rep\n",
    "    analyse_each_rep(string='analysis', extremas1=left_upArm_forearm_minimas, uf_angles1a=left_upArm_forearm_angles_filtered, ut_angles2a=left_upArm_trunk_angles_filtered,\n",
    "                    extremas2=right_upArm_forearm_minimas, uf_angles1b=right_upArm_forearm_angles_filtered, ut_angles2b=right_upArm_trunk_angles_filtered)\n",
    "    \n",
    "\n",
    "    print('\\n' + '='*120 + '\\n')\n"
   ]
  },
  {
   "cell_type": "code",
   "execution_count": 3,
   "metadata": {},
   "outputs": [
    {
     "name": "stdout",
     "output_type": "stream",
     "text": [
      "[2 3]\n"
     ]
    }
   ],
   "source": [
    "a = np.array([1,2,3])\n",
    "print(a[1:])"
   ]
  },
  {
   "cell_type": "code",
   "execution_count": 4,
   "metadata": {},
   "outputs": [
    {
     "data": {
      "text/plain": [
       "array([ 0,  1,  2,  3,  4,  5,  6,  7,  8,  9, 10, 11, 12, 13, 14, 15, 16,\n",
       "       17, 18, 19, 20, 21, 22, 23])"
      ]
     },
     "execution_count": 4,
     "metadata": {},
     "output_type": "execute_result"
    }
   ],
   "source": [
    "np.arange(24)"
   ]
  },
  {
   "cell_type": "code",
   "execution_count": 4,
   "metadata": {},
   "outputs": [
    {
     "name": "stdout",
     "output_type": "stream",
     "text": [
      "3\n",
      "4\n",
      "5\n",
      "5\n",
      "5\n",
      "6\n",
      "6\n",
      "7\n",
      "7\n",
      "8\n"
     ]
    }
   ],
   "source": [
    "for a, b in itertools.combinations([1,2,3,4,4], 2):\n",
    "    print(a+b)"
   ]
  },
  {
   "cell_type": "code",
   "execution_count": 14,
   "metadata": {},
   "outputs": [
    {
     "name": "stdout",
     "output_type": "stream",
     "text": [
      "[1]\n",
      "[1 4 5]\n"
     ]
    }
   ],
   "source": [
    "a = np.array([1,3,4,5])\n",
    "index = np.where(a == 3)\n",
    "print(index[0])\n",
    "a = np.delete(a, index[0][0])\n",
    "print(a)\n"
   ]
  },
  {
   "cell_type": "code",
   "execution_count": 15,
   "metadata": {},
   "outputs": [
    {
     "name": "stdout",
     "output_type": "stream",
     "text": [
      "dict_items([(1, ('a', 'b')), (2, ('b', 't'))])\n"
     ]
    }
   ],
   "source": [
    "d = {1:'a', 2:'b'}\n",
    "g = {1:'b', 2:'t'}\n",
    "\n",
    "ds = [d, g]\n",
    "a = {}\n",
    "for k in d.keys():\n",
    "    a[k] = tuple(d[k] for d in ds)\n",
    "print(a.items())"
   ]
  }
 ],
 "metadata": {
  "kernelspec": {
   "display_name": "Python 3",
   "language": "python",
   "name": "python3"
  },
  "language_info": {
   "codemirror_mode": {
    "name": "ipython",
    "version": 3
   },
   "file_extension": ".py",
   "mimetype": "text/x-python",
   "name": "python",
   "nbconvert_exporter": "python",
   "pygments_lexer": "ipython3",
   "version": "3.7.4"
  }
 },
 "nbformat": 4,
 "nbformat_minor": 2
}
