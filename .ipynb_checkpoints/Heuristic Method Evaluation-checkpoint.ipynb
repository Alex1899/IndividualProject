{
 "cells": [
  {
   "cell_type": "code",
   "execution_count": 1,
   "metadata": {},
   "outputs": [],
   "source": [
    "from Evaluation import evaluate_form\n",
    "from JointAngles import JointAngles\n",
    "from Parser import parse_frames\n",
    "import os\n",
    "import glob\n",
    "from sklearn.metrics import classification_report"
   ]
  },
  {
   "cell_type": "code",
   "execution_count": 6,
   "metadata": {
    "scrolled": false
   },
   "outputs": [
    {
     "name": "stdout",
     "output_type": "stream",
     "text": [
      "Predicting...\n",
      "Done!\n",
      "\n",
      "              precision    recall  f1-score   support\n",
      "\n",
      "           0       0.00      0.00      0.00      46.0\n",
      "           1       0.00      0.00      0.00       0.0\n",
      "\n",
      "    accuracy                           0.00      46.0\n",
      "   macro avg       0.00      0.00      0.00      46.0\n",
      "weighted avg       0.00      0.00      0.00      46.0\n",
      "\n",
      "Predicting...\n",
      "Done!\n",
      "\n",
      "              precision    recall  f1-score   support\n",
      "\n",
      "           0       0.00      0.00      0.00      56.0\n",
      "           1       0.00      0.00      0.00       0.0\n",
      "\n",
      "    accuracy                           0.00      56.0\n",
      "   macro avg       0.00      0.00      0.00      56.0\n",
      "weighted avg       0.00      0.00      0.00      56.0\n",
      "\n",
      "Predicting...\n",
      "Done!\n",
      "\n",
      "              precision    recall  f1-score   support\n",
      "\n",
      "           0       0.00      0.00      0.00      41.0\n",
      "           1       0.00      0.00      0.00       0.0\n",
      "\n",
      "    accuracy                           0.00      41.0\n",
      "   macro avg       0.00      0.00      0.00      41.0\n",
      "weighted avg       0.00      0.00      0.00      41.0\n",
      "\n"
     ]
    }
   ],
   "source": [
    "input_folder = 'C:\\\\Users\\\\ak5u16\\\\Desktop\\\\IndividualProject\\\\keypoints_for_all'\n",
    "folder_paths = glob.glob(os.path.join(input_folder, '*'))  \n",
    "\n",
    "y_predictions = []\n",
    "y_correct_labels = []\n",
    "class_reports = []\n",
    "\n",
    "for folder in folder_paths:\n",
    "    folder_name = os.path.basename(folder)\n",
    "    name = folder_name.split(' ', 1)[0] + '_' + folder_name.split(' ', 1)[1]    \n",
    "    keypoints_folders = glob.glob(os.path.join(folder, name + '*'))  \n",
    "    for kf in keypoints_folders:\n",
    "        if 'correct' in kf:\n",
    "            y_correct_labels.append(0)\n",
    "        else:\n",
    "            y_correct_labels.append(1)\n",
    "    \n",
    "    print('Predicting...')\n",
    "    for kf2 in keypoints_folders:\n",
    "        frame_pose = parse_frames(kf)\n",
    "        y_predictions.append(evaluate_form(frame_pose, folder_name, False))\n",
    "    \n",
    "    print('Done!\\n')\n",
    "        \n",
    "    if len(y_predictions) == len(y_correct_labels):\n",
    "        print(classification_report(y_correct_labels, y_predictions))\n",
    "        y_predictions = []\n",
    "        y_correct_labels = []\n",
    "    else:\n",
    "        print('Error')\n",
    "        \n",
    "        \n",
    "        \n",
    "        \n",
    "        \n",
    "    \n",
    "    "
   ]
  },
  {
   "cell_type": "code",
   "execution_count": 7,
   "metadata": {},
   "outputs": [
    {
     "name": "stdout",
     "output_type": "stream",
     "text": [
      "[]\n"
     ]
    }
   ],
   "source": [
    "print(y_predictions)"
   ]
  },
  {
   "cell_type": "code",
   "execution_count": null,
   "metadata": {},
   "outputs": [],
   "source": []
  }
 ],
 "metadata": {
  "kernelspec": {
   "display_name": "Python 3",
   "language": "python",
   "name": "python3"
  },
  "language_info": {
   "codemirror_mode": {
    "name": "ipython",
    "version": 3
   },
   "file_extension": ".py",
   "mimetype": "text/x-python",
   "name": "python",
   "nbconvert_exporter": "python",
   "pygments_lexer": "ipython3",
   "version": "3.6.9"
  }
 },
 "nbformat": 4,
 "nbformat_minor": 2
}
