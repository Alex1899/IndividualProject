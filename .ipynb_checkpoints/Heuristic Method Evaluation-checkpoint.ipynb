{
 "cells": [
  {
   "cell_type": "code",
   "execution_count": 1,
   "metadata": {},
   "outputs": [],
   "source": [
    "from Evaluation import evaluate_form\n",
    "from JointAngles import JointAngles\n",
    "from Parser import parse_frames\n",
    "import os\n",
    "import glob\n",
    "from sklearn.metrics import classification_report, accuracy_score"
   ]
  },
  {
   "cell_type": "code",
   "execution_count": 5,
   "metadata": {
    "scrolled": false
   },
   "outputs": [
    {
     "name": "stdout",
     "output_type": "stream",
     "text": [
      "bicep_curl\n",
      "Predicting...\n",
      "Done!\n",
      "\n",
      "              precision    recall  f1-score   support\n",
      "\n",
      "           0       1.00      0.69      0.82        13\n",
      "           1       0.93      1.00      0.96        54\n",
      "\n",
      "    accuracy                           0.94        67\n",
      "   macro avg       0.97      0.85      0.89        67\n",
      "weighted avg       0.94      0.94      0.94        67\n",
      "\n",
      "Accuracy score: 0.9402985074626866\n",
      "front_raise\n",
      "Predicting...\n"
     ]
    },
    {
     "ename": "KeyError",
     "evalue": "'start max trunk knee'",
     "output_type": "error",
     "traceback": [
      "\u001b[1;31m---------------------------------------------------------------------------\u001b[0m",
      "\u001b[1;31mKeyError\u001b[0m                                  Traceback (most recent call last)",
      "\u001b[1;32m<ipython-input-5-3641c91ec79a>\u001b[0m in \u001b[0;36m<module>\u001b[1;34m\u001b[0m\n\u001b[0;32m     21\u001b[0m     \u001b[1;32mfor\u001b[0m \u001b[0mkf2\u001b[0m \u001b[1;32min\u001b[0m \u001b[0mkeypoints_folders\u001b[0m\u001b[1;33m:\u001b[0m\u001b[1;33m\u001b[0m\u001b[1;33m\u001b[0m\u001b[0m\n\u001b[0;32m     22\u001b[0m         \u001b[0mframe_pose\u001b[0m \u001b[1;33m=\u001b[0m \u001b[0mparse_frames\u001b[0m\u001b[1;33m(\u001b[0m\u001b[0mkf2\u001b[0m\u001b[1;33m)\u001b[0m\u001b[1;33m\u001b[0m\u001b[1;33m\u001b[0m\u001b[0m\n\u001b[1;32m---> 23\u001b[1;33m         \u001b[0my_predictions\u001b[0m\u001b[1;33m.\u001b[0m\u001b[0mappend\u001b[0m\u001b[1;33m(\u001b[0m\u001b[0mevaluate_form\u001b[0m\u001b[1;33m(\u001b[0m\u001b[0mframe_pose\u001b[0m\u001b[1;33m,\u001b[0m \u001b[0mname\u001b[0m\u001b[1;33m,\u001b[0m \u001b[1;32mFalse\u001b[0m\u001b[1;33m)\u001b[0m\u001b[1;33m)\u001b[0m\u001b[1;33m\u001b[0m\u001b[1;33m\u001b[0m\u001b[0m\n\u001b[0m\u001b[0;32m     24\u001b[0m \u001b[1;33m\u001b[0m\u001b[0m\n\u001b[0;32m     25\u001b[0m     \u001b[0mprint\u001b[0m\u001b[1;33m(\u001b[0m\u001b[1;34m'Done!\\n'\u001b[0m\u001b[1;33m)\u001b[0m\u001b[1;33m\u001b[0m\u001b[1;33m\u001b[0m\u001b[0m\n",
      "\u001b[1;32m~\\Documents\\GitHub\\IndividualProject\\Evaluation.py\u001b[0m in \u001b[0;36mevaluate_form\u001b[1;34m(frame_pose, exercise, display)\u001b[0m\n\u001b[0;32m     24\u001b[0m         \u001b[1;32mreturn\u001b[0m \u001b[0mtriceps_pushdown_evaluation\u001b[0m\u001b[1;33m(\u001b[0m\u001b[0mframe_pose\u001b[0m\u001b[1;33m,\u001b[0m \u001b[0mdisplay\u001b[0m\u001b[1;33m)\u001b[0m\u001b[1;33m\u001b[0m\u001b[1;33m\u001b[0m\u001b[0m\n\u001b[0;32m     25\u001b[0m     \u001b[1;32melif\u001b[0m \u001b[0mexercise\u001b[0m \u001b[1;33m==\u001b[0m \u001b[1;34m'front_raise'\u001b[0m\u001b[1;33m:\u001b[0m\u001b[1;33m\u001b[0m\u001b[1;33m\u001b[0m\u001b[0m\n\u001b[1;32m---> 26\u001b[1;33m         \u001b[1;32mreturn\u001b[0m \u001b[0mfront_raise_evaluation\u001b[0m\u001b[1;33m(\u001b[0m\u001b[0mframe_pose\u001b[0m\u001b[1;33m,\u001b[0m \u001b[0mdisplay\u001b[0m\u001b[1;33m)\u001b[0m\u001b[1;33m\u001b[0m\u001b[1;33m\u001b[0m\u001b[0m\n\u001b[0m\u001b[0;32m     27\u001b[0m     \u001b[1;32melif\u001b[0m \u001b[0mexercise\u001b[0m \u001b[1;33m==\u001b[0m \u001b[1;34m'shoulder_press'\u001b[0m\u001b[1;33m:\u001b[0m\u001b[1;33m\u001b[0m\u001b[1;33m\u001b[0m\u001b[0m\n\u001b[0;32m     28\u001b[0m         \u001b[1;32mreturn\u001b[0m \u001b[0mshoulder_press_evaluation\u001b[0m\u001b[1;33m(\u001b[0m\u001b[0mframe_pose\u001b[0m\u001b[1;33m,\u001b[0m \u001b[0mdisplay\u001b[0m\u001b[1;33m)\u001b[0m\u001b[1;33m\u001b[0m\u001b[1;33m\u001b[0m\u001b[0m\n",
      "\u001b[1;32m~\\Documents\\GitHub\\IndividualProject\\Evaluation.py\u001b[0m in \u001b[0;36mfront_raise_evaluation\u001b[1;34m(frame_pose, display)\u001b[0m\n\u001b[0;32m    563\u001b[0m         \u001b[1;31m# starting position:\u001b[0m\u001b[1;33m\u001b[0m\u001b[1;33m\u001b[0m\u001b[1;33m\u001b[0m\u001b[0m\n\u001b[0;32m    564\u001b[0m         \u001b[1;32mif\u001b[0m \u001b[1;36m14\u001b[0m \u001b[1;33m>\u001b[0m \u001b[0mvalue\u001b[0m\u001b[1;33m[\u001b[0m\u001b[1;34m'start upper arm trunk'\u001b[0m\u001b[1;33m]\u001b[0m \u001b[1;33m>=\u001b[0m \u001b[1;36m0.02\u001b[0m \u001b[1;32mand\u001b[0m \u001b[1;36m180\u001b[0m \u001b[1;33m>=\u001b[0m \u001b[0mvalue\u001b[0m\u001b[1;33m[\u001b[0m\u001b[1;34m'start upper arm forearm'\u001b[0m\u001b[1;33m]\u001b[0m \u001b[1;33m>=\u001b[0m \u001b[1;36m148\u001b[0m\u001b[0;31m \u001b[0m\u001b[0;31m\\\u001b[0m\u001b[1;33m\u001b[0m\u001b[1;33m\u001b[0m\u001b[0m\n\u001b[1;32m--> 565\u001b[1;33m                 \u001b[1;32mand\u001b[0m \u001b[1;36m154\u001b[0m \u001b[1;33m<=\u001b[0m \u001b[0mvalue\u001b[0m\u001b[1;33m[\u001b[0m\u001b[1;34m'start max trunk knee'\u001b[0m\u001b[1;33m]\u001b[0m \u001b[1;33m<=\u001b[0m \u001b[1;36m180\u001b[0m\u001b[1;33m:\u001b[0m\u001b[1;33m\u001b[0m\u001b[1;33m\u001b[0m\u001b[0m\n\u001b[0m\u001b[0;32m    566\u001b[0m             \u001b[0mfeedback1\u001b[0m \u001b[1;33m=\u001b[0m \u001b[1;34m'Good Form: Correct starting position.'\u001b[0m\u001b[1;33m\u001b[0m\u001b[1;33m\u001b[0m\u001b[0m\n\u001b[0;32m    567\u001b[0m \u001b[1;33m\u001b[0m\u001b[0m\n",
      "\u001b[1;31mKeyError\u001b[0m: 'start max trunk knee'"
     ]
    }
   ],
   "source": [
    "#input_folder = 'C:\\\\Users\\\\ak5u16\\\\Desktop\\\\IndividualProject\\\\keypoints_for_all'\n",
    "input_folder = \"C:\\\\Users\\\\kvash\\\\Documents\\\\GitHub\\\\IndividualProject\\\\keypoints_for_all\"\n",
    "folder_paths = glob.glob(os.path.join(input_folder, '*'))  \n",
    "\n",
    "y_predictions = []\n",
    "y_correct_labels = []\n",
    "class_reports = []\n",
    "\n",
    "for folder in folder_paths:\n",
    "    name = os.path.basename(folder)\n",
    "    print(name)\n",
    "    keypoints_folders = glob.glob(os.path.join(folder, name + '*'))  \n",
    "    #print(keypoints_folders)\n",
    "    for kf in keypoints_folders:\n",
    "        if '_correct' in os.path.basename(kf):\n",
    "            y_correct_labels.append(0)\n",
    "        else:\n",
    "            y_correct_labels.append(1)\n",
    "    \n",
    "    print('Predicting...')\n",
    "    for kf2 in keypoints_folders:\n",
    "        frame_pose = parse_frames(kf2)\n",
    "        y_predictions.append(evaluate_form(frame_pose, name, False))\n",
    "\n",
    "    print('Done!\\n')        \n",
    "    if len(y_predictions) == len(y_correct_labels):\n",
    "        print(classification_report(y_correct_labels, y_predictions))\n",
    "        print('Accuracy score: ' + str(accuracy_score(y_correct_labels, y_predictions)))\n",
    "        y_predictions = []\n",
    "        y_correct_labels = []\n",
    "    else:\n",
    "        print('Error')\n",
    "        \n",
    "        \n",
    "        \n",
    "        \n",
    "        \n",
    "    \n",
    "    "
   ]
  },
  {
   "cell_type": "code",
   "execution_count": null,
   "metadata": {},
   "outputs": [],
   "source": []
  }
 ],
 "metadata": {
  "kernelspec": {
   "display_name": "Python 3",
   "language": "python",
   "name": "python3"
  },
  "language_info": {
   "codemirror_mode": {
    "name": "ipython",
    "version": 3
   },
   "file_extension": ".py",
   "mimetype": "text/x-python",
   "name": "python",
   "nbconvert_exporter": "python",
   "pygments_lexer": "ipython3",
   "version": "3.7.6"
  }
 },
 "nbformat": 4,
 "nbformat_minor": 2
}
