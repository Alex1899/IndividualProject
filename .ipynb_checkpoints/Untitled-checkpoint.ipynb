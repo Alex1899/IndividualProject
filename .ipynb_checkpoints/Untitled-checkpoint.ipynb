{
 "cells": [
  {
   "cell_type": "code",
   "execution_count": 25,
   "metadata": {},
   "outputs": [],
   "source": [
    "import glob\n",
    "import os\n",
    "import subprocess\n",
    "\n",
    "from watchdog.observers import Observer\n",
    "from watchdog.events import FileSystemEventHandler\n",
    "import time"
   ]
  },
  {
   "cell_type": "code",
   "execution_count": 26,
   "metadata": {},
   "outputs": [],
   "source": [
    "from threading import Thread\n"
   ]
  },
  {
   "cell_type": "code",
   "execution_count": 46,
   "metadata": {},
   "outputs": [],
   "source": [
    "os.chdir('../openpose')\n",
    "\n",
    "openpose_demo = os.path.join('bin', 'OpenPoseDemo.exe')\n",
    "output_points_folder = 'examples/'\n",
    "path = os.path.join(os.getcwd(), 'examples')\n",
    "\n",
    "\n",
    "json_files = []"
   ]
  },
  {
   "cell_type": "code",
   "execution_count": 50,
   "metadata": {},
   "outputs": [
    {
     "data": {
      "text/plain": [
       "'C:\\\\Users\\\\kvash\\\\Documents\\\\GitHub\\\\openpose\\\\examples'"
      ]
     },
     "execution_count": 50,
     "metadata": {},
     "output_type": "execute_result"
    }
   ],
   "source": [
    "path"
   ]
  },
  {
   "cell_type": "code",
   "execution_count": 47,
   "metadata": {},
   "outputs": [],
   "source": [
    "def getJSONS():\n",
    "    json_files = glob.glob(os.path.join(path, \"*.json\"))"
   ]
  },
  {
   "cell_type": "code",
   "execution_count": 53,
   "metadata": {},
   "outputs": [],
   "source": [
    "class ExampleHandler(FileSystemEventHandler):\n",
    "    def on_created(self, event): # when file is created\n",
    "        print(event)\n",
    "        # do something, eg. call your function to process the image\n",
    "        print (\"Got event for file \", event.src_path)"
   ]
  },
  {
   "cell_type": "code",
   "execution_count": 55,
   "metadata": {},
   "outputs": [
    {
     "name": "stdout",
     "output_type": "stream",
     "text": [
      "<FileCreatedEvent: src_path='C:\\\\Users\\\\kvash\\\\Documents\\\\GitHub\\\\openpose\\\\examples\\\\New Text Document (2).txt'>\n",
      "Got event for file  C:\\Users\\kvash\\Documents\\GitHub\\openpose\\examples\\New Text Document (2).txt\n",
      "its emptyyyits emptyyy\n",
      "\n"
     ]
    }
   ],
   "source": [
    "\n",
    "#p = subprocess.Popen([openpose_demo, '--write_json', output_points_folder,\n",
    " #                                '--number_people_max', '1'] )\n",
    "\n",
    "observer = Observer()\n",
    "event_handler = ExampleHandler() # create event handler\n",
    "# set observer to use created handler in directory\n",
    "observer.schedule(event_handler, path=path)\n",
    "observer.start()\n",
    "\n",
    "# sleep until keyboard interrupt, then stop + rejoin the observer\n",
    "try:\n",
    "    while True:\n",
    "        time.sleep(1)\n",
    "except KeyboardInterrupt:\n",
    "    observer.stop()\n",
    "\n",
    "observer.join()\n",
    "\n",
    "\n",
    "        \n",
    "\n",
    "\n",
    "\n",
    "    "
   ]
  },
  {
   "cell_type": "code",
   "execution_count": null,
   "metadata": {},
   "outputs": [],
   "source": [
    "\n",
    "    "
   ]
  },
  {
   "cell_type": "code",
   "execution_count": null,
   "metadata": {},
   "outputs": [],
   "source": [
    "p.kill()"
   ]
  }
 ],
 "metadata": {
  "kernelspec": {
   "display_name": "Python 3",
   "language": "python",
   "name": "python3"
  },
  "language_info": {
   "codemirror_mode": {
    "name": "ipython",
    "version": 3
   },
   "file_extension": ".py",
   "mimetype": "text/x-python",
   "name": "python",
   "nbconvert_exporter": "python",
   "pygments_lexer": "ipython3",
   "version": "3.7.6"
  }
 },
 "nbformat": 4,
 "nbformat_minor": 4
}
