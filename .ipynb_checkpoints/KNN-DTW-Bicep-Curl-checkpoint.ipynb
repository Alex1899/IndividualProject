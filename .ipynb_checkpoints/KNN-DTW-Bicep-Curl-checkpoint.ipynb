{
 "cells": [
  {
   "cell_type": "code",
   "execution_count": 1,
   "metadata": {},
   "outputs": [
    {
     "name": "stderr",
     "output_type": "stream",
     "text": [
      "C:\\Users\\kvash\\anaconda3\\lib\\site-packages\\sklearn\\utils\\deprecation.py:144: FutureWarning: The sklearn.neighbors.base module is  deprecated in version 0.22 and will be removed in version 0.24. The corresponding classes / functions should instead be imported from sklearn.neighbors. Anything that cannot be imported from sklearn.neighbors is now part of the private API.\n",
      "  warnings.warn(message, FutureWarning)\n"
     ]
    }
   ],
   "source": [
    "from tslearn.neighbors import KNeighborsTimeSeriesClassifier\n",
    "from Parser import parse_frames\n",
    "from scipy.signal import medfilt\n",
    "from Functions import find_extremas, filter_extremas, analyse_each_rep, numpy_fillna\n",
    "from JointAngles import JointAngles\n",
    "import numpy as np\n",
    "import glob\n",
    "import os\n",
    "import pickle\n",
    "import pandas as pd\n",
    "from functools import reduce"
   ]
  },
  {
   "cell_type": "code",
   "execution_count": 8,
   "metadata": {
    "scrolled": false
   },
   "outputs": [],
   "source": [
    "input_folder = \"C:\\\\Users\\\\kvash\\\\Documents\\\\GitHub\\\\IndividualProject\\\\keypoints_for_all\\\\bicep_curl\"\n",
    "#input_folder = 'C:\\\\Users\\\\ak5u16\\\\Desktop\\\\IndividualProject\\\\keypoints_for_all\\\\bicep curl'\n",
    "folder_paths = glob.glob(os.path.join(input_folder, 'bicep_curl*'))\n",
    "points_folder_name = os.path.basename(input_folder)\n",
    "\n",
    "\n",
    "def get_data_for_dataset(folder_paths, points_folder_name):\n",
    "    angle_arrays = []\n",
    "    uf_labels, ut_labels, tk_labels = [], [], []\n",
    "    if points_folder_name == 'bicep_curl':  \n",
    "        for folder in folder_paths:\n",
    "            video_name = os.path.basename(folder)\n",
    "            frame_poses = parse_frames(folder)\n",
    "            joint_angles = JointAngles(points_folder_name, frame_poses)\n",
    "\n",
    "            upArm_forearm_angles = np.array(joint_angles.upArm_forearm_angles, dtype=np.float)\n",
    "            upArm_forearm_angles = np.nan_to_num(upArm_forearm_angles)\n",
    "            upArm_forearm_angles_filtered = medfilt(medfilt(upArm_forearm_angles, 5), 5)\n",
    "\n",
    "            upArm_trunk_angles = np.array(joint_angles.upArm_trunk_angles, dtype=np.float)\n",
    "            upArm_trunk_angles = np.nan_to_num(upArm_trunk_angles)\n",
    "            upArm_trunk_angles_filtered = medfilt(medfilt(upArm_trunk_angles, 5), 5)\n",
    "\n",
    "            trunk_knee_angles = np.array(joint_angles.trunk_knee_angles)\n",
    "            trunk_knee_angles = np.nan_to_num(trunk_knee_angles)\n",
    "            trunk_knee_angles_filtered = medfilt(medfilt(trunk_knee_angles, 5), 5)\n",
    "\n",
    "            #number of reps \n",
    "\n",
    "            extremas = filter_extremas(upArm_forearm_angles_filtered, find_extremas(upArm_forearm_angles_filtered)) \n",
    "\n",
    "            uf_angles, ut_angles, tk_angles = analyse_each_rep(points_folder_name, 'dataset', extremas, upArm_forearm_angles_filtered, upArm_trunk_angles_filtered, trunk_knee_angles_filtered)\n",
    "            for uf, ut, tk in zip(uf_angles, ut_angles, tk_angles):\n",
    "                # start position\n",
    "                if 180 >= uf[:1][0] >= 138 and np.min(uf) < 68 and 180 >= uf[-1:][0] >= 139:\n",
    "                    uf_labels.append(0)\n",
    "                else:\n",
    "                    uf_labels.append(1)\n",
    "\n",
    "                if ut[:1][0] < 21 and np.max(ut) < 21 and ut[-1:][0] < 21:\n",
    "                    ut_labels.append(0)\n",
    "                else:\n",
    "                    ut_labels.append(1)\n",
    "\n",
    "                if 165 <= tk[:1][0] < 195 and np.min(tk) >= 165 and 165 <= np.max(tk) < 195 and 165<= tk[-1:][0] < 195:\n",
    "                    tk_labels.append(0)\n",
    "                else:\n",
    "                    tk_labels.append(1)\n",
    "            angle_arrays.append(([uf_labels, ut_labels, tk_labels], extremas, [uf_angles, ut_angles, tk_angles]))\n",
    "            # erase labels to store new labels         \n",
    "            uf_labels, ut_labels, tk_labels = [], [], []\n",
    "\n",
    "    else: \n",
    "        print('Error: Wrong folder path! Has to be: bicep_curl')\n",
    "        \n",
    "    return angle_arrays\n",
    "                                             \n",
    "                                    \n",
    "\n",
    "def fill_dataframe(angle_arrays, exercise_folder_name):\n",
    "    df_tup = (None,None,None)\n",
    "    \n",
    "    print('Filling dataset with ' + str(exercise_folder_name) + ' data...')\n",
    "   \n",
    "    for tup in angle_arrays:\n",
    "        labels = tup[0]\n",
    "        extremas = tup[1]\n",
    "        uf, ut, tk = tup[2]\n",
    "\n",
    "        # Extract rep angles\n",
    "        #print(len(uf), len(ut), len(tk))\n",
    "        s1 = pd.Series(uf, name='Angle_array')\n",
    "        s1a = pd.Series(labels[0], name='Label')\n",
    "        df1 = pd.concat([s1,s1a], axis=1)\n",
    "               \n",
    "        s2 = pd.Series(ut, name='Angle_array')\n",
    "        s2a = pd.Series(labels[1], name='Label')\n",
    "        df2 = pd.concat([s2,s2a], axis=1)\n",
    "        \n",
    "        s3 = pd.Series(tk, name='Angle_array')\n",
    "        s3a = pd.Series(labels[2], name='Label')\n",
    "        df3 = pd.concat([s3,s3a], axis=1)\n",
    "               \n",
    "        df_tup = (pd.concat([df_tup[0],df1]), pd.concat([df_tup[1], df2]), pd.concat([df_tup[2],df3]))\n",
    "       \n",
    "    return df_tup\n",
    "\n"
   ]
  },
  {
   "cell_type": "code",
   "execution_count": 9,
   "metadata": {
    "scrolled": true
   },
   "outputs": [
    {
     "name": "stdout",
     "output_type": "stream",
     "text": [
      "Filling dataset with bicep_curl data...\n"
     ]
    }
   ],
   "source": [
    "angle_arrays = get_data_for_dataset(folder_paths, points_folder_name)\n",
    "df_tup = fill_dataframe(angle_arrays, points_folder_name)\n",
    "\n",
    "\n",
    "\n",
    "    "
   ]
  },
  {
   "cell_type": "code",
   "execution_count": 11,
   "metadata": {},
   "outputs": [
    {
     "name": "stdout",
     "output_type": "stream",
     "text": [
      "<class 'pandas.core.frame.DataFrame'>\n",
      "Int64Index: 714 entries, 0 to 11\n",
      "Data columns (total 2 columns):\n",
      " #   Column       Non-Null Count  Dtype \n",
      "---  ------       --------------  ----- \n",
      " 0   Angle_array  714 non-null    object\n",
      " 1   Label        714 non-null    int64 \n",
      "dtypes: int64(1), object(1)\n",
      "memory usage: 16.7+ KB\n"
     ]
    }
   ],
   "source": [
    "df_tup[0].info()"
   ]
  },
  {
   "cell_type": "code",
   "execution_count": 6,
   "metadata": {},
   "outputs": [
    {
     "ename": "NameError",
     "evalue": "name 'uf_df_good' is not defined",
     "output_type": "error",
     "traceback": [
      "\u001b[1;31m---------------------------------------------------------------------------\u001b[0m",
      "\u001b[1;31mNameError\u001b[0m                                 Traceback (most recent call last)",
      "\u001b[1;32m<ipython-input-6-a8aabf6823c8>\u001b[0m in \u001b[0;36m<module>\u001b[1;34m\u001b[0m\n\u001b[1;32m----> 1\u001b[1;33m \u001b[0muf_df_good\u001b[0m\u001b[1;33m.\u001b[0m\u001b[0mAngle_array\u001b[0m\u001b[1;33m.\u001b[0m\u001b[0mshape\u001b[0m\u001b[1;33m\u001b[0m\u001b[1;33m\u001b[0m\u001b[0m\n\u001b[0m",
      "\u001b[1;31mNameError\u001b[0m: name 'uf_df_good' is not defined"
     ]
    }
   ],
   "source": [
    "uf_df_good.Angle_array.shape"
   ]
  },
  {
   "cell_type": "code",
   "execution_count": 12,
   "metadata": {},
   "outputs": [
    {
     "name": "stdout",
     "output_type": "stream",
     "text": [
      "<class 'pandas.core.frame.DataFrame'>\n",
      "RangeIndex: 437 entries, 0 to 436\n",
      "Data columns (total 2 columns):\n",
      " #   Column       Non-Null Count  Dtype \n",
      "---  ------       --------------  ----- \n",
      " 0   Angle_array  437 non-null    object\n",
      " 1   Label        437 non-null    int64 \n",
      "dtypes: int64(1), object(1)\n",
      "memory usage: 7.0+ KB\n",
      "None\n"
     ]
    }
   ],
   "source": [
    "uf_df = df_tup[0]\n",
    "uf_df_good = uf_df[uf_df.Label == 0].reset_index(drop=True)\n",
    "print(uf_df_good.info())\n",
    "#uf_df = filter_uf_tk_df(uf_df.Angle_array.values, uf_df)\n",
    "#print(uf_df.info())"
   ]
  },
  {
   "cell_type": "code",
   "execution_count": 13,
   "metadata": {},
   "outputs": [
    {
     "name": "stdout",
     "output_type": "stream",
     "text": [
      "<class 'pandas.core.frame.DataFrame'>\n",
      "RangeIndex: 277 entries, 0 to 276\n",
      "Data columns (total 2 columns):\n",
      " #   Column       Non-Null Count  Dtype \n",
      "---  ------       --------------  ----- \n",
      " 0   Angle_array  277 non-null    object\n",
      " 1   Label        277 non-null    int64 \n",
      "dtypes: int64(1), object(1)\n",
      "memory usage: 4.5+ KB\n",
      "None\n"
     ]
    }
   ],
   "source": [
    "uf_df_bad = uf_df[uf_df.Label == 1].reset_index(drop=True)\n",
    "print(uf_df_bad.info())"
   ]
  },
  {
   "cell_type": "code",
   "execution_count": 125,
   "metadata": {},
   "outputs": [
    {
     "name": "stdout",
     "output_type": "stream",
     "text": [
      "<class 'pandas.core.frame.DataFrame'>\n",
      "RangeIndex: 258 entries, 0 to 257\n",
      "Data columns (total 2 columns):\n",
      " #   Column       Non-Null Count  Dtype \n",
      "---  ------       --------------  ----- \n",
      " 0   Angle_array  258 non-null    object\n",
      " 1   Label        258 non-null    int64 \n",
      "dtypes: int64(1), object(1)\n",
      "memory usage: 4.2+ KB\n",
      "None\n"
     ]
    }
   ],
   "source": [
    "ut_df = df_tup[1]\n",
    "ut_df_good = ut_df[ut_df.Label == 0].reset_index(drop=True)\n",
    "print(ut_df_good.info())\n",
    "#ut_df = filter_ut_df(ut_df.Angle_array.values, ut_df)\n",
    "#print(ut_df.info())"
   ]
  },
  {
   "cell_type": "code",
   "execution_count": 126,
   "metadata": {},
   "outputs": [
    {
     "name": "stdout",
     "output_type": "stream",
     "text": [
      "<class 'pandas.core.frame.DataFrame'>\n",
      "RangeIndex: 462 entries, 0 to 461\n",
      "Data columns (total 2 columns):\n",
      " #   Column       Non-Null Count  Dtype \n",
      "---  ------       --------------  ----- \n",
      " 0   Angle_array  462 non-null    object\n",
      " 1   Label        462 non-null    int64 \n",
      "dtypes: int64(1), object(1)\n",
      "memory usage: 7.3+ KB\n",
      "None\n"
     ]
    }
   ],
   "source": [
    "ut_df_bad = ut_df[ut_df.Label == 1].reset_index(drop=True)\n",
    "print(ut_df_bad.info())\n",
    "#ut_df = filter_ut_df(ut_df.Angle_array.values, ut_df)\n",
    "#print(ut_df.info())"
   ]
  },
  {
   "cell_type": "code",
   "execution_count": 127,
   "metadata": {},
   "outputs": [
    {
     "name": "stdout",
     "output_type": "stream",
     "text": [
      "<class 'pandas.core.frame.DataFrame'>\n",
      "RangeIndex: 383 entries, 0 to 382\n",
      "Data columns (total 2 columns):\n",
      " #   Column       Non-Null Count  Dtype \n",
      "---  ------       --------------  ----- \n",
      " 0   Angle_array  383 non-null    object\n",
      " 1   Label        383 non-null    int64 \n",
      "dtypes: int64(1), object(1)\n",
      "memory usage: 6.1+ KB\n",
      "None\n"
     ]
    }
   ],
   "source": [
    "tk_df = df_tup[2]\n",
    "tk_df_good = tk_df[tk_df.Label == 0].reset_index(drop=True)\n",
    "print(tk_df_good.info())\n",
    "#tk_df = filter_tk_df(tk_df.Angle_array.values, tk_df)\n",
    "#print(tk_df.info())"
   ]
  },
  {
   "cell_type": "code",
   "execution_count": 128,
   "metadata": {},
   "outputs": [
    {
     "name": "stdout",
     "output_type": "stream",
     "text": [
      "<class 'pandas.core.frame.DataFrame'>\n",
      "RangeIndex: 337 entries, 0 to 336\n",
      "Data columns (total 2 columns):\n",
      " #   Column       Non-Null Count  Dtype \n",
      "---  ------       --------------  ----- \n",
      " 0   Angle_array  337 non-null    object\n",
      " 1   Label        337 non-null    int64 \n",
      "dtypes: int64(1), object(1)\n",
      "memory usage: 5.4+ KB\n",
      "None\n"
     ]
    }
   ],
   "source": [
    "tk_df_bad = tk_df[tk_df.Label == 1].reset_index(drop=True)\n",
    "print(tk_df_bad.info())"
   ]
  },
  {
   "cell_type": "code",
   "execution_count": 129,
   "metadata": {},
   "outputs": [],
   "source": [
    "x_test, y_test = [], []"
   ]
  },
  {
   "cell_type": "code",
   "execution_count": 130,
   "metadata": {},
   "outputs": [],
   "source": [
    "for m in range(108):\n",
    "    x_test.append(uf_df_good.Angle_array[m])\n",
    "    y_test.append(uf_df_good.Label[m])\n",
    "    uf_df_good = uf_df_good.drop(m)"
   ]
  },
  {
   "cell_type": "code",
   "execution_count": 131,
   "metadata": {},
   "outputs": [],
   "source": [
    "for m in range(108):\n",
    "    x_test.append(uf_df_bad.Angle_array[m])\n",
    "    y_test.append(uf_df_bad.Label[m])\n",
    "    uf_df_bad = uf_df_bad.drop(m)"
   ]
  },
  {
   "cell_type": "code",
   "execution_count": 132,
   "metadata": {},
   "outputs": [],
   "source": [
    "for m in range(108):\n",
    "    x_test.append(ut_df_good.Angle_array[m])\n",
    "    y_test.append(ut_df_good.Label[m])\n",
    "    ut_df_good = ut_df_good.drop(m)"
   ]
  },
  {
   "cell_type": "code",
   "execution_count": 133,
   "metadata": {},
   "outputs": [],
   "source": [
    "for m in range(108):\n",
    "    x_test.append(ut_df_bad.Angle_array[m])\n",
    "    y_test.append(ut_df_bad.Label[m])\n",
    "    ut_df_bad = ut_df_bad.drop(m)"
   ]
  },
  {
   "cell_type": "code",
   "execution_count": 134,
   "metadata": {},
   "outputs": [],
   "source": [
    "for m in range(108):\n",
    "    x_test.append(tk_df_good.Angle_array[m])\n",
    "    y_test.append(tk_df_good.Label[m])\n",
    "    tk_df_good = tk_df_good.drop(m)"
   ]
  },
  {
   "cell_type": "code",
   "execution_count": 135,
   "metadata": {},
   "outputs": [],
   "source": [
    "for m in range(108):\n",
    "    x_test.append(tk_df_bad.Angle_array[m])\n",
    "    y_test.append(tk_df_bad.Label[m])\n",
    "    tk_df_bad = tk_df_bad.drop(m)"
   ]
  },
  {
   "cell_type": "code",
   "execution_count": 136,
   "metadata": {},
   "outputs": [
    {
     "data": {
      "text/plain": [
       "648"
      ]
     },
     "execution_count": 136,
     "metadata": {},
     "output_type": "execute_result"
    }
   ],
   "source": [
    "len(x_test)"
   ]
  },
  {
   "cell_type": "code",
   "execution_count": 137,
   "metadata": {},
   "outputs": [],
   "source": [
    "# reps dataframe\n",
    "df = pd.concat([uf_df_good, uf_df_bad, ut_df_good, ut_df_bad, tk_df_good, tk_df_bad]).reset_index(drop=True)"
   ]
  },
  {
   "cell_type": "code",
   "execution_count": 138,
   "metadata": {},
   "outputs": [
    {
     "name": "stdout",
     "output_type": "stream",
     "text": [
      "<class 'pandas.core.frame.DataFrame'>\n",
      "RangeIndex: 1512 entries, 0 to 1511\n",
      "Data columns (total 2 columns):\n",
      " #   Column       Non-Null Count  Dtype \n",
      "---  ------       --------------  ----- \n",
      " 0   Angle_array  1512 non-null   object\n",
      " 1   Label        1512 non-null   int64 \n",
      "dtypes: int64(1), object(1)\n",
      "memory usage: 23.8+ KB\n"
     ]
    }
   ],
   "source": [
    "df.info()"
   ]
  },
  {
   "cell_type": "code",
   "execution_count": 41,
   "metadata": {},
   "outputs": [
    {
     "data": {
      "text/plain": [
       "array([0, 1], dtype=int64)"
      ]
     },
     "execution_count": 41,
     "metadata": {},
     "output_type": "execute_result"
    }
   ],
   "source": [
    "np.unique(df.Label.values)"
   ]
  },
  {
   "cell_type": "code",
   "execution_count": 30,
   "metadata": {},
   "outputs": [
    {
     "name": "stdout",
     "output_type": "stream",
     "text": [
      "<class 'pandas.core.frame.DataFrame'>\n",
      "RangeIndex: 1512 entries, 0 to 1511\n",
      "Data columns (total 2 columns):\n",
      " #   Column       Non-Null Count  Dtype \n",
      "---  ------       --------------  ----- \n",
      " 0   Angle_array  1512 non-null   object\n",
      " 1   Label        1512 non-null   int64 \n",
      "dtypes: int64(1), object(1)\n",
      "memory usage: 23.8+ KB\n"
     ]
    }
   ],
   "source": [
    "#correct reps dataframe\n",
    "df = pickle.load( open( \"datasets/bicep_curl_df.pickle\", \"rb\" ) )\n",
    "\n",
    "df.info()"
   ]
  },
  {
   "cell_type": "markdown",
   "metadata": {},
   "source": [
    "# Timeseries Classification "
   ]
  },
  {
   "cell_type": "code",
   "execution_count": 141,
   "metadata": {},
   "outputs": [],
   "source": [
    "s1 = pd.Series(x_test, name='Angle_array')\n",
    "s1a = pd.Series(y_test, name='Label')\n",
    "df_test = pd.concat([s1,s1a], axis=1)"
   ]
  },
  {
   "cell_type": "code",
   "execution_count": 143,
   "metadata": {},
   "outputs": [
    {
     "name": "stdout",
     "output_type": "stream",
     "text": [
      "<class 'pandas.core.frame.DataFrame'>\n",
      "RangeIndex: 648 entries, 0 to 647\n",
      "Data columns (total 2 columns):\n",
      " #   Column       Non-Null Count  Dtype \n",
      "---  ------       --------------  ----- \n",
      " 0   Angle_array  648 non-null    object\n",
      " 1   Label        648 non-null    int64 \n",
      "dtypes: int64(1), object(1)\n",
      "memory usage: 10.2+ KB\n"
     ]
    }
   ],
   "source": [
    "df_test.info()"
   ]
  },
  {
   "cell_type": "code",
   "execution_count": 144,
   "metadata": {},
   "outputs": [],
   "source": [
    "df_test = df_test.sample(frac=1).reset_index(drop=True)"
   ]
  },
  {
   "cell_type": "code",
   "execution_count": 106,
   "metadata": {},
   "outputs": [],
   "source": [
    "def make_equal_length(x, y):\n",
    "    if x.shape[1] > y.shape[1]:\n",
    "        n = x.shape[1] - y.shape[1]\n",
    "        for r in range(y.shape[0]):\n",
    "            y[r] = np.pad(y[r], (0,n), 'constant', constant_values=np.nan)\n",
    "            \n",
    "    elif x.shape[1] < y.shape[1]:\n",
    "        n = y.shape[1] - x.shape[1] \n",
    "        for r in range(x.shape[0]):\n",
    "            x[r] = np.pad(x[r], (0,n), 'constant', constant_values=np.nan)\n",
    "    \n",
    "    return x, y"
   ]
  },
  {
   "cell_type": "code",
   "execution_count": 107,
   "metadata": {},
   "outputs": [
    {
     "name": "stdout",
     "output_type": "stream",
     "text": [
      "<class 'int'>\n"
     ]
    },
    {
     "ename": "ValueError",
     "evalue": "could not broadcast input array from shape (343) into shape (106)",
     "output_type": "error",
     "traceback": [
      "\u001b[1;31m---------------------------------------------------------------------------\u001b[0m",
      "\u001b[1;31mValueError\u001b[0m                                Traceback (most recent call last)",
      "\u001b[1;32m<ipython-input-107-f5eadea94415>\u001b[0m in \u001b[0;36m<module>\u001b[1;34m\u001b[0m\n\u001b[1;32m----> 1\u001b[1;33m \u001b[0mX_train\u001b[0m\u001b[1;33m,\u001b[0m \u001b[0mX_test\u001b[0m \u001b[1;33m=\u001b[0m \u001b[0mmake_equal_length\u001b[0m\u001b[1;33m(\u001b[0m\u001b[0mX_train\u001b[0m\u001b[1;33m,\u001b[0m \u001b[0mX_test\u001b[0m\u001b[1;33m)\u001b[0m\u001b[1;33m\u001b[0m\u001b[1;33m\u001b[0m\u001b[0m\n\u001b[0m",
      "\u001b[1;32m<ipython-input-106-bec2da90491e>\u001b[0m in \u001b[0;36mmake_equal_length\u001b[1;34m(x, y)\u001b[0m\n\u001b[0;32m      4\u001b[0m         \u001b[0mprint\u001b[0m\u001b[1;33m(\u001b[0m\u001b[0mtype\u001b[0m\u001b[1;33m(\u001b[0m\u001b[0mn\u001b[0m\u001b[1;33m)\u001b[0m\u001b[1;33m)\u001b[0m\u001b[1;33m\u001b[0m\u001b[1;33m\u001b[0m\u001b[0m\n\u001b[0;32m      5\u001b[0m         \u001b[1;32mfor\u001b[0m \u001b[0mr\u001b[0m \u001b[1;32min\u001b[0m \u001b[0mrange\u001b[0m\u001b[1;33m(\u001b[0m\u001b[0my\u001b[0m\u001b[1;33m.\u001b[0m\u001b[0mshape\u001b[0m\u001b[1;33m[\u001b[0m\u001b[1;36m0\u001b[0m\u001b[1;33m]\u001b[0m\u001b[1;33m)\u001b[0m\u001b[1;33m:\u001b[0m\u001b[1;33m\u001b[0m\u001b[1;33m\u001b[0m\u001b[0m\n\u001b[1;32m----> 6\u001b[1;33m             \u001b[0my\u001b[0m\u001b[1;33m[\u001b[0m\u001b[0mr\u001b[0m\u001b[1;33m]\u001b[0m \u001b[1;33m=\u001b[0m \u001b[0mnp\u001b[0m\u001b[1;33m.\u001b[0m\u001b[0mpad\u001b[0m\u001b[1;33m(\u001b[0m\u001b[0my\u001b[0m\u001b[1;33m[\u001b[0m\u001b[0mr\u001b[0m\u001b[1;33m]\u001b[0m\u001b[1;33m,\u001b[0m \u001b[1;33m(\u001b[0m\u001b[1;36m0\u001b[0m\u001b[1;33m,\u001b[0m\u001b[0mn\u001b[0m\u001b[1;33m)\u001b[0m\u001b[1;33m,\u001b[0m \u001b[1;34m'constant'\u001b[0m\u001b[1;33m,\u001b[0m \u001b[0mconstant_values\u001b[0m\u001b[1;33m=\u001b[0m\u001b[0mnp\u001b[0m\u001b[1;33m.\u001b[0m\u001b[0mnan\u001b[0m\u001b[1;33m)\u001b[0m\u001b[1;33m\u001b[0m\u001b[1;33m\u001b[0m\u001b[0m\n\u001b[0m\u001b[0;32m      7\u001b[0m \u001b[1;33m\u001b[0m\u001b[0m\n\u001b[0;32m      8\u001b[0m     \u001b[1;32melif\u001b[0m \u001b[0mx\u001b[0m\u001b[1;33m.\u001b[0m\u001b[0mshape\u001b[0m\u001b[1;33m[\u001b[0m\u001b[1;36m1\u001b[0m\u001b[1;33m]\u001b[0m \u001b[1;33m<\u001b[0m \u001b[0my\u001b[0m\u001b[1;33m.\u001b[0m\u001b[0mshape\u001b[0m\u001b[1;33m[\u001b[0m\u001b[1;36m1\u001b[0m\u001b[1;33m]\u001b[0m\u001b[1;33m:\u001b[0m\u001b[1;33m\u001b[0m\u001b[1;33m\u001b[0m\u001b[0m\n",
      "\u001b[1;31mValueError\u001b[0m: could not broadcast input array from shape (343) into shape (106)"
     ]
    }
   ],
   "source": [
    "X_train, X_test = make_equal_length(X_train, X_test)"
   ]
  },
  {
   "cell_type": "code",
   "execution_count": 108,
   "metadata": {},
   "outputs": [
    {
     "data": {
      "text/plain": [
       "(648, 106)"
      ]
     },
     "execution_count": 108,
     "metadata": {},
     "output_type": "execute_result"
    }
   ],
   "source": [
    "X_test.shape"
   ]
  },
  {
   "cell_type": "code",
   "execution_count": 112,
   "metadata": {},
   "outputs": [],
   "source": [
    "df = pd.concat([df_tup[0], df_tup[1], df_tup[2]])"
   ]
  },
  {
   "cell_type": "code",
   "execution_count": 113,
   "metadata": {},
   "outputs": [
    {
     "name": "stdout",
     "output_type": "stream",
     "text": [
      "<class 'pandas.core.frame.DataFrame'>\n",
      "Int64Index: 2160 entries, 0 to 11\n",
      "Data columns (total 2 columns):\n",
      " #   Column       Non-Null Count  Dtype \n",
      "---  ------       --------------  ----- \n",
      " 0   Angle_array  2160 non-null   object\n",
      " 1   Label        2160 non-null   int64 \n",
      "dtypes: int64(1), object(1)\n",
      "memory usage: 50.6+ KB\n"
     ]
    }
   ],
   "source": [
    "df.info()"
   ]
  },
  {
   "cell_type": "code",
   "execution_count": 146,
   "metadata": {},
   "outputs": [
    {
     "name": "stdout",
     "output_type": "stream",
     "text": [
      "(1512, 343)\n",
      "(648, 106)\n"
     ]
    }
   ],
   "source": [
    "from sklearn.model_selection import train_test_split\n",
    "from tslearn.neighbors import KNeighborsTimeSeriesClassifier\n",
    "from sklearn import metrics\n",
    "\n",
    "df = df.sample(frac=1).reset_index(drop=True)\n",
    "\n",
    "y_train = df['Label']\n",
    "X_train = df['Angle_array']\n",
    "X_train = numpy_fillna(X_train)\n",
    "X_train[X_train==0] = np.nan\n",
    "\n",
    "X_test = df_test['Angle_array']\n",
    "y_test = df_test['Label']\n",
    "X_test = numpy_fillna(X_test)\n",
    "X_test[X_test==0] = np.nan\n",
    "print(X_train.shape)\n",
    "print(X_test.shape)"
   ]
  },
  {
   "cell_type": "markdown",
   "metadata": {},
   "source": [
    "X_train, X_test, y_train, y_test = train_test_split(x, y, test_size=0.3)\n",
    "print(X_train.shape)\n",
    "print(X_test.shape)"
   ]
  },
  {
   "cell_type": "code",
   "execution_count": 147,
   "metadata": {
    "scrolled": false
   },
   "outputs": [
    {
     "name": "stdout",
     "output_type": "stream",
     "text": [
      "Correct classification rate: 0.9151234567901234\n",
      "\n",
      "\n",
      "              precision    recall  f1-score   support\n",
      "\n",
      "           0       0.86      0.99      0.92       324\n",
      "           1       0.99      0.84      0.91       324\n",
      "\n",
      "    accuracy                           0.92       648\n",
      "   macro avg       0.92      0.92      0.91       648\n",
      "weighted avg       0.92      0.92      0.91       648\n",
      "\n",
      "F1 Score: 0.9146745831288381\n"
     ]
    }
   ],
   "source": [
    "k_range = range(1, 2) #26\n",
    "scores = {}\n",
    "scores_list = []\n",
    "for k in k_range:\n",
    "    knn_clf = KNeighborsTimeSeriesClassifier(n_neighbors=k, metric=\"dtw\")\n",
    "    knn_clf.fit(X_train, y_train)\n",
    "    predicted_labels = knn_clf.predict(X_test)\n",
    "    acc = metrics.accuracy_score(y_test, predicted_labels)\n",
    "    scores[k] = acc\n",
    "    print(\"Correct classification rate:\", acc)\n",
    "    print('\\n')\n",
    "    print(metrics.classification_report(y_test, predicted_labels))\n",
    "    print('F1 Score:', metrics.f1_score(y_test, predicted_labels, average='macro'))\n"
   ]
  },
  {
   "cell_type": "code",
   "execution_count": 29,
   "metadata": {},
   "outputs": [],
   "source": [
    "with open('datasets/bicep_curl_df.pickle', 'wb') as f:\n",
    "    pickle.dump(df, f)"
   ]
  }
 ],
 "metadata": {
  "kernelspec": {
   "display_name": "Python 3",
   "language": "python",
   "name": "python3"
  },
  "language_info": {
   "codemirror_mode": {
    "name": "ipython",
    "version": 3
   },
   "file_extension": ".py",
   "mimetype": "text/x-python",
   "name": "python",
   "nbconvert_exporter": "python",
   "pygments_lexer": "ipython3",
   "version": "3.7.6"
  }
 },
 "nbformat": 4,
 "nbformat_minor": 2
}
