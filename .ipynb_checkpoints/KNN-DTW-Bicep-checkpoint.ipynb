{
 "cells": [
  {
   "cell_type": "code",
   "execution_count": 57,
   "metadata": {},
   "outputs": [],
   "source": [
    "from tslearn.neighbors import KNeighborsTimeSeriesClassifier\n",
    "from Parser import parse_frames\n",
    "from scipy.signal import medfilt\n",
    "from Functions import analyse_each_rep, find_extremas\n",
    "from JointAngles import JointAngles\n",
    "import numpy as np\n",
    "import glob\n",
    "import os\n",
    "import pandas as pd\n",
    "from functools import reduce"
   ]
  },
  {
   "cell_type": "code",
   "execution_count": 114,
   "metadata": {
    "scrolled": false
   },
   "outputs": [],
   "source": [
    "input_folder = \"C:\\\\Users\\\\altaok\\\\Documents\\\\GitHub\\\\IndividualProject\\\\keypoints_for_all\"\n",
    "folder_paths = glob.glob(os.path.join(input_folder, 'output_points_bicep*'))\n",
    "\n",
    "\n",
    "def fill_dataframe(keypoints_paths):\n",
    "    angle_label_dict = {}\n",
    "    data = {}\n",
    "    labels = []\n",
    "    df_list = []\n",
    "    for folder in folder_paths:\n",
    "        video_name = os.path.basename(folder).replace('output_points_', '')\n",
    "        label = 0 if 'correct' in folder else 1\n",
    "        frame_poses = parse_frames(folder)\n",
    "        joint_angles = JointAngles('bicep curl', frame_poses)\n",
    "\n",
    "        upArm_trunk_angles = np.array(joint_angles.upArm_trunk_angles, dtype=np.float)\n",
    "        upArm_trunk_angles_filtered = medfilt(medfilt(upArm_trunk_angles, 5), 5)\n",
    "\n",
    "        upArm_forearm_angles = np.array(joint_angles.upArm_forearm_angles, dtype=np.float)\n",
    "        upArm_forearm_angles_filtered = medfilt(medfilt(upArm_forearm_angles, 5), 5)\n",
    "\n",
    "        trunk_knee_angles = np.array(joint_angles.trunk_knee_angles, dtype=np.float)\n",
    "        trunk_knee_angles_filtered = medfilt(medfilt(trunk_knee_angles, 5), 5)\n",
    "        \n",
    "        #number of reps \n",
    "        upArm_forearm_maximas, indexesmax3 = find_extremas(upArm_forearm_angles_filtered) \n",
    "       \n",
    "        if upArm_forearm_maximas.size == 0:\n",
    "            s1 = pd.Series([upArm_forearm_angles_filtered, upArm_trunk_angles_filtered,  trunk_knee_angles_filtered], name='Angle_array')\n",
    "            s2 = pd.Series([label, label, label], name='Label')\n",
    "            df = pd.concat([s1,s2], axis=1)           \n",
    "      \n",
    "            df_list.append(df)\n",
    "           \n",
    "            \n",
    "        else:         \n",
    "            # Extract rep angles\n",
    "            each_rep_angles = analyse_each_rep(trunk_knee_angles_filtered, upArm_forearm_angles_filtered, upArm_trunk_angles_filtered, upArm_forearm_maximas)            \n",
    "            for n in each_rep_angles:\n",
    "                labels.append(label)    \n",
    "                        \n",
    "            s1 = pd.Series(each_rep_angles, name='Angle_array')\n",
    "            s2 = pd.Series(labels, name='Label')\n",
    "            df = pd.concat([s1,s2], axis=1)\n",
    "        \n",
    "            df_list.append(df)\n",
    "            # Erase labels\n",
    "            labels = []\n",
    "            \n",
    "    \n",
    "    if len(df_list) > 1:\n",
    "        df_final = pd.concat(df_list, axis=0).reset_index(drop=True)\n",
    "       \n",
    "    return df_final\n",
    "\n",
    "\n",
    "        "
   ]
  },
  {
   "cell_type": "code",
   "execution_count": 115,
   "metadata": {
    "scrolled": false
   },
   "outputs": [
    {
     "name": "stdout",
     "output_type": "stream",
     "text": [
      "<class 'pandas.core.frame.DataFrame'>\n",
      "RangeIndex: 33 entries, 0 to 32\n",
      "Data columns (total 2 columns):\n",
      "Angle_array    33 non-null object\n",
      "Label          33 non-null int64\n",
      "dtypes: int64(1), object(1)\n",
      "memory usage: 656.0+ bytes\n",
      "None\n",
      "                                         Angle_array  Label\n",
      "0  [170.7536123592761, 170.7536123592761, 170.753...      0\n",
      "1  [0.10820696782771888, 0.11090423210451548, 0.2...      0\n",
      "2  [176.66379719540063, 177.34931455996818, 177.6...      0\n",
      "3  [132.88076293755415, 132.88076293755415, 132.8...      0\n",
      "4  [5.534939872641024, 5.534939872641024, 5.53493...      0\n"
     ]
    }
   ],
   "source": [
    "df = fill_dataframe(folder_paths)\n",
    "print(df.info())\n",
    "print(df.head())\n",
    "\n",
    "    "
   ]
  },
  {
   "cell_type": "markdown",
   "metadata": {},
   "source": [
    "#   Dataset Cleaning"
   ]
  },
  {
   "cell_type": "code",
   "execution_count": 116,
   "metadata": {},
   "outputs": [
    {
     "name": "stdout",
     "output_type": "stream",
     "text": [
      "<class 'pandas.core.frame.DataFrame'>\n",
      "RangeIndex: 33 entries, 0 to 32\n",
      "Data columns (total 2 columns):\n",
      "Angle_array    33 non-null object\n",
      "Label          33 non-null int64\n",
      "dtypes: int64(1), object(1)\n",
      "memory usage: 656.0+ bytes\n"
     ]
    }
   ],
   "source": [
    "df.dropna()\n",
    "df.info()"
   ]
  },
  {
   "cell_type": "code",
   "execution_count": 117,
   "metadata": {},
   "outputs": [
    {
     "name": "stdout",
     "output_type": "stream",
     "text": [
      "99\n",
      "99\n",
      "99\n",
      "66\n",
      "66\n",
      "66\n",
      "69\n",
      "69\n",
      "69\n",
      "74\n",
      "74\n",
      "74\n",
      "66\n",
      "66\n",
      "66\n",
      "68\n",
      "68\n",
      "68\n",
      "70\n",
      "70\n",
      "70\n",
      "70\n",
      "70\n",
      "70\n",
      "65\n",
      "65\n",
      "65\n",
      "112\n",
      "112\n",
      "112\n",
      "88\n",
      "88\n",
      "88\n"
     ]
    }
   ],
   "source": [
    "t = df['Angle_array']\n",
    "\n",
    "for n in t:\n",
    "    print(n.size)"
   ]
  },
  {
   "cell_type": "code",
   "execution_count": 129,
   "metadata": {},
   "outputs": [],
   "source": [
    "from sklearn.model_selection import train_test_split\n",
    "from tslearn.neighbors import KNeighborsTimeSeriesClassifier\n",
    "from sklearn import metrics\n",
    "\n",
    "y = df.Label\n",
    "x = df.drop('Label', axis=1)\n"
   ]
  },
  {
   "cell_type": "code",
   "execution_count": 119,
   "metadata": {},
   "outputs": [
    {
     "data": {
      "text/html": [
       "<div>\n",
       "<style scoped>\n",
       "    .dataframe tbody tr th:only-of-type {\n",
       "        vertical-align: middle;\n",
       "    }\n",
       "\n",
       "    .dataframe tbody tr th {\n",
       "        vertical-align: top;\n",
       "    }\n",
       "\n",
       "    .dataframe thead th {\n",
       "        text-align: right;\n",
       "    }\n",
       "</style>\n",
       "<table border=\"1\" class=\"dataframe\">\n",
       "  <thead>\n",
       "    <tr style=\"text-align: right;\">\n",
       "      <th></th>\n",
       "      <th>Angle_array</th>\n",
       "    </tr>\n",
       "  </thead>\n",
       "  <tbody>\n",
       "    <tr>\n",
       "      <td>0</td>\n",
       "      <td>[170.7536123592761, 170.7536123592761, 170.753...</td>\n",
       "    </tr>\n",
       "    <tr>\n",
       "      <td>19</td>\n",
       "      <td>[7.00293838955028, 7.706088080838667, 7.706088...</td>\n",
       "    </tr>\n",
       "    <tr>\n",
       "      <td>13</td>\n",
       "      <td>[5.496729160731521, 5.496729160731521, 5.49672...</td>\n",
       "    </tr>\n",
       "    <tr>\n",
       "      <td>22</td>\n",
       "      <td>[3.14273656839872, 3.14273656839872, 2.5123444...</td>\n",
       "    </tr>\n",
       "    <tr>\n",
       "      <td>11</td>\n",
       "      <td>[176.52866111078774, 176.4652238755618, 175.93...</td>\n",
       "    </tr>\n",
       "  </tbody>\n",
       "</table>\n",
       "</div>"
      ],
      "text/plain": [
       "                                          Angle_array\n",
       "0   [170.7536123592761, 170.7536123592761, 170.753...\n",
       "19  [7.00293838955028, 7.706088080838667, 7.706088...\n",
       "13  [5.496729160731521, 5.496729160731521, 5.49672...\n",
       "22  [3.14273656839872, 3.14273656839872, 2.5123444...\n",
       "11  [176.52866111078774, 176.4652238755618, 175.93..."
      ]
     },
     "execution_count": 119,
     "metadata": {},
     "output_type": "execute_result"
    }
   ],
   "source": [
    "X_train, X_test, y_train, y_test = train_test_split(x, y, test_size=0.2)\n",
    "X_train.head()"
   ]
  },
  {
   "cell_type": "code",
   "execution_count": 127,
   "metadata": {},
   "outputs": [
    {
     "data": {
      "text/plain": [
       "(26, 1)"
      ]
     },
     "execution_count": 127,
     "metadata": {},
     "output_type": "execute_result"
    }
   ],
   "source": [
    "X_train.shape"
   ]
  },
  {
   "cell_type": "code",
   "execution_count": 123,
   "metadata": {},
   "outputs": [
    {
     "data": {
      "text/plain": [
       "(26,)"
      ]
     },
     "execution_count": 123,
     "metadata": {},
     "output_type": "execute_result"
    }
   ],
   "source": [
    "y_train.shape"
   ]
  },
  {
   "cell_type": "code",
   "execution_count": 121,
   "metadata": {},
   "outputs": [
    {
     "data": {
      "text/plain": [
       "(7, 1)"
      ]
     },
     "execution_count": 121,
     "metadata": {},
     "output_type": "execute_result"
    }
   ],
   "source": [
    "X_test.shape"
   ]
  },
  {
   "cell_type": "code",
   "execution_count": 125,
   "metadata": {},
   "outputs": [
    {
     "ename": "ValueError",
     "evalue": "setting an array element with a sequence.",
     "output_type": "error",
     "traceback": [
      "\u001b[1;31m---------------------------------------------------------------------------\u001b[0m",
      "\u001b[1;31mValueError\u001b[0m                                Traceback (most recent call last)",
      "\u001b[1;32m<ipython-input-125-7714485c7d10>\u001b[0m in \u001b[0;36m<module>\u001b[1;34m\u001b[0m\n\u001b[0;32m      4\u001b[0m \u001b[1;32mfor\u001b[0m \u001b[0mk\u001b[0m \u001b[1;32min\u001b[0m \u001b[0mk_range\u001b[0m\u001b[1;33m:\u001b[0m\u001b[1;33m\u001b[0m\u001b[1;33m\u001b[0m\u001b[0m\n\u001b[0;32m      5\u001b[0m     \u001b[0mknn_clf\u001b[0m \u001b[1;33m=\u001b[0m \u001b[0mKNeighborsTimeSeriesClassifier\u001b[0m\u001b[1;33m(\u001b[0m\u001b[0mn_neighbors\u001b[0m\u001b[1;33m=\u001b[0m\u001b[0mk\u001b[0m\u001b[1;33m,\u001b[0m \u001b[0mmetric\u001b[0m\u001b[1;33m=\u001b[0m\u001b[1;34m\"dtw\"\u001b[0m\u001b[1;33m)\u001b[0m\u001b[1;33m\u001b[0m\u001b[1;33m\u001b[0m\u001b[0m\n\u001b[1;32m----> 6\u001b[1;33m     \u001b[0mknn_clf\u001b[0m\u001b[1;33m.\u001b[0m\u001b[0mfit\u001b[0m\u001b[1;33m(\u001b[0m\u001b[0mX_train\u001b[0m\u001b[1;33m,\u001b[0m \u001b[0my_train\u001b[0m\u001b[1;33m)\u001b[0m\u001b[1;33m\u001b[0m\u001b[1;33m\u001b[0m\u001b[0m\n\u001b[0m\u001b[0;32m      7\u001b[0m     \u001b[0mpredicted_labels\u001b[0m \u001b[1;33m=\u001b[0m \u001b[0mknn_clf\u001b[0m\u001b[1;33m.\u001b[0m\u001b[0mpredict\u001b[0m\u001b[1;33m(\u001b[0m\u001b[0mX_test\u001b[0m\u001b[1;33m)\u001b[0m\u001b[1;33m\u001b[0m\u001b[1;33m\u001b[0m\u001b[0m\n\u001b[0;32m      8\u001b[0m     \u001b[0macc\u001b[0m \u001b[1;33m=\u001b[0m \u001b[0mmetrics\u001b[0m\u001b[1;33m.\u001b[0m\u001b[0maccuracy_score\u001b[0m\u001b[1;33m(\u001b[0m\u001b[0my_test\u001b[0m\u001b[1;33m,\u001b[0m \u001b[0mpredicted_labels\u001b[0m\u001b[1;33m)\u001b[0m\u001b[1;33m\u001b[0m\u001b[1;33m\u001b[0m\u001b[0m\n",
      "\u001b[1;32m~\\Anaconda3\\lib\\site-packages\\tslearn\\neighbors.py\u001b[0m in \u001b[0;36mfit\u001b[1;34m(self, X, y)\u001b[0m\n\u001b[0;32m    418\u001b[0m         X = check_array(X,\n\u001b[0;32m    419\u001b[0m                         \u001b[0mallow_nd\u001b[0m\u001b[1;33m=\u001b[0m\u001b[1;32mTrue\u001b[0m\u001b[1;33m,\u001b[0m\u001b[1;33m\u001b[0m\u001b[1;33m\u001b[0m\u001b[0m\n\u001b[1;32m--> 420\u001b[1;33m                         force_all_finite=(self.metric != \"precomputed\"))\n\u001b[0m\u001b[0;32m    421\u001b[0m         \u001b[0mX\u001b[0m \u001b[1;33m=\u001b[0m \u001b[0mto_time_series_dataset\u001b[0m\u001b[1;33m(\u001b[0m\u001b[0mX\u001b[0m\u001b[1;33m)\u001b[0m\u001b[1;33m\u001b[0m\u001b[1;33m\u001b[0m\u001b[0m\n\u001b[0;32m    422\u001b[0m         \u001b[0mX\u001b[0m \u001b[1;33m=\u001b[0m \u001b[0mcheck_dims\u001b[0m\u001b[1;33m(\u001b[0m\u001b[0mX\u001b[0m\u001b[1;33m,\u001b[0m \u001b[0mX_fit\u001b[0m\u001b[1;33m=\u001b[0m\u001b[1;32mNone\u001b[0m\u001b[1;33m)\u001b[0m\u001b[1;33m\u001b[0m\u001b[1;33m\u001b[0m\u001b[0m\n",
      "\u001b[1;32m~\\Anaconda3\\lib\\site-packages\\sklearn\\utils\\validation.py\u001b[0m in \u001b[0;36mcheck_array\u001b[1;34m(array, accept_sparse, accept_large_sparse, dtype, order, copy, force_all_finite, ensure_2d, allow_nd, ensure_min_samples, ensure_min_features, warn_on_dtype, estimator)\u001b[0m\n\u001b[0;32m    534\u001b[0m         \u001b[1;31m# make sure we actually converted to numeric:\u001b[0m\u001b[1;33m\u001b[0m\u001b[1;33m\u001b[0m\u001b[1;33m\u001b[0m\u001b[0m\n\u001b[0;32m    535\u001b[0m         \u001b[1;32mif\u001b[0m \u001b[0mdtype_numeric\u001b[0m \u001b[1;32mand\u001b[0m \u001b[0marray\u001b[0m\u001b[1;33m.\u001b[0m\u001b[0mdtype\u001b[0m\u001b[1;33m.\u001b[0m\u001b[0mkind\u001b[0m \u001b[1;33m==\u001b[0m \u001b[1;34m\"O\"\u001b[0m\u001b[1;33m:\u001b[0m\u001b[1;33m\u001b[0m\u001b[1;33m\u001b[0m\u001b[0m\n\u001b[1;32m--> 536\u001b[1;33m             \u001b[0marray\u001b[0m \u001b[1;33m=\u001b[0m \u001b[0marray\u001b[0m\u001b[1;33m.\u001b[0m\u001b[0mastype\u001b[0m\u001b[1;33m(\u001b[0m\u001b[0mnp\u001b[0m\u001b[1;33m.\u001b[0m\u001b[0mfloat64\u001b[0m\u001b[1;33m)\u001b[0m\u001b[1;33m\u001b[0m\u001b[1;33m\u001b[0m\u001b[0m\n\u001b[0m\u001b[0;32m    537\u001b[0m         \u001b[1;32mif\u001b[0m \u001b[1;32mnot\u001b[0m \u001b[0mallow_nd\u001b[0m \u001b[1;32mand\u001b[0m \u001b[0marray\u001b[0m\u001b[1;33m.\u001b[0m\u001b[0mndim\u001b[0m \u001b[1;33m>=\u001b[0m \u001b[1;36m3\u001b[0m\u001b[1;33m:\u001b[0m\u001b[1;33m\u001b[0m\u001b[1;33m\u001b[0m\u001b[0m\n\u001b[0;32m    538\u001b[0m             raise ValueError(\"Found array with dim %d. %s expected <= 2.\"\n",
      "\u001b[1;31mValueError\u001b[0m: setting an array element with a sequence."
     ]
    }
   ],
   "source": [
    "k_range = range(1, 26)\n",
    "scores = {}\n",
    "scores_list = []\n",
    "for k in k_range:\n",
    "    knn_clf = KNeighborsTimeSeriesClassifier(n_neighbors=k, metric=\"dtw\")\n",
    "    knn_clf.fit(X_train, y_train)\n",
    "    predicted_labels = knn_clf.predict(X_test)\n",
    "    acc = metrics.accuracy_score(y_test, predicted_labels)\n",
    "    scores[k] = acc\n",
    "    print(\"Correct classification rate:\", acc)\n"
   ]
  },
  {
   "cell_type": "code",
   "execution_count": null,
   "metadata": {},
   "outputs": [],
   "source": []
  }
 ],
 "metadata": {
  "kernelspec": {
   "display_name": "Python 3",
   "language": "python",
   "name": "python3"
  },
  "language_info": {
   "codemirror_mode": {
    "name": "ipython",
    "version": 3
   },
   "file_extension": ".py",
   "mimetype": "text/x-python",
   "name": "python",
   "nbconvert_exporter": "python",
   "pygments_lexer": "ipython3",
   "version": "3.7.4"
  }
 },
 "nbformat": 4,
 "nbformat_minor": 2
}
