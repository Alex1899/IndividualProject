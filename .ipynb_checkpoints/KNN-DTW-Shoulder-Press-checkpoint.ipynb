{
 "cells": [
  {
   "cell_type": "code",
   "execution_count": null,
   "metadata": {},
   "outputs": [],
   "source": [
    "!pip install --global-option=--noopenmp dtaidistance"
   ]
  },
  {
   "cell_type": "code",
   "execution_count": 8,
   "metadata": {},
   "outputs": [
    {
     "name": "stdout",
     "output_type": "stream",
     "text": [
      "Collecting matplotlib\n",
      "  Downloading https://files.pythonhosted.org/packages/bd/ab/30e83ac00e288fe315adc040270e1c0006a21cd31a7984d36f981e0178b4/matplotlib-3.2.0-cp36-cp36m-win_amd64.whl (9.2MB)\n",
      "Collecting pyparsing!=2.0.4,!=2.1.2,!=2.1.6,>=2.0.1 (from matplotlib)\n",
      "  Downloading https://files.pythonhosted.org/packages/5d/bc/1e58593167fade7b544bfe9502a26dc860940a79ab306e651e7f13be68c2/pyparsing-2.4.6-py2.py3-none-any.whl (67kB)\n",
      "Collecting cycler>=0.10 (from matplotlib)\n",
      "  Downloading https://files.pythonhosted.org/packages/f7/d2/e07d3ebb2bd7af696440ce7e754c59dd546ffe1bbe732c8ab68b9c834e61/cycler-0.10.0-py2.py3-none-any.whl\n",
      "Requirement already satisfied: numpy>=1.11 in c:\\apps\\anaconda3\\envs\\gpu-cuda10\\lib\\site-packages (from matplotlib) (1.16.4)\n",
      "Requirement already satisfied: python-dateutil>=2.1 in c:\\apps\\anaconda3\\envs\\gpu-cuda10\\lib\\site-packages (from matplotlib) (2.8.0)\n",
      "Collecting kiwisolver>=1.0.1 (from matplotlib)\n",
      "  Downloading https://files.pythonhosted.org/packages/64/46/75ab48386cbd56065f5542360562be524ad599911455b6d95520cb118613/kiwisolver-1.1.0-cp36-none-win_amd64.whl (57kB)\n",
      "Requirement already satisfied: six in c:\\apps\\anaconda3\\envs\\gpu-cuda10\\lib\\site-packages (from cycler>=0.10->matplotlib) (1.12.0)\n",
      "Requirement already satisfied: setuptools in c:\\apps\\anaconda3\\envs\\gpu-cuda10\\lib\\site-packages (from kiwisolver>=1.0.1->matplotlib) (41.0.1)\n",
      "Installing collected packages: pyparsing, cycler, kiwisolver, matplotlib\n",
      "Successfully installed cycler-0.10.0 kiwisolver-1.1.0 matplotlib-3.2.0 pyparsing-2.4.6\n"
     ]
    }
   ],
   "source": [
    "!pip install matplotlib --user"
   ]
  },
  {
   "cell_type": "code",
   "execution_count": 1,
   "metadata": {},
   "outputs": [],
   "source": [
    "from tslearn.neighbors import KNeighborsTimeSeriesClassifier\n",
    "from Parser import parse_frames\n",
    "from scipy.signal import medfilt\n",
    "from Functions import analyse_each_rep, find_extremas, filter_extremas, numpy_fillna, DTWDistance\n",
    "from JointAngles import JointAngles\n",
    "import numpy as np\n",
    "import glob\n",
    "import os\n",
    "import pickle\n",
    "import pandas as pd\n",
    "from functools import reduce\n",
    "import matplotlib.pyplot as plt\n"
   ]
  },
  {
   "cell_type": "markdown",
   "metadata": {},
   "source": [
    "# Skip this part"
   ]
  },
  {
   "cell_type": "code",
   "execution_count": 22,
   "metadata": {},
   "outputs": [
    {
     "name": "stdout",
     "output_type": "stream",
     "text": [
      "56\n"
     ]
    }
   ],
   "source": [
    "# input_folder = \"C:\\\\Users\\\\altaok\\\\Documents\\\\GitHub\\\\IndividualProject\\\\keypoints_for_all\\\\shoulder press\"\n",
    "input_folder = 'C:\\\\Users\\\\ak5u16\\\\Desktop\\\\IndividualProject\\\\keypoints_for_all\\\\shoulder_press'\n",
    "folder_paths = glob.glob(os.path.join(input_folder, 'shoulder_press*'))\n",
    "points_folder_name = os.path.basename(input_folder)\n",
    "\n",
    "print(len(folder_paths))\n",
    "\n",
    "\n",
    "def get_data_for_dataset(folder_paths, points_folder_name):\n",
    "    angle_arrays = []\n",
    "    for folder in folder_paths:\n",
    "        video_name = os.path.basename(folder)\n",
    "        label = 0 if '_correct' in folder else 1\n",
    "        frame_poses = parse_frames(folder)\n",
    "        joint_angles = JointAngles(points_folder_name, frame_poses)\n",
    "        \n",
    "        left_upArm_forearm_angles = np.array(joint_angles.left_upArm_forearm_angles)\n",
    "        left_upArm_forearm_angles = np.nan_to_num(left_upArm_forearm_angles)\n",
    "        left_upArm_forearm_angles_filtered = medfilt(medfilt(left_upArm_forearm_angles, 5), 5)\n",
    "            \n",
    "        right_upArm_forearm_angles = np.array(joint_angles.right_upArm_forearm_angles)\n",
    "        right_upArm_forearm_angles = np.nan_to_num(right_upArm_forearm_angles)\n",
    "        right_upArm_forearm_angles_filtered = medfilt(medfilt(right_upArm_forearm_angles, 5), 5)\n",
    "            \n",
    "        left_upArm_trunk_angles = np.array(joint_angles.left_upArm_trunk_angles)\n",
    "        left_upArm_trunk_angles = np.nan_to_num(left_upArm_trunk_angles)\n",
    "        left_upArm_trunk_angles_filtered = medfilt(medfilt(left_upArm_trunk_angles, 5), 5)\n",
    "            \n",
    "        right_upArm_trunk_angles = np.array(joint_angles.right_upArm_trunk_angles)\n",
    "        right_upArm_trunk_angles = np.nan_to_num(right_upArm_trunk_angles)\n",
    "        right_upArm_trunk_angles_filtered = medfilt(medfilt(right_upArm_trunk_angles, 5), 5)\n",
    "            \n",
    "        extremas1 = filter_extremas(left_upArm_trunk_angles_filtered, find_extremas(left_upArm_trunk_angles_filtered, maxima=False), maxima=False)\n",
    "        extremas2 = filter_extremas(right_upArm_trunk_angles_filtered, find_extremas(right_upArm_trunk_angles_filtered, maxima=False), maxima=False)\n",
    "            \n",
    "        angle_arrays.append((label, extremas1, extremas2, [left_upArm_forearm_angles, right_upArm_forearm_angles, left_upArm_trunk_angles, right_upArm_trunk_angles]))\n",
    "\n",
    "\n",
    "    return angle_arrays\n",
    "                                             \n",
    "                                    \n",
    "\n",
    "def fill_dataframe(angle_arrays, exercise_folder_name):\n",
    "    df_list = []\n",
    "    \n",
    "    print('Filling dataset with ' + str(exercise_folder_name) + ' data...')\n",
    "   \n",
    "    for tup in angle_arrays:\n",
    "        label = tup[0]\n",
    "        extremas1 = tup[1]\n",
    "        extremas2 = tup[2]\n",
    "        uf_angles1, uf_angles2, ut_angles1, ut_angles2 = tup[3]\n",
    "        # Extract rep angles\n",
    "        each_rep_angles = analyse_each_rep('shoulder press', 'dataset', extremas1=extremas1, uf_angles1=uf_angles1, ut_angles1=ut_angles1, extremas2=extremas2, uf_angles2=uf_angles2, ut_angles2=ut_angles2)\n",
    "        #print(len(each_rep_angles))\n",
    "        s1 = pd.Series(each_rep_angles, name='Angle_array')\n",
    "        s2 = pd.Series([label for n in range(len(each_rep_angles))], name='Label')\n",
    "        df = pd.concat([s1,s2], axis=1)\n",
    "        df_list.append(df)\n",
    "\n",
    "    return pd.concat(df_list).reset_index(drop=True)\n",
    "        "
   ]
  },
  {
   "cell_type": "code",
   "execution_count": 23,
   "metadata": {},
   "outputs": [
    {
     "name": "stdout",
     "output_type": "stream",
     "text": [
      "Filling dataset with shoulder_press data...\n",
      "<class 'pandas.core.frame.DataFrame'>\n",
      "RangeIndex: 1688 entries, 0 to 1687\n",
      "Data columns (total 2 columns):\n",
      "Angle_array    1688 non-null object\n",
      "Label          1688 non-null int64\n",
      "dtypes: int64(1), object(1)\n",
      "memory usage: 26.5+ KB\n",
      "None\n"
     ]
    }
   ],
   "source": [
    "angle_arrays = get_data_for_dataset(folder_paths, points_folder_name) \n",
    "df = fill_dataframe(angle_arrays, points_folder_name)\n",
    "print(df.info())"
   ]
  },
  {
   "cell_type": "markdown",
   "metadata": {},
   "source": [
    "# Import dataset using pickle and perform clustering\n"
   ]
  },
  {
   "cell_type": "code",
   "execution_count": 2,
   "metadata": {
    "scrolled": false
   },
   "outputs": [
    {
     "data": {
      "text/html": [
       "<div>\n",
       "<style scoped>\n",
       "    .dataframe tbody tr th:only-of-type {\n",
       "        vertical-align: middle;\n",
       "    }\n",
       "\n",
       "    .dataframe tbody tr th {\n",
       "        vertical-align: top;\n",
       "    }\n",
       "\n",
       "    .dataframe thead th {\n",
       "        text-align: right;\n",
       "    }\n",
       "</style>\n",
       "<table border=\"1\" class=\"dataframe\">\n",
       "  <thead>\n",
       "    <tr style=\"text-align: right;\">\n",
       "      <th></th>\n",
       "      <th>Angle_array</th>\n",
       "      <th>Label</th>\n",
       "    </tr>\n",
       "  </thead>\n",
       "  <tbody>\n",
       "    <tr>\n",
       "      <td>0</td>\n",
       "      <td>[0.07383579138263291, 0.07977534904672522, 0.0...</td>\n",
       "      <td>0</td>\n",
       "    </tr>\n",
       "    <tr>\n",
       "      <td>1</td>\n",
       "      <td>[0.07805600078605343, 0.08245581416422067, 0.0...</td>\n",
       "      <td>0</td>\n",
       "    </tr>\n",
       "    <tr>\n",
       "      <td>2</td>\n",
       "      <td>[0.07297306314947144, 0.07437788135427122, 0.0...</td>\n",
       "      <td>0</td>\n",
       "    </tr>\n",
       "    <tr>\n",
       "      <td>3</td>\n",
       "      <td>[0.07986056130818786, 0.0850233173055284, 0.08...</td>\n",
       "      <td>0</td>\n",
       "    </tr>\n",
       "    <tr>\n",
       "      <td>4</td>\n",
       "      <td>[0.07088168326058121, 0.07224573945043973, 0.0...</td>\n",
       "      <td>0</td>\n",
       "    </tr>\n",
       "  </tbody>\n",
       "</table>\n",
       "</div>"
      ],
      "text/plain": [
       "                                         Angle_array  Label\n",
       "0  [0.07383579138263291, 0.07977534904672522, 0.0...      0\n",
       "1  [0.07805600078605343, 0.08245581416422067, 0.0...      0\n",
       "2  [0.07297306314947144, 0.07437788135427122, 0.0...      0\n",
       "3  [0.07986056130818786, 0.0850233173055284, 0.08...      0\n",
       "4  [0.07088168326058121, 0.07224573945043973, 0.0...      0"
      ]
     },
     "execution_count": 2,
     "metadata": {},
     "output_type": "execute_result"
    }
   ],
   "source": [
    "df = pickle.load( open( \"datasets/shoulder_press_df.pickle\", \"rb\" ) )\n",
    "\n",
    "#col_update = pd.DataFrame({'Angle_array': numpy_fillna(df['Angle_array'].values).tolist()})\n",
    "#df.update(col_update)\n",
    "df['Angle_array'] = df['Angle_array'].apply(lambda x: x / np.linalg.norm(x))\n",
    "\n",
    "\n",
    "\n",
    " "
   ]
  },
  {
   "cell_type": "code",
   "execution_count": 14,
   "metadata": {},
   "outputs": [
    {
     "data": {
      "text/html": [
       "<div>\n",
       "<style scoped>\n",
       "    .dataframe tbody tr th:only-of-type {\n",
       "        vertical-align: middle;\n",
       "    }\n",
       "\n",
       "    .dataframe tbody tr th {\n",
       "        vertical-align: top;\n",
       "    }\n",
       "\n",
       "    .dataframe thead th {\n",
       "        text-align: right;\n",
       "    }\n",
       "</style>\n",
       "<table border=\"1\" class=\"dataframe\">\n",
       "  <thead>\n",
       "    <tr style=\"text-align: right;\">\n",
       "      <th></th>\n",
       "      <th>Angle_array</th>\n",
       "      <th>Label</th>\n",
       "    </tr>\n",
       "  </thead>\n",
       "  <tbody>\n",
       "    <tr>\n",
       "      <td>1683</td>\n",
       "      <td>[0.12103272746981561, 0.1210505472681445, 0.12...</td>\n",
       "      <td>1</td>\n",
       "    </tr>\n",
       "    <tr>\n",
       "      <td>1684</td>\n",
       "      <td>[0.12843393353494395, 0.12911819695472443, 0.1...</td>\n",
       "      <td>1</td>\n",
       "    </tr>\n",
       "    <tr>\n",
       "      <td>1685</td>\n",
       "      <td>[0.12789677594087517, 0.13208306170781517, 0.1...</td>\n",
       "      <td>1</td>\n",
       "    </tr>\n",
       "    <tr>\n",
       "      <td>1686</td>\n",
       "      <td>[0.12690270570458803, 0.1268985513474579, 0.12...</td>\n",
       "      <td>1</td>\n",
       "    </tr>\n",
       "    <tr>\n",
       "      <td>1687</td>\n",
       "      <td>[0.13052651387525194, 0.13054011448106123, 0.1...</td>\n",
       "      <td>1</td>\n",
       "    </tr>\n",
       "  </tbody>\n",
       "</table>\n",
       "</div>"
      ],
      "text/plain": [
       "                                            Angle_array  Label\n",
       "1683  [0.12103272746981561, 0.1210505472681445, 0.12...      1\n",
       "1684  [0.12843393353494395, 0.12911819695472443, 0.1...      1\n",
       "1685  [0.12789677594087517, 0.13208306170781517, 0.1...      1\n",
       "1686  [0.12690270570458803, 0.1268985513474579, 0.12...      1\n",
       "1687  [0.13052651387525194, 0.13054011448106123, 0.1...      1"
      ]
     },
     "execution_count": 14,
     "metadata": {},
     "output_type": "execute_result"
    }
   ],
   "source": [
    "df.tail()"
   ]
  },
  {
   "cell_type": "code",
   "execution_count": 26,
   "metadata": {
    "scrolled": false
   },
   "outputs": [
    {
     "data": {
      "image/png": "[encoded data removed]",
      "text/plain": [
       "<Figure size 432x288 with 1 Axes>"
      ]
     },
     "metadata": {},
     "output_type": "display_data"
    }
   ],
   "source": [
    "from dtaidistance import dtw, clustering\n",
    "import seaborn as sns;sns.set()\n",
    "\n",
    "series = df.Angle_array.values.tolist()\n",
    "#model1 = clustering.Hierarchical(dtw.distance_matrix_fast, {})\n",
    "#cluster_idx = model1.fit(series)\n",
    "# Augment Hierarchical object to keep track of the full tree\n",
    "#model2 = clustering.HierarchicalTree(model1)\n",
    "#cluster_idx = model2.fit(series)\n",
    "# SciPy linkage clustering\n",
    "#model = clustering.LinkageTree(dtw.distance_matrix_fast, {}, method='single')\n",
    "#cluster_idx = model.fit(series)\n",
    "\n",
    "timeseries = pd.DataFrame()\n",
    "ax = None\n",
    "series = series[:2]\n",
    "for ts in series:\n",
    "    #print('Entered')\n",
    "    df_ts = pd.DataFrame(ts)\n",
    "    timeseries = timeseries.append(df_ts)\n",
    "    ax = sns.lineplot(data=df_ts.values)\n",
    "plt.show()\n"
   ]
  },
  {
   "cell_type": "code",
   "execution_count": null,
   "metadata": {},
   "outputs": [],
   "source": []
  },
  {
   "cell_type": "code",
   "execution_count": null,
   "metadata": {},
   "outputs": [],
   "source": []
  },
  {
   "cell_type": "code",
   "execution_count": 24,
   "metadata": {},
   "outputs": [
    {
     "data": {
      "text/plain": [
       "numpy.ndarray"
      ]
     },
     "execution_count": 24,
     "metadata": {},
     "output_type": "execute_result"
    },
    {
     "data": {
      "image/png": "[encoded data removed]",
      "text/plain": [
       "<Figure size 720x504 with 1 Axes>"
      ]
     },
     "metadata": {
      "needs_background": "light"
     },
     "output_type": "display_data"
    }
   ],
   "source": [
    "import scipy.cluster.hierarchy as shc\n",
    "plt.figure(figsize=(10, 7))  \n",
    "plt.title(\"Dendrograms\")  \n",
    "dend = shc.dendrogram(shc.linkage(data_scaled, method='ward'))"
   ]
  },
  {
   "cell_type": "code",
   "execution_count": 54,
   "metadata": {},
   "outputs": [
    {
     "name": "stdout",
     "output_type": "stream",
     "text": [
      "[[0.         0.03380431 0.01991006 ... 0.3060875  0.29315313 0.3120431 ]\n",
      " [0.         0.         0.04711526 ... 0.27398871 0.26290212 0.27587267]\n",
      " [0.         0.         0.         ... 0.2855553  0.27332249 0.29256775]\n",
      " ...\n",
      " [0.         0.         0.         ... 0.         0.01787175 0.01445876]\n",
      " [0.         0.         0.         ... 0.         0.         0.0247402 ]\n",
      " [0.         0.         0.         ... 0.         0.         0.        ]]\n"
     ]
    },
    {
     "data": {
      "text/plain": [
       "array([0, 0, 0, ..., 0, 0, 0], dtype=int64)"
      ]
     },
     "execution_count": 54,
     "metadata": {},
     "output_type": "execute_result"
    }
   ],
   "source": [
    "from sklearn.cluster import AgglomerativeClustering\n",
    "series = df.Angle_array.values.tolist()\n",
    "ds = dtw.distance_matrix_fast(series)\n",
    "ds[ds == np.inf] = 0\n",
    "print(ds)\n",
    "cluster = AgglomerativeClustering(n_clusters=2, affinity='precomputed', linkage='single')  \n",
    "cluster.fit_predict(ds)"
   ]
  },
  {
   "cell_type": "code",
   "execution_count": 47,
   "metadata": {},
   "outputs": [
    {
     "data": {
      "text/plain": [
       "(None, None)"
      ]
     },
     "execution_count": 47,
     "metadata": {},
     "output_type": "execute_result"
    }
   ],
   "source": [
    "model.plot(\"myplot.png\")"
   ]
  },
  {
   "cell_type": "code",
   "execution_count": 46,
   "metadata": {},
   "outputs": [
    {
     "name": "stdout",
     "output_type": "stream",
     "text": [
      "None\n"
     ]
    }
   ],
   "source": [
    "print(cluster_idx)"
   ]
  },
  {
   "cell_type": "code",
   "execution_count": 21,
   "metadata": {},
   "outputs": [],
   "source": [
    "from sklearn.model_selection import train_test_split\n",
    "from tslearn.neighbors import KNeighborsTimeSeriesClassifier\n",
    "from sklearn.neighbors import KNeighborsClassifier\n",
    "from sklearn import metrics\n",
    "\n",
    "y = df['Label']\n",
    "x = df['Angle_array']\n",
    "#x = numpy_fillna(x)\n"
   ]
  },
  {
   "cell_type": "code",
   "execution_count": 26,
   "metadata": {},
   "outputs": [
    {
     "data": {
      "text/plain": [
       "(1350,)"
      ]
     },
     "execution_count": 26,
     "metadata": {},
     "output_type": "execute_result"
    }
   ],
   "source": [
    "X_train, X_test, y_train, y_test = train_test_split(x, y, test_size=0.2)\n",
    "X_train.shape"
   ]
  },
  {
   "cell_type": "code",
   "execution_count": 27,
   "metadata": {},
   "outputs": [
    {
     "data": {
      "text/plain": [
       "(338,)"
      ]
     },
     "execution_count": 27,
     "metadata": {},
     "output_type": "execute_result"
    }
   ],
   "source": [
    "X_test.shape"
   ]
  },
  {
   "cell_type": "code",
   "execution_count": 30,
   "metadata": {},
   "outputs": [
    {
     "name": "stdout",
     "output_type": "stream",
     "text": [
      "best value for k: 3 - 0.9497041420118343\n"
     ]
    }
   ],
   "source": [
    "k_range = range(1, 26) #26\n",
    "scores = {}\n",
    "scores_list = []\n",
    "for k in k_range:\n",
    "    knn_clf = KNeighborsTimeSeriesClassifier(n_neighbors=k, metric=\"dtw\", n_jobs=-1)\n",
    "    #knn_clf = KNeighborsClassifier(k, n_jobs=-1)\n",
    "    knn_clf.fit(numpy_fillna(X_train.values), y_train)\n",
    "    #knn_clf.fit(X_train, y_train)\n",
    "    predicted_labels = knn_clf.predict(numpy_fillna(X_test.values))\n",
    "    acc = metrics.accuracy_score(y_test, predicted_labels)\n",
    "    scores[k] = acc\n",
    "    #print(\"Correct classification rate:\", acc)\n",
    "    #print('\\n')\n",
    "    #print(metrics.classification_report(y_test, predicted_labels))\n",
    "    #print('F1 score: ' + str(metrics.f1_score(y_test, predicted_labels, average='macro')))\n",
    "\n",
    "\n",
    "for key, value in scores.items():   \n",
    "    if value == max(scores.values()):\n",
    "        print('best value for k: ' + str(key) + ' - ' + str(value))\n",
    "        break"
   ]
  },
  {
   "cell_type": "code",
   "execution_count": 24,
   "metadata": {},
   "outputs": [],
   "source": [
    "with open('datasets/shoulder_press_df.pickle', 'wb') as f:\n",
    "    pickle.dump(df, f)"
   ]
  },
  {
   "cell_type": "code",
   "execution_count": null,
   "metadata": {},
   "outputs": [],
   "source": []
  }
 ],
 "metadata": {
  "kernelspec": {
   "display_name": "Python 3",
   "language": "python",
   "name": "python3"
  },
  "language_info": {
   "codemirror_mode": {
    "name": "ipython",
    "version": 3
   },
   "file_extension": ".py",
   "mimetype": "text/x-python",
   "name": "python",
   "nbconvert_exporter": "python",
   "pygments_lexer": "ipython3",
   "version": "3.6.9"
  }
 },
 "nbformat": 4,
 "nbformat_minor": 2
}
