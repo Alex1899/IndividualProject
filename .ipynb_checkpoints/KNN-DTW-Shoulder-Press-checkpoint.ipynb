{
 "cells": [
  {
   "cell_type": "code",
   "execution_count": 1,
   "metadata": {},
   "outputs": [],
   "source": [
    "from tslearn.neighbors import KNeighborsTimeSeriesClassifier\n",
    "from Parser import parse_frames\n",
    "from scipy.signal import medfilt\n",
    "from Functions import analyse_each_rep, find_extremas\n",
    "from JointAngles import JointAngles\n",
    "import numpy as np\n",
    "import glob\n",
    "import os\n",
    "import pickle\n",
    "import pandas as pd\n",
    "from functools import reduce\n"
   ]
  },
  {
   "cell_type": "code",
   "execution_count": 10,
   "metadata": {},
   "outputs": [],
   "source": [
    "# input_folder = \"C:\\\\Users\\\\altaok\\\\Documents\\\\GitHub\\\\IndividualProject\\\\keypoints_for_all\\\\shoulder press\"\n",
    "input_folder = 'C:\\\\Users\\\\ak5u16\\\\Desktop\\\\IndividualProject\\\\keypoints_for_all\\\\shoulder press'\n",
    "folder_paths = glob.glob(os.path.join(input_folder, 'shoulder_press*'))\n",
    "points_folder_name = os.path.basename(input_folder)\n",
    "\n",
    "\n",
    "def get_data_for_dataset(folder_paths, points_folder_name):\n",
    "    angle_arrays = []\n",
    "    for folder in folder_paths:\n",
    "        video_name = os.path.basename(folder)\n",
    "        label = 0 if 'correct' in folder else 1\n",
    "        frame_poses = parse_frames(folder)\n",
    "        joint_angles = JointAngles(points_folder_name, frame_poses)\n",
    "        \n",
    "        if points_folder_name == 'shoulder press':  \n",
    "            left_upArm_forearm_angles = np.array(joint_angles.left_upArm_forearm_angles)\n",
    "            left_upArm_forearm_angles = np.nan_to_num(left_upArm_forearm_angles)\n",
    "            left_upArm_forearm_angles_filtered = medfilt(medfilt(left_upArm_forearm_angles, 5), 5)\n",
    "            \n",
    "            right_upArm_forearm_angles = np.array(joint_angles.right_upArm_forearm_angles)\n",
    "            right_upArm_forearm_angles = np.nan_to_num(right_upArm_forearm_angles)\n",
    "            right_upArm_forearm_angles_filtered = medfilt(medfilt(right_upArm_forearm_angles, 5), 5)\n",
    "            \n",
    "            left_upArm_trunk_angles = np.array(joint_angles.left_upArm_trunk_angles)\n",
    "            left_upArm_trunk_angles = np.nan_to_num(left_upArm_trunk_angles)\n",
    "            left_upArm_trunk_angles_filtered = medfilt(medfilt(left_upArm_trunk_angles, 5), 5)\n",
    "            \n",
    "            right_upArm_trunk_angles = np.array(joint_angles.right_upArm_trunk_angles)\n",
    "            right_upArm_trunk_angles = np.nan_to_num(right_upArm_trunk_angles)\n",
    "            right_upArm_trunk_angles_filtered = medfilt(medfilt(right_upArm_trunk_angles, 5), 5)\n",
    "            \n",
    "            extremas1 = filter_extremas(left_upArm_trunk_angles_filtered, find_extremas(left_upArm_trunk_angles_filtered, maxima=False), maxima=False)\n",
    "            extremas2 = filter_extremas(right_upArm_trunk_angles_filtered, find_extremas(right_upArm_trunk_angles_filtered, maxima=False), maxima=False)\n",
    "            \n",
    "            angle_arrays.append((label, extremas1, extremas2, [left_upArm_forearm_angles, right_upArm_forearm_angles, left_upArm_trunk_angles, right_upArm_trunk_angles]))\n",
    "\n",
    "           \n",
    "        else: \n",
    "            print('Error: Wrong folder path! Has to be: shoulder press')\n",
    "      \n",
    "        return angle_arrays\n",
    "                                             \n",
    "                                    \n",
    "\n",
    "def fill_dataframe(angle_arrays, exercise_folder_name):\n",
    "    df_list = []\n",
    "    \n",
    "    print('Filling dataset with ' + str(exercise_folder_name) + ' data...')\n",
    "   \n",
    "    for tup in angle_arrays:\n",
    "        label = tup[0]\n",
    "        extremas1 = tup[1]\n",
    "        extremas2 = tup[2]\n",
    "        uf_angles1, uf_angles2, ut_angles1, ut_angles2 = tup[3]\n",
    "        # Extract rep angles\n",
    "        each_side_rep_angles = analyse_each_rep('shoulder press', 'dataset', extremas1=extremas1, uf_angles1=uf_angles1, ut_angles1=ut_angles1, extremas2=extremas2, uf_angles2=uf_angles2, ut_angles2=ut_angles2)\n",
    "       \n",
    "        s1 = pd.Series(each_rep_angles, name='Angle_array')\n",
    "        s2 = pd.Series([label for n in range(len(each_rep_angles))], name='Label')\n",
    "        df = pd.concat([s1,s2], axis=1)\n",
    "        df_list.append(df)\n",
    "\n",
    "    return pd.concat(df_list).reset_index(drop=True)\n",
    "        "
   ]
  },
  {
   "cell_type": "code",
   "execution_count": 11,
   "metadata": {},
   "outputs": [
    {
     "name": "stdout",
     "output_type": "stream",
     "text": [
      "Filling dataset with shoulder press data...\n",
      "Error: Rep counts for left and right arms are not equal\n"
     ]
    },
    {
     "ename": "AttributeError",
     "evalue": "'tuple' object has no attribute 'size'",
     "output_type": "error",
     "traceback": [
      "\u001b[1;31m---------------------------------------------------------------------------\u001b[0m",
      "\u001b[1;31mAttributeError\u001b[0m                            Traceback (most recent call last)",
      "\u001b[1;32m<ipython-input-11-e1b967ad0b58>\u001b[0m in \u001b[0;36m<module>\u001b[1;34m\u001b[0m\n\u001b[0;32m      1\u001b[0m \u001b[0mangle_arrays\u001b[0m \u001b[1;33m=\u001b[0m \u001b[0mget_data_for_dataset\u001b[0m\u001b[1;33m(\u001b[0m\u001b[0mfolder_paths\u001b[0m\u001b[1;33m,\u001b[0m \u001b[0mpoints_folder_name\u001b[0m\u001b[1;33m)\u001b[0m\u001b[1;33m\u001b[0m\u001b[1;33m\u001b[0m\u001b[0m\n\u001b[1;32m----> 2\u001b[1;33m \u001b[0mdf\u001b[0m \u001b[1;33m=\u001b[0m \u001b[0mfill_dataframe\u001b[0m\u001b[1;33m(\u001b[0m\u001b[0mangle_arrays\u001b[0m\u001b[1;33m,\u001b[0m \u001b[0mpoints_folder_name\u001b[0m\u001b[1;33m)\u001b[0m\u001b[1;33m\u001b[0m\u001b[1;33m\u001b[0m\u001b[0m\n\u001b[0m\u001b[0;32m      3\u001b[0m \u001b[0mprint\u001b[0m\u001b[1;33m(\u001b[0m\u001b[0mdf\u001b[0m\u001b[1;33m.\u001b[0m\u001b[0minfo\u001b[0m\u001b[1;33m(\u001b[0m\u001b[1;33m)\u001b[0m\u001b[1;33m)\u001b[0m\u001b[1;33m\u001b[0m\u001b[1;33m\u001b[0m\u001b[0m\n",
      "\u001b[1;32m<ipython-input-10-7167bbd584e2>\u001b[0m in \u001b[0;36mfill_dataframe\u001b[1;34m(angle_arrays, exercise_folder_name)\u001b[0m\n\u001b[0;32m     55\u001b[0m         \u001b[1;31m# Extract rep angles\u001b[0m\u001b[1;33m\u001b[0m\u001b[1;33m\u001b[0m\u001b[1;33m\u001b[0m\u001b[0m\n\u001b[0;32m     56\u001b[0m         \u001b[0meach_rep_angles\u001b[0m \u001b[1;33m=\u001b[0m \u001b[0manalyse_each_rep\u001b[0m\u001b[1;33m(\u001b[0m\u001b[1;34m'shoulder press'\u001b[0m\u001b[1;33m,\u001b[0m \u001b[1;34m'dataset'\u001b[0m\u001b[1;33m,\u001b[0m \u001b[0mextremas1\u001b[0m\u001b[1;33m=\u001b[0m\u001b[0mextremas1\u001b[0m\u001b[1;33m,\u001b[0m \u001b[0muf_angles1\u001b[0m\u001b[1;33m=\u001b[0m\u001b[0muf_angles1\u001b[0m\u001b[1;33m,\u001b[0m \u001b[0mut_angles1\u001b[0m\u001b[1;33m=\u001b[0m\u001b[0mut_angles1\u001b[0m\u001b[1;33m,\u001b[0m \u001b[0mextremas2\u001b[0m\u001b[1;33m=\u001b[0m\u001b[0mextremas2\u001b[0m\u001b[1;33m,\u001b[0m \u001b[0muf_angles2\u001b[0m\u001b[1;33m=\u001b[0m\u001b[0muf_angles2\u001b[0m\u001b[1;33m,\u001b[0m \u001b[0mut_angles2\u001b[0m\u001b[1;33m=\u001b[0m\u001b[0mut_angles2\u001b[0m\u001b[1;33m)\u001b[0m\u001b[1;33m\u001b[0m\u001b[1;33m\u001b[0m\u001b[0m\n\u001b[1;32m---> 57\u001b[1;33m         \u001b[0mprint\u001b[0m\u001b[1;33m(\u001b[0m\u001b[0meach_rep_angles\u001b[0m\u001b[1;33m.\u001b[0m\u001b[0msize\u001b[0m\u001b[1;33m)\u001b[0m\u001b[1;33m\u001b[0m\u001b[1;33m\u001b[0m\u001b[0m\n\u001b[0m\u001b[0;32m     58\u001b[0m         \u001b[0ms1\u001b[0m \u001b[1;33m=\u001b[0m \u001b[0mpd\u001b[0m\u001b[1;33m.\u001b[0m\u001b[0mSeries\u001b[0m\u001b[1;33m(\u001b[0m\u001b[0meach_rep_angles\u001b[0m\u001b[1;33m,\u001b[0m \u001b[0mname\u001b[0m\u001b[1;33m=\u001b[0m\u001b[1;34m'Angle_array'\u001b[0m\u001b[1;33m)\u001b[0m\u001b[1;33m\u001b[0m\u001b[1;33m\u001b[0m\u001b[0m\n\u001b[0;32m     59\u001b[0m         \u001b[0ms2\u001b[0m \u001b[1;33m=\u001b[0m \u001b[0mpd\u001b[0m\u001b[1;33m.\u001b[0m\u001b[0mSeries\u001b[0m\u001b[1;33m(\u001b[0m\u001b[1;33m[\u001b[0m\u001b[0mlabel\u001b[0m \u001b[1;32mfor\u001b[0m \u001b[0mn\u001b[0m \u001b[1;32min\u001b[0m \u001b[0mrange\u001b[0m\u001b[1;33m(\u001b[0m\u001b[0mlen\u001b[0m\u001b[1;33m(\u001b[0m\u001b[0meach_rep_angles\u001b[0m\u001b[1;33m)\u001b[0m\u001b[1;33m)\u001b[0m\u001b[1;33m]\u001b[0m\u001b[1;33m,\u001b[0m \u001b[0mname\u001b[0m\u001b[1;33m=\u001b[0m\u001b[1;34m'Label'\u001b[0m\u001b[1;33m)\u001b[0m\u001b[1;33m\u001b[0m\u001b[1;33m\u001b[0m\u001b[0m\n",
      "\u001b[1;31mAttributeError\u001b[0m: 'tuple' object has no attribute 'size'"
     ]
    }
   ],
   "source": [
    "angle_arrays = get_data_for_dataset(folder_paths, points_folder_name) \n",
    "df = fill_dataframe(angle_arrays, points_folder_name)\n",
    "print(df.info())"
   ]
  },
  {
   "cell_type": "code",
   "execution_count": null,
   "metadata": {},
   "outputs": [],
   "source": []
  }
 ],
 "metadata": {
  "kernelspec": {
   "display_name": "Python 3",
   "language": "python",
   "name": "python3"
  },
  "language_info": {
   "codemirror_mode": {
    "name": "ipython",
    "version": 3
   },
   "file_extension": ".py",
   "mimetype": "text/x-python",
   "name": "python",
   "nbconvert_exporter": "python",
   "pygments_lexer": "ipython3",
   "version": "3.6.9"
  }
 },
 "nbformat": 4,
 "nbformat_minor": 2
}
