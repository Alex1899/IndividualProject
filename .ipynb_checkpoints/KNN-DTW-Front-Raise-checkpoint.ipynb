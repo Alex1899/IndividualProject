{
 "cells": [
  {
   "cell_type": "code",
   "execution_count": 14,
   "metadata": {},
   "outputs": [],
   "source": [
    "from tslearn.neighbors import KNeighborsTimeSeriesClassifier\n",
    "from Parser import parse_frames\n",
    "from scipy.signal import medfilt\n",
    "from Functions import analyse_each_rep, find_extremas, numpy_fillna, filter_extremas\n",
    "from JointAngles import JointAngles\n",
    "import numpy as np\n",
    "import glob\n",
    "import os\n",
    "import pickle\n",
    "import pandas as pd\n",
    "from functools import reduce\n"
   ]
  },
  {
   "cell_type": "code",
   "execution_count": 17,
   "metadata": {},
   "outputs": [],
   "source": [
    "# input_folder = \"C:\\\\Users\\\\altaok\\\\Documents\\\\GitHub\\\\IndividualProject\\\\keypoints_for_all\\\\shoulder press\"\n",
    "input_folder = 'C:\\\\Users\\\\ak5u16\\\\Desktop\\\\IndividualProject\\\\keypoints_for_all\\\\front raise'\n",
    "folder_paths = glob.glob(os.path.join(input_folder, 'front_raise*'))\n",
    "points_folder_name = os.path.basename(input_folder)\n",
    "\n",
    "\n",
    "def get_data_for_dataset(folder_paths, points_folder_name):\n",
    "    angle_arrays = []\n",
    "    if points_folder_name == 'front raise':  \n",
    "        for folder in folder_paths:\n",
    "            video_name = os.path.basename(folder)\n",
    "            label = 0 if '_correct' in folder else 1\n",
    "            frame_poses = parse_frames(folder)\n",
    "            joint_angles = JointAngles(points_folder_name, frame_poses)\n",
    "\n",
    "            upArm_forearm_angles = np.array(joint_angles.upArm_forearm_angles)\n",
    "            upArm_forearm_angles = np.nan_to_num(upArm_forearm_angles)\n",
    "            upArm_forearm_angles_filtered = medfilt(medfilt(upArm_forearm_angles, 5), 5)\n",
    "\n",
    "            upArm_trunk_angles = np.array(joint_angles.upArm_trunk_angles)\n",
    "            upArm_trunk_angles = np.nan_to_num(upArm_trunk_angles)\n",
    "            upArm_trunk_angles_filtered = medfilt(medfilt(upArm_trunk_angles, 5), 5)\n",
    "\n",
    "            trunk_knee_angles = np.array(joint_angles.trunk_knee_angles)\n",
    "            trunk_knee_angles = np.nan_to_num(trunk_knee_angles)\n",
    "            trunk_knee_angles_filtered = medfilt(medfilt(trunk_knee_angles, 5), 5)\n",
    "\n",
    "            #number of reps \n",
    "            extremas = filter_extremas(upArm_trunk_angles_filtered, find_extremas(upArm_trunk_angles_filtered, maxima=False), maxima=False)\n",
    "            angle_arrays.append((label, extremas, [upArm_forearm_angles_filtered, upArm_trunk_angles_filtered, trunk_knee_angles_filtered]))\n",
    "\n",
    "        return angle_arrays\n",
    "      \n",
    "    else:\n",
    "        print('Error: Wrong folder path! Has to be: front raise')\n",
    "                                             \n",
    "                                    \n",
    "\n",
    "def fill_dataframe(angle_arrays, exercise_folder_name):\n",
    "    df_list = []\n",
    "\n",
    "    print('Filling dataset with ' + str(exercise_folder_name) + ' data...')\n",
    "   \n",
    "    for tup in angle_arrays:\n",
    "        label = tup[0]\n",
    "        extremas = tup[1]\n",
    "        uf_angles, ut_angles, tk_angles = tup[2]\n",
    "        # Extract rep angles\n",
    "        each_rep_angles = analyse_each_rep('front raise', 'dataset', extremas, uf_angles, ut_angles, tk_angles)\n",
    "        s1 = pd.Series(each_rep_angles, name='Angle_array')\n",
    "        s2 = pd.Series([label for n in range(len(each_rep_angles))], name='Label')\n",
    "        df = pd.concat([s1,s2], axis=1)\n",
    "        df_list.append(df)\n",
    "\n",
    "    return pd.concat(df_list).reset_index(drop=True)\n",
    "\n",
    "        "
   ]
  },
  {
   "cell_type": "code",
   "execution_count": 18,
   "metadata": {},
   "outputs": [
    {
     "name": "stdout",
     "output_type": "stream",
     "text": [
      "Filling dataset with front raise data...\n",
      "<class 'pandas.core.frame.DataFrame'>\n",
      "RangeIndex: 1002 entries, 0 to 1001\n",
      "Data columns (total 2 columns):\n",
      "Angle_array    1002 non-null object\n",
      "Label          1002 non-null int64\n",
      "dtypes: int64(1), object(1)\n",
      "memory usage: 15.8+ KB\n",
      "None\n"
     ]
    }
   ],
   "source": [
    "angle_arrays = get_data_for_dataset(folder_paths, points_folder_name) \n",
    "df = fill_dataframe(angle_arrays, points_folder_name)\n",
    "print(df.info())"
   ]
  },
  {
   "cell_type": "code",
   "execution_count": 19,
   "metadata": {},
   "outputs": [
    {
     "name": "stdout",
     "output_type": "stream",
     "text": [
      "(801,)\n",
      "(201,)\n"
     ]
    }
   ],
   "source": [
    "from sklearn.model_selection import train_test_split\n",
    "from tslearn.neighbors import KNeighborsTimeSeriesClassifier\n",
    "from sklearn.neighbors import KNeighborsClassifier\n",
    "from sklearn import metrics\n",
    "\n",
    "y = df['Label']\n",
    "x = df['Angle_array']\n",
    "#x = numpy_fillna(x)\n",
    "\n",
    "X_train, X_test, y_train, y_test = train_test_split(x, y, test_size=0.2)\n",
    "print(X_train.shape)\n",
    "print(X_test.shape)"
   ]
  },
  {
   "cell_type": "code",
   "execution_count": 20,
   "metadata": {},
   "outputs": [
    {
     "name": "stdout",
     "output_type": "stream",
     "text": [
      "Correct classification rate: 0.9154228855721394\n",
      "\n",
      "\n",
      "              precision    recall  f1-score   support\n",
      "\n",
      "           0       0.92      0.97      0.95       160\n",
      "           1       0.88      0.68      0.77        41\n",
      "\n",
      "    accuracy                           0.92       201\n",
      "   macro avg       0.90      0.83      0.86       201\n",
      "weighted avg       0.91      0.92      0.91       201\n",
      "\n",
      "0.8577257775742183\n"
     ]
    }
   ],
   "source": [
    "k_range = range(1, 2) #26\n",
    "scores = {}\n",
    "scores_list = []\n",
    "for k in k_range:\n",
    "    knn_clf = KNeighborsTimeSeriesClassifier(n_neighbors=k, metric=\"dtw\", n_jobs=-1)\n",
    "    #knn_clf = KNeighborsClassifier(k, n_jobs=-1)\n",
    "    knn_clf.fit(numpy_fillna(X_train.values), y_train)\n",
    "    predicted_labels = knn_clf.predict(numpy_fillna(X_test.values))\n",
    "    acc = metrics.accuracy_score(y_test, predicted_labels)\n",
    "    scores[k] = acc\n",
    "    print(\"Correct classification rate:\", acc)\n",
    "    print('\\n')\n",
    "    print(metrics.classification_report(y_test, predicted_labels))\n",
    "    print('F1 score:', metrics.f1_score(y_test, predicted_labels, average='macro'))\n"
   ]
  },
  {
   "cell_type": "code",
   "execution_count": null,
   "metadata": {},
   "outputs": [],
   "source": []
  }
 ],
 "metadata": {
  "kernelspec": {
   "display_name": "Python 3",
   "language": "python",
   "name": "python3"
  },
  "language_info": {
   "codemirror_mode": {
    "name": "ipython",
    "version": 3
   },
   "file_extension": ".py",
   "mimetype": "text/x-python",
   "name": "python",
   "nbconvert_exporter": "python",
   "pygments_lexer": "ipython3",
   "version": "3.6.9"
  }
 },
 "nbformat": 4,
 "nbformat_minor": 2
}
