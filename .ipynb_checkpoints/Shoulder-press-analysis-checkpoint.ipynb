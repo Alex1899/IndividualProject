{
 "cells": [
  {
   "cell_type": "code",
   "execution_count": 1,
   "metadata": {},
   "outputs": [],
   "source": [
    "from Parser import parse_frames\n",
    "from scipy.signal import medfilt\n",
    "from Functions import find_extremas, filter_extremas, detect_side, analyse_each_rep\n",
    "from JointAngles import JointAngles\n",
    "import numpy as np\n",
    "import math\n",
    "import glob\n",
    "import os\n",
    "import itertools\n",
    "import itertools\n",
    "import pickle\n",
    "import matplotlib.pyplot as plt\n"
   ]
  },
  {
   "cell_type": "code",
   "execution_count": 3,
   "metadata": {},
   "outputs": [
    {
     "name": "stdout",
     "output_type": "stream",
     "text": [
      "[1, 1, 2, 3]\n"
     ]
    }
   ],
   "source": [
    "a = [1,2,3]\n",
    "b = [1,2,1,2,3]\n",
    "b.remove(a[1])\n",
    "print(b)"
   ]
  },
  {
   "cell_type": "code",
   "execution_count": 2,
   "metadata": {
    "scrolled": false
   },
   "outputs": [],
   "source": [
    "# modify this path for other videos \n",
    "# input_folder = \"/home/aleko/Documents/Projects/IndividualProject/bicepvid\"\n",
    "# input_folder = \"C:\\\\Users\\\\altaok\\\\Documents\\\\GitHub\\\\IndividualProject\\\\keypoints_for_all\\\\shoulder press\"\n",
    "input_folder = 'C:\\\\Users\\\\ak5u16\\\\Desktop\\\\IndividualProject\\\\keypoints_for_all\\\\shoulder press'\n",
    "folder_paths = glob.glob(os.path.join(input_folder, 'shoulder_press_correct*'))     \n",
    "\n",
    "        \n",
    "\n",
    "for folder in folder_paths:\n",
    "    print(\"Starting...\" + \"\\nKeypoints from folder: \" + os.path.basename(folder))\n",
    "    video_name = os.path.basename(folder).replace('output_points_', '')\n",
    "    frame_poses = parse_frames(folder)\n",
    "       \n",
    "    joint_angles = JointAngles('shoulder press', frame_poses)\n",
    "    print('Detected side: ' + joint_angles.side)\n",
    "   \n",
    "\n",
    "    left_upArm_trunk_angles = np.array(joint_angles.left_upArm_trunk_angles)\n",
    "    left_upArm_trunk_angles_filtered = medfilt(medfilt(left_upArm_trunk_angles, 5), 5)\n",
    "    \n",
    "    right_upArm_trunk_angles = np.array(joint_angles.right_upArm_trunk_angles)\n",
    "    right_upArm_trunk_angles_filtered = medfilt(medfilt(right_upArm_trunk_angles, 5), 5)\n",
    "    \n",
    "    left_upArm_forearm_angles = np.array(joint_angles.left_upArm_forearm_angles)\n",
    "    left_upArm_forearm_angles_filtered = medfilt(medfilt(left_upArm_forearm_angles, 5), 5)\n",
    "    \n",
    "    right_upArm_forearm_angles = np.array(joint_angles.right_upArm_forearm_angles)\n",
    "    right_upArm_forearm_angles_filtered = medfilt(medfilt(right_upArm_forearm_angles, 5), 5)\n",
    "    \n",
    "        \n",
    "    # Find left upper arm and trunk maximum angles to detect wrong form \n",
    "    left_upArm_trunk_maximas, indexesmax1a = find_extremas(left_upArm_trunk_angles_filtered)\n",
    "    left_upArm_trunk_maximas = filter_extremas(left_upArm_trunk_angles_filtered, left_upArm_trunk_maximas)\n",
    "    \n",
    "    # print(\"Largest angles between upper arm and trunk: \" + str(upArm_trunk_maximas))\n",
    "    # Find right upper arm and trunk maximum angles to detect wrong form \n",
    "    right_upArm_trunk_maximas, indexesmax1b = find_extremas(right_upArm_trunk_angles_filtered)\n",
    "    right_upArm_trunk_maximas = filter_extremas(right_upArm_trunk_angles_filtered, right_upArm_trunk_maximas)\n",
    "    \n",
    "    # Count repetitions\n",
    "    left_upArm_forearm_maximas, indexesmax2a = find_extremas(left_upArm_forearm_angles_filtered)    \n",
    "    left_upArm_forearm_maximas = filter_extremas(left_upArm_forearm_angles_filtered, left_upArm_forearm_maximas)\n",
    "    # print(\"Number of maxima points between Upper Arm and Forearm: \" + str(upArm_forearm_maximas.size))\n",
    "    # print(upArm_forearm_maximas)\n",
    "    \n",
    "    right_upArm_forearm_maximas, indexesmax2b = find_extremas(right_upArm_forearm_angles_filtered) \n",
    "    right_upArm_forearm_maximas = filter_extremas(right_upArm_forearm_angles_filtered, right_upArm_forearm_maximas)\n",
    "   \n",
    "\n",
    "    # Find upper arm and forearm minimum points to count reps     \n",
    "    left_upArm_forearm_minimas, indexesmin1a = find_extremas(left_upArm_forearm_angles_filtered, maxima=False)\n",
    "    print('----------------------\\nFiltering minimas')\n",
    "    print(left_upArm_forearm_minimas)\n",
    "    left_upArm_forearm_minimas = filter_extremas(left_upArm_forearm_angles_filtered,left_upArm_forearm_minimas, False)\n",
    "  \n",
    "    print(\"Number of reps performed LEFT: \" + str(left_upArm_forearm_minimas.size))\n",
    "    # print(left_upArm_forearm_minimas)\n",
    "    \n",
    "    right_upArm_forearm_minimas, indexesmin1b = find_extremas(right_upArm_forearm_angles_filtered, maxima=False)\n",
    "    print('----------------------\\nFiltering minimas')\n",
    "    print(right_upArm_forearm_minimas)\n",
    "    right_upArm_forearm_minimas = filter_extremas(right_upArm_forearm_angles_filtered, right_upArm_forearm_minimas, False)\n",
    "    print(\"Number of reps performed RIGHT: \" + str(right_upArm_forearm_minimas.size))\n",
    "    \n",
    "    left_upArm_trunk_minimas, indexesmin2a = find_extremas(left_upArm_trunk_angles_filtered, maxima=False)\n",
    "    left_upArm_trunk_minimas = filter_extremas(left_upArm_trunk_angles_filtered, left_upArm_trunk_minimas, False)\n",
    "    right_upArm_trunk_minimas, indexesmin2b = find_extremas(right_upArm_trunk_angles_filtered, maxima=False)\n",
    "    right_upArm_trunk_minimas = filter_extremas(right_upArm_trunk_angles_filtered, right_upArm_trunk_minimas, False)\n",
    "    print('\\n'+ '-'*120 + '\\nLEFT ARM'.center(100) + '\\n' + '-'*120 )\n",
    "    # Plot 1 - Left\n",
    "    plt.figure(figsize=(10,4))\n",
    "    plt.scatter(np.arange(left_upArm_trunk_angles.shape[0]), left_upArm_trunk_angles, alpha=0.5)\n",
    "    plt.scatter(np.arange(left_upArm_trunk_angles_filtered.shape[0]), left_upArm_trunk_angles_filtered, c='r', alpha=0.5)\n",
    "    plt.title(video_name)\n",
    "    plt.xlabel('Frames')\n",
    "    plt.ylabel('Angle between LEFT Upper Arm and Trunk')\n",
    "    # Set range on y-axis so the plots are consistent\n",
    "    plt.ylim(0,200)\n",
    "    \n",
    "    # Annontate minima points\n",
    "    plt.plot(indexesmin2a, left_upArm_trunk_angles_filtered[indexesmin2a], 'bo')\n",
    "    # print(indexesmax1a)\n",
    "    plt.show()\n",
    "    \n",
    "    # Plot 2 - Left\n",
    "    plt.figure(figsize=(10,4))\n",
    "    plt.scatter(np.arange(left_upArm_forearm_angles.shape[0]), left_upArm_forearm_angles, alpha=0.5)\n",
    "    plt.scatter(np.arange(left_upArm_forearm_angles_filtered.shape[0]), left_upArm_forearm_angles_filtered, c='r', alpha=0.5)\n",
    "    plt.title(video_name)\n",
    "    plt.xlabel('Frames')\n",
    "    plt.ylabel('Angle between LEFT Upper Arm and Forearm')\n",
    "    # Set range on y-axis so the plots are consistent\n",
    "    plt.ylim(0,200) \n",
    "    \n",
    "    # Annotate minima apoints on the graph   \n",
    "    max_points1a = left_upArm_forearm_angles_filtered[indexesmax2a]\n",
    "    min_points1a = left_upArm_forearm_angles_filtered[indexesmin1a]\n",
    "    plt.plot(indexesmin1a, min_points1a, 'bo')\n",
    "    plt.plot(indexesmax2a, max_points1a, 'ks')\n",
    "\n",
    "    \"\"\"\n",
    "        # Annotate local maximas\n",
    "        for maxp, indx in zip(max_points, indexesmax2):\n",
    "            plt.annotate('local max', xy=(indx, maxp), xytext=(indx, maxp+25),\n",
    "                    arrowprops=dict(facecolor='black', shrink=0.05))\n",
    "\n",
    "        # Annotate local minimas\n",
    "        for minp, indx in zip(min_points, indexesmin):\n",
    "            plt.annotate('local min', xy=(indx, minp), xytext=(indx, minp-35),\n",
    "                    arrowprops=dict(facecolor='black', shrink=0.05))     \n",
    "    \"\"\"\n",
    "    \n",
    "    plt.show()\n",
    "    \n",
    "    # Plot 3 - All angles LEFT\n",
    "    plt.figure(figsize=(10,4))\n",
    "    plt.scatter(np.arange(left_upArm_forearm_angles_filtered.shape[0]), left_upArm_forearm_angles_filtered, c='r', alpha=0.5)\n",
    "    plt.scatter(np.arange(left_upArm_trunk_angles_filtered.shape[0]), left_upArm_trunk_angles_filtered, c='r', alpha=0.5)\n",
    "    \n",
    "    plt.title(video_name)\n",
    "    plt.xlabel('Frames')\n",
    "    plt.ylabel('Whole body movement LEFT')\n",
    "    # Set range on y-axis so the plots are consistent\n",
    "    plt.ylim(0,200) \n",
    "    # Annotate minima apoints   \n",
    "    plt.plot(indexesmin1a, left_upArm_forearm_angles_filtered[indexesmin1a], 'bo')\n",
    "    plt.plot(indexesmax1a, left_upArm_trunk_angles_filtered[indexesmax1a], 'ks')\n",
    "    plt.plot(indexesmax2a, left_upArm_forearm_angles_filtered[indexesmax2a], 'ks')  \n",
    "    plt.show()\n",
    "   \n",
    "    \n",
    "    #---------------------------------------------------------------------------------------------------------------------\n",
    "    # Same for right side\n",
    "    \n",
    "    print('\\n'+ '-'*120 + '\\nRIGHT ARM'.center(200) + '\\n' + '-'*120 )\n",
    "    \n",
    "    # Plot 3 - Right\n",
    "    plt.figure(figsize=(10,4))\n",
    "    plt.scatter(np.arange(right_upArm_trunk_angles.shape[0]), right_upArm_trunk_angles, alpha=0.5)\n",
    "    plt.scatter(np.arange(right_upArm_trunk_angles_filtered.shape[0]), right_upArm_trunk_angles_filtered, c='r', alpha=0.5)\n",
    "    plt.title(video_name)\n",
    "    plt.xlabel('Frames')\n",
    "    plt.ylabel('Angle between RIGHT Upper Arm and Trunk')\n",
    "    # Set range on y-axis so the plots are consistent\n",
    "    plt.ylim(0,200)\n",
    "    \n",
    "    # Annontate minima points\n",
    "    plt.plot(indexesmin2b, right_upArm_trunk_angles_filtered[indexesmin2b], 'bo')\n",
    "    plt.show()\n",
    "\n",
    "    # Plot 3 - Right\n",
    "    plt.figure(figsize=(10,4))\n",
    "    plt.scatter(np.arange(right_upArm_forearm_angles.shape[0]), right_upArm_forearm_angles, alpha=0.5)\n",
    "    plt.scatter(np.arange(right_upArm_forearm_angles_filtered.shape[0]), right_upArm_forearm_angles_filtered, c='r', alpha=0.5)\n",
    "    plt.title(video_name)\n",
    "    plt.xlabel('Frames')\n",
    "    plt.ylabel('Angle between RIGHT Upper Arm and Forearm')\n",
    "    # Set range on y-axis so the plots are consistent\n",
    "    plt.ylim(0,200) \n",
    "    \n",
    "    # Annotate minima apoints on the graph   \n",
    "    max_points1b = right_upArm_forearm_angles_filtered[indexesmax2b]\n",
    "    min_points1b = right_upArm_forearm_angles_filtered[indexesmin1b]\n",
    "    plt.plot(indexesmin1b, min_points1b, 'bo')\n",
    "    plt.plot(indexesmax2b, max_points1b, 'ks')\n",
    "    \n",
    "    \"\"\"\n",
    "        # Annotate local maximas\n",
    "        for maxp, indx in zip(max_points1b, indexesmax2b):\n",
    "            plt.annotate('local max', xy=(indx, maxp), xytext=(indx, maxp+25),\n",
    "                    arrowprops=dict(facecolor='black', shrink=0.05))\n",
    "\n",
    "        # Annotate local minimas\n",
    "        for minp, indx in zip(min_points, indexesmin):\n",
    "            plt.annotate('local min', xy=(indx, minp), xytext=(indx, minp-35),\n",
    "                    arrowprops=dict(facecolor='black', shrink=0.05))     \n",
    "    \"\"\"\n",
    "    plt.show()\n",
    "\n",
    "\n",
    "    # Plot 4 - All angles RIGHT\n",
    "    plt.figure(figsize=(10,4))\n",
    "    plt.scatter(np.arange(right_upArm_forearm_angles_filtered.shape[0]), right_upArm_forearm_angles_filtered, c='r', alpha=0.5)\n",
    "    plt.scatter(np.arange(right_upArm_trunk_angles_filtered.shape[0]), right_upArm_trunk_angles_filtered, c='r', alpha=0.5)\n",
    "    plt.title(video_name)\n",
    "    plt.xlabel('Frames')\n",
    "    plt.ylabel('Whole body movement RIGHT')\n",
    "    # Set range on y-axis so the plots are consistent\n",
    "    plt.ylim(0,200) \n",
    "    # Annotate minima apoints     \n",
    "    plt.plot(indexesmin1b, right_upArm_forearm_angles_filtered[indexesmin1b], 'bo')\n",
    "    plt.plot(indexesmax1b, right_upArm_trunk_angles_filtered[indexesmax1b], 'ks')\n",
    "    plt.plot(indexesmax2b, right_upArm_forearm_angles_filtered[indexesmax2b], 'ks')\n",
    "    plt.show()\n",
    "   \n",
    "    \n",
    "    # Each rep analysis\n",
    "    # local minimums for upper arm and forearm are min angles in each rep\n",
    "    analyse_each_rep(string='analysis', extremas1=left_upArm_forearm_minimas, uf_angles1a=left_upArm_forearm_angles_filtered, ut_angles2a=left_upArm_trunk_angles_filtered,\n",
    "                    extremas2=right_upArm_forearm_minimas, uf_angles1b=right_upArm_forearm_angles_filtered, ut_angles2b=right_upArm_trunk_angles_filtered)\n",
    "    \n",
    "\n",
    "    print('\\n' + '='*120 + '\\n')\n"
   ]
  },
  {
   "cell_type": "code",
   "execution_count": 3,
   "metadata": {},
   "outputs": [
    {
     "name": "stdout",
     "output_type": "stream",
     "text": [
      "[2 3]\n"
     ]
    }
   ],
   "source": [
    "a = np.array([1,2,3])\n",
    "print(a[1:])"
   ]
  },
  {
   "cell_type": "code",
   "execution_count": 4,
   "metadata": {},
   "outputs": [
    {
     "data": {
      "text/plain": [
       "array([ 0,  1,  2,  3,  4,  5,  6,  7,  8,  9, 10, 11, 12, 13, 14, 15, 16,\n",
       "       17, 18, 19, 20, 21, 22, 23])"
      ]
     },
     "execution_count": 4,
     "metadata": {},
     "output_type": "execute_result"
    }
   ],
   "source": [
    "np.arange(24)"
   ]
  },
  {
   "cell_type": "code",
   "execution_count": 4,
   "metadata": {},
   "outputs": [
    {
     "name": "stdout",
     "output_type": "stream",
     "text": [
      "3\n",
      "4\n",
      "5\n",
      "5\n",
      "5\n",
      "6\n",
      "6\n",
      "7\n",
      "7\n",
      "8\n"
     ]
    }
   ],
   "source": [
    "for a, b in itertools.combinations([1,2,3,4,4], 2):\n",
    "    print(a+b)"
   ]
  },
  {
   "cell_type": "code",
   "execution_count": 14,
   "metadata": {},
   "outputs": [
    {
     "name": "stdout",
     "output_type": "stream",
     "text": [
      "[1]\n",
      "[1 4 5]\n"
     ]
    }
   ],
   "source": [
    "a = np.array([1,3,4,5])\n",
    "index = np.where(a == 3)\n",
    "print(index[0])\n",
    "a = np.delete(a, index[0][0])\n",
    "print(a)\n"
   ]
  },
  {
   "cell_type": "code",
   "execution_count": 15,
   "metadata": {},
   "outputs": [
    {
     "name": "stdout",
     "output_type": "stream",
     "text": [
      "dict_items([(1, ('a', 'b')), (2, ('b', 't'))])\n"
     ]
    }
   ],
   "source": [
    "d = {1:'a', 2:'b'}\n",
    "g = {1:'b', 2:'t'}\n",
    "\n",
    "ds = [d, g]\n",
    "a = {}\n",
    "for k in d.keys():\n",
    "    a[k] = tuple(d[k] for d in ds)\n",
    "print(a.items())"
   ]
  }
 ],
 "metadata": {
  "kernelspec": {
   "display_name": "Python 3",
   "language": "python",
   "name": "python3"
  },
  "language_info": {
   "codemirror_mode": {
    "name": "ipython",
    "version": 3
   },
   "file_extension": ".py",
   "mimetype": "text/x-python",
   "name": "python",
   "nbconvert_exporter": "python",
   "pygments_lexer": "ipython3",
   "version": "3.6.9"
  }
 },
 "nbformat": 4,
 "nbformat_minor": 2
}
