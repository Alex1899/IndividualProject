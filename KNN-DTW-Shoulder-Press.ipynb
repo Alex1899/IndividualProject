{
 "cells": [
  {
   "cell_type": "code",
   "execution_count": 1,
   "metadata": {},
   "outputs": [],
   "source": [
    "from tslearn.neighbors import KNeighborsTimeSeriesClassifier\n",
    "from Parser import parse_frames\n",
    "from scipy.signal import medfilt\n",
    "from Functions import analyse_each_rep, find_extremas, filter_extremas, numpy_fillna, DTWDistance\n",
    "from JointAngles import JointAngles\n",
    "import numpy as np\n",
    "import glob\n",
    "import os\n",
    "import pickle\n",
    "import pandas as pd\n",
    "from functools import reduce\n"
   ]
  },
  {
   "cell_type": "code",
   "execution_count": 3,
   "metadata": {},
   "outputs": [
    {
     "name": "stdout",
     "output_type": "stream",
     "text": [
      "56\n"
     ]
    }
   ],
   "source": [
    "# input_folder = \"C:\\\\Users\\\\altaok\\\\Documents\\\\GitHub\\\\IndividualProject\\\\keypoints_for_all\\\\shoulder press\"\n",
    "input_folder = 'C:\\\\Users\\\\ak5u16\\\\Desktop\\\\IndividualProject\\\\keypoints_for_all\\\\shoulder press'\n",
    "folder_paths = glob.glob(os.path.join(input_folder, 'shoulder_press*'))\n",
    "points_folder_name = os.path.basename(input_folder)\n",
    "\n",
    "print(len(folder_paths))\n",
    "\n",
    "\n",
    "def get_data_for_dataset(folder_paths, points_folder_name):\n",
    "    angle_arrays = []\n",
    "    for folder in folder_paths:\n",
    "        video_name = os.path.basename(folder)\n",
    "        label = 0 if '_correct' in folder else 1\n",
    "        frame_poses = parse_frames(folder)\n",
    "        joint_angles = JointAngles(points_folder_name, frame_poses)\n",
    "        \n",
    "        left_upArm_forearm_angles = np.array(joint_angles.left_upArm_forearm_angles)\n",
    "        left_upArm_forearm_angles = np.nan_to_num(left_upArm_forearm_angles)\n",
    "        left_upArm_forearm_angles_filtered = medfilt(medfilt(left_upArm_forearm_angles, 5), 5)\n",
    "            \n",
    "        right_upArm_forearm_angles = np.array(joint_angles.right_upArm_forearm_angles)\n",
    "        right_upArm_forearm_angles = np.nan_to_num(right_upArm_forearm_angles)\n",
    "        right_upArm_forearm_angles_filtered = medfilt(medfilt(right_upArm_forearm_angles, 5), 5)\n",
    "            \n",
    "        left_upArm_trunk_angles = np.array(joint_angles.left_upArm_trunk_angles)\n",
    "        left_upArm_trunk_angles = np.nan_to_num(left_upArm_trunk_angles)\n",
    "        left_upArm_trunk_angles_filtered = medfilt(medfilt(left_upArm_trunk_angles, 5), 5)\n",
    "            \n",
    "        right_upArm_trunk_angles = np.array(joint_angles.right_upArm_trunk_angles)\n",
    "        right_upArm_trunk_angles = np.nan_to_num(right_upArm_trunk_angles)\n",
    "        right_upArm_trunk_angles_filtered = medfilt(medfilt(right_upArm_trunk_angles, 5), 5)\n",
    "            \n",
    "        extremas1 = filter_extremas(left_upArm_trunk_angles_filtered, find_extremas(left_upArm_trunk_angles_filtered, maxima=False), maxima=False)\n",
    "        extremas2 = filter_extremas(right_upArm_trunk_angles_filtered, find_extremas(right_upArm_trunk_angles_filtered, maxima=False), maxima=False)\n",
    "            \n",
    "        angle_arrays.append((label, extremas1, extremas2, [left_upArm_forearm_angles, right_upArm_forearm_angles, left_upArm_trunk_angles, right_upArm_trunk_angles]))\n",
    "\n",
    "\n",
    "    return angle_arrays\n",
    "                                             \n",
    "                                    \n",
    "\n",
    "def fill_dataframe(angle_arrays, exercise_folder_name):\n",
    "    df_list = []\n",
    "    \n",
    "    print('Filling dataset with ' + str(exercise_folder_name) + ' data...')\n",
    "   \n",
    "    for tup in angle_arrays:\n",
    "        label = tup[0]\n",
    "        extremas1 = tup[1]\n",
    "        extremas2 = tup[2]\n",
    "        uf_angles1, uf_angles2, ut_angles1, ut_angles2 = tup[3]\n",
    "        # Extract rep angles\n",
    "        each_rep_angles = analyse_each_rep('shoulder press', 'dataset', extremas1=extremas1, uf_angles1=uf_angles1, ut_angles1=ut_angles1, extremas2=extremas2, uf_angles2=uf_angles2, ut_angles2=ut_angles2)\n",
    "        #print(len(each_rep_angles))\n",
    "        s1 = pd.Series(each_rep_angles, name='Angle_array')\n",
    "        s2 = pd.Series([label for n in range(len(each_rep_angles))], name='Label')\n",
    "        df = pd.concat([s1,s2], axis=1)\n",
    "        df_list.append(df)\n",
    "\n",
    "    return pd.concat(df_list).reset_index(drop=True)\n",
    "        "
   ]
  },
  {
   "cell_type": "code",
   "execution_count": 11,
   "metadata": {},
   "outputs": [
    {
     "name": "stdout",
     "output_type": "stream",
     "text": [
      "Filling dataset with shoulder press data...\n",
      "<class 'pandas.core.frame.DataFrame'>\n",
      "RangeIndex: 1688 entries, 0 to 1687\n",
      "Data columns (total 2 columns):\n",
      "Angle_array    1688 non-null object\n",
      "Label          1688 non-null int64\n",
      "dtypes: int64(1), object(1)\n",
      "memory usage: 26.5+ KB\n",
      "None\n"
     ]
    }
   ],
   "source": [
    "angle_arrays = get_data_for_dataset(folder_paths, points_folder_name) \n",
    "df = fill_dataframe(angle_arrays, points_folder_name)\n",
    "print(df.info())"
   ]
  },
  {
   "cell_type": "code",
   "execution_count": 21,
   "metadata": {},
   "outputs": [],
   "source": [
    "from sklearn.model_selection import train_test_split\n",
    "from tslearn.neighbors import KNeighborsTimeSeriesClassifier\n",
    "from sklearn.neighbors import KNeighborsClassifier\n",
    "from sklearn import metrics\n",
    "\n",
    "y = df['Label']\n",
    "x = df['Angle_array']\n",
    "#x = numpy_fillna(x)\n"
   ]
  },
  {
   "cell_type": "code",
   "execution_count": 26,
   "metadata": {},
   "outputs": [
    {
     "data": {
      "text/plain": [
       "(1350,)"
      ]
     },
     "execution_count": 26,
     "metadata": {},
     "output_type": "execute_result"
    }
   ],
   "source": [
    "X_train, X_test, y_train, y_test = train_test_split(x, y, test_size=0.2)\n",
    "X_train.shape"
   ]
  },
  {
   "cell_type": "code",
   "execution_count": 27,
   "metadata": {},
   "outputs": [
    {
     "data": {
      "text/plain": [
       "(338,)"
      ]
     },
     "execution_count": 27,
     "metadata": {},
     "output_type": "execute_result"
    }
   ],
   "source": [
    "X_test.shape"
   ]
  },
  {
   "cell_type": "code",
   "execution_count": 30,
   "metadata": {},
   "outputs": [
    {
     "name": "stdout",
     "output_type": "stream",
     "text": [
      "best value for k: 3 - 0.9497041420118343\n"
     ]
    }
   ],
   "source": [
    "k_range = range(1, 26) #26\n",
    "scores = {}\n",
    "scores_list = []\n",
    "for k in k_range:\n",
    "    knn_clf = KNeighborsTimeSeriesClassifier(n_neighbors=k, metric=\"dtw\", n_jobs=-1)\n",
    "    #knn_clf = KNeighborsClassifier(k, n_jobs=-1)\n",
    "    knn_clf.fit(numpy_fillna(X_train.values), y_train)\n",
    "    #knn_clf.fit(X_train, y_train)\n",
    "    predicted_labels = knn_clf.predict(numpy_fillna(X_test.values))\n",
    "    acc = metrics.accuracy_score(y_test, predicted_labels)\n",
    "    scores[k] = acc\n",
    "    #print(\"Correct classification rate:\", acc)\n",
    "    #print('\\n')\n",
    "    #print(metrics.classification_report(y_test, predicted_labels))\n",
    "    #print('F1 score: ' + str(metrics.f1_score(y_test, predicted_labels, average='macro')))\n",
    "\n",
    "\n",
    "for key, value in scores.items():   \n",
    "    if value == max(scores.values()):\n",
    "        print('best value for k: ' + str(key) + ' - ' + str(value))\n",
    "        break"
   ]
  },
  {
   "cell_type": "code",
   "execution_count": 29,
   "metadata": {},
   "outputs": [],
   "source": [
    "with open('datasets/shoulder_press_df.pickle', 'wb') as f:\n",
    "    pickle.dump(df, f)"
   ]
  },
  {
   "cell_type": "code",
   "execution_count": null,
   "metadata": {},
   "outputs": [],
   "source": []
  }
 ],
 "metadata": {
  "kernelspec": {
   "display_name": "Python 3",
   "language": "python",
   "name": "python3"
  },
  "language_info": {
   "codemirror_mode": {
    "name": "ipython",
    "version": 3
   },
   "file_extension": ".py",
   "mimetype": "text/x-python",
   "name": "python",
   "nbconvert_exporter": "python",
   "pygments_lexer": "ipython3",
   "version": "3.6.9"
  }
 },
 "nbformat": 4,
 "nbformat_minor": 2
}
